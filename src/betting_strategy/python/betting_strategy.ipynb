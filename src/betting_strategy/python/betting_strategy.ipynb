{
 "cells": [
  {
   "cell_type": "code",
   "execution_count": 4,
   "metadata": {
    "collapsed": false
   },
   "outputs": [],
   "source": [
    "import gurobipy as grb\n",
    "import pandas as pd\n",
    "import numpy as np\n",
    "\n"
   ]
  },
  {
   "cell_type": "code",
   "execution_count": 5,
   "metadata": {
    "collapsed": false
   },
   "outputs": [
    {
     "name": "stdout",
     "output_type": "stream",
     "text": [
      "121115.csv  baidu-121115.csv  betting_strategy.ipynb\r\n"
     ]
    }
   ],
   "source": [
    "!ls"
   ]
  },
  {
   "cell_type": "code",
   "execution_count": 10,
   "metadata": {
    "collapsed": false
   },
   "outputs": [
    {
     "data": {
      "text/plain": [
       "(Index(['Home vs Away', 'Home Win', 'Home Draw', 'Home Lost', 'b365H', 'b365D',\n",
       "        'b365A', 'bwinH', 'bwinD', 'bwinA', 'result'],\n",
       "       dtype='object'),\n",
       "                     Home vs Away  Home Win  Home Draw  Home Lost  b365H  \\\n",
       " 0        Norwich City vs Everton      0.31       0.32       0.37   3.20   \n",
       " 1  Crystal Palace vs Southampton      0.33       0.34       0.33   2.40   \n",
       " 2              West Ham vs Stoke      0.33       0.33       0.34   2.10   \n",
       " 3            Man City vs Swansea      0.51       0.28       0.21   1.25   \n",
       " 4          Sunderland vs Watford      0.29       0.31       0.40   2.70   \n",
       " \n",
       "    b365D  b365A  bwinH  bwinD  bwinA  result  \n",
       " 0   3.30   2.25   3.00   3.30   2.30     NaN  \n",
       " 1   3.30   2.88   2.50   3.20   2.80     NaN  \n",
       " 2   3.30   3.50   2.05   3.30   3.60     NaN  \n",
       " 3   6.00  10.00   1.30   5.25   8.75     NaN  \n",
       " 4   3.25   2.60   2.70   3.10   2.65     NaN  )"
      ]
     },
     "execution_count": 10,
     "metadata": {},
     "output_type": "execute_result"
    }
   ],
   "source": [
    "data = pd.read_csv('121115.csv')\n",
    "data.columns, data.head()\n"
   ]
  },
  {
   "cell_type": "code",
   "execution_count": 75,
   "metadata": {
    "collapsed": false
   },
   "outputs": [
    {
     "data": {
      "text/plain": [
       "(68, 3)"
      ]
     },
     "execution_count": 75,
     "metadata": {},
     "output_type": "execute_result"
    }
   ],
   "source": [
    "p_games = data[['Home Win', 'Home Draw', 'Home Lost']]\n",
    "num_of_games = p_games.shape[0]\n",
    "\n",
    "num_of_results = 3\n",
    "\n",
    "b365 = data[['b365H', 'b365D', 'b365A']]\n",
    "bwin = data[['bwinH', 'bwinD', 'bwinA']]\n",
    "bookmakers = [b365, bwin]\n",
    "num_of_bookmakers = len(bookmakers)\n",
    "head_to_head = data['Home vs Away']\n",
    "names = [['b365'] * num_of_games + ['bwin'] * num_of_games,\n",
    "          list(head_to_head) * num_of_bookmakers]\n",
    "bookmakers = pd.DataFrame(np.concatenate((b365.values, bwin.values)), index=names, columns=['Home', 'Draw', 'Away'])\n",
    "bookmakers.shape"
   ]
  },
  {
   "cell_type": "code",
   "execution_count": 33,
   "metadata": {
    "collapsed": false
   },
   "outputs": [
    {
     "data": {
      "text/plain": [
       "array([[ 0.,  0.,  0.],\n",
       "       [ 0.,  0.,  0.]])"
      ]
     },
     "execution_count": 33,
     "metadata": {},
     "output_type": "execute_result"
    }
   ],
   "source": []
  },
  {
   "cell_type": "code",
   "execution_count": 30,
   "metadata": {
    "collapsed": true
   },
   "outputs": [],
   "source": [
    "def kelly_criterion(p, odd):\n",
    "    return p - (1 - p) / (odd - 1)"
   ]
  },
  {
   "cell_type": "code",
   "execution_count": null,
   "metadata": {
    "collapsed": true
   },
   "outputs": [],
   "source": [
    "def config_params(total_budget, single_bet_budget, p_games, bookmakers, head_to_head):\n",
    "    num_of_games = p_games.shape[0]\n",
    "    num_of_bookmakers = len(bookmakers) / num_of_games\n",
    "    num_of_results = 3\n",
    "    p_games_val = p_games.value()\n",
    "    bookmakers_val = np.zeros((num_of_games, num_of_results, num_of_bookmakers))\n",
    "    \n",
    "    for i in np.arange(num_of_bookmakers):\n",
    "        bookmakers_val[:, :, i] = bookmakers[i].value()\n",
    "    \n",
    "    # Model\n",
    "    m = grb.Model('betting strategy')\n",
    "    \n",
    "    # Kelly, bookmakers, and probabilities of the results of each game\n",
    "    kellies = np.zeros((1, num_of_games * num_of_bookmakers * num_of_results))\n",
    "    bookmaker_row_vector = np.zeros((1, num_of_games * num_of_bookmakers * num_of_results))\n",
    "    prob_row_vector = np.zeros((1, num_of_games * num_of_bookmakers * num_of_results))\n",
    "    \n",
    "    # Create decision variables for the betting strategy, which are binary vars\n",
    "    # either bet this one or not. The price to bet is the corresponding kelly criteria value\n",
    "    # Also populate the parameters here\n",
    "    var = {}\n",
    "    var_idx = 0\n",
    "    n = 0\n",
    "    for i in np.arange(num_of_games):\n",
    "        for j in np.arange(num_of_bookmakers):\n",
    "            for k in np.arange(num_of_results):\n",
    "                p = p_games_val[i, k]\n",
    "                odd = bookmakers_val[i, k, j]\n",
    "                kelly = kelly_criterion(p, odd)\n",
    "                kellies[0, var_idx] = kelly\n",
    "                bookmaker_row_vector[0, var_idx] = odd\n",
    "                prob_row_vector[0, var_idx] = p\n",
    "                var[head_to_head[i] + ',' + p_games.columns[k] + ',' + ]\n",
    "                \n",
    "                var_idx += 1\n",
    "                "
   ]
  }
 ],
 "metadata": {
  "kernelspec": {
   "display_name": "Python 3",
   "language": "python",
   "name": "python3"
  },
  "language_info": {
   "codemirror_mode": {
    "name": "ipython",
    "version": 3
   },
   "file_extension": ".py",
   "mimetype": "text/x-python",
   "name": "python",
   "nbconvert_exporter": "python",
   "pygments_lexer": "ipython3",
   "version": "3.4.3"
  }
 },
 "nbformat": 4,
 "nbformat_minor": 0
}
