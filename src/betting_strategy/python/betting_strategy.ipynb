{
 "cells": [
  {
   "cell_type": "code",
   "execution_count": 1,
   "metadata": {
    "collapsed": false
   },
   "outputs": [],
   "source": [
    "%matplotlib inline\n",
    "import gurobipy as grb\n",
    "import pandas as pd\n",
    "import numpy as np"
   ]
  },
  {
   "cell_type": "code",
   "execution_count": 2,
   "metadata": {
    "collapsed": false
   },
   "outputs": [],
   "source": [
    "data = pd.read_csv('../../../data/third_party_preds/betegy-121115.csv')\n",
    "data.columns, data.head()\n",
    "list_of_bookmakers = ['b365', 'bwin']"
   ]
  },
  {
   "cell_type": "code",
   "execution_count": 3,
   "metadata": {
    "collapsed": false
   },
   "outputs": [],
   "source": [
    "# p_games = data[['Home Win', 'Home Draw', 'Home Lost']]\n",
    "# num_of_games = p_games.shape[0]\n",
    "\n",
    "# num_of_results = 3\n",
    "\n",
    "# b365 = data[['b365H', 'b365D', 'b365A']]\n",
    "# bwin = data[['bwinH', 'bwinD', 'bwinA']]\n",
    "# bookmakers = [b365, bwin]\n",
    "# num_of_bookmakers = len(bookmakers)\n",
    "# head_to_head = data['Home vs Away']\n",
    "# names = [['b365'] * num_of_games + ['bwin'] * num_of_games,\n",
    "#           list(head_to_head) * num_of_bookmakers]\n",
    "# bookmakers = pd.DataFrame(np.concatenate([b365.values, bwin.values]), index=names, columns=['Home', 'Draw', 'Away'])\n",
    "# bookmakers.ix['b365']\n"
   ]
  },
  {
   "cell_type": "code",
   "execution_count": 4,
   "metadata": {
    "collapsed": true
   },
   "outputs": [],
   "source": [
    "def kelly_criterion(p, odd):\n",
    "    return p - (1 - p) / (odd - 1)"
   ]
  },
  {
   "cell_type": "code",
   "execution_count": 5,
   "metadata": {
    "collapsed": true
   },
   "outputs": [],
   "source": [
    "def solve(total_budget, single_bet_budget, data, list_of_bookmakers):\n",
    "    \"\"\"\n",
    "    Main solver to solve the betting strategy problem\n",
    "    \"\"\"\n",
    "    \n",
    "    \n",
    "    ###################################################################\n",
    "    ### Step 1: Config parameters: p_games, bookmakers, kelly, etc. ###\n",
    "    ###################################################################\n",
    "    \n",
    "    # p_games: probability of each game result\n",
    "    p_games = data[['Home Win', 'Home Draw', 'Home Lost']]\n",
    "    num_of_games = p_games.shape[0]\n",
    "\n",
    "    # Bookmakers\n",
    "    num_of_results = 3\n",
    "    all_bookmaker_odds = []\n",
    "    for bookmaker in list_of_bookmakers:\n",
    "        bookmaker_odds = data[[bookmaker + 'H', bookmaker + 'D', bookmaker + 'A']]\n",
    "        all_bookmaker_odds.append(bookmaker_odds)\n",
    "        \n",
    "    b365 = data[['b365H', 'b365D', 'b365A']]\n",
    "    bwin = data[['bwinH', 'bwinD', 'bwinA']]\n",
    "    bookmakers = [b365, bwin]\n",
    "    num_of_bookmakers = len(list_of_bookmakers)\n",
    "    head_to_head = data['Home vs Away']\n",
    "    first_level_idx = []\n",
    "    for bookmaker in list_of_bookmakers:\n",
    "        first_level_idx += [bookmaker] * num_of_games   \n",
    "    second_level_idx = list(head_to_head) * num_of_bookmakers\n",
    "    \n",
    "    index = [first_level_idx, second_level_idx]\n",
    "    bookmakers = pd.DataFrame(np.concatenate([bookmaker_odds.values for bookmaker_odds in all_bookmaker_odds]), \n",
    "                              index=index, columns=['Home', 'Draw', 'Away'])\n",
    "\n",
    "    # Game Result, pandas data frame, with index as \"a vs b\", and columns as \"Home Win\",\"Home Draw\", \"Home Lost\"\n",
    "    result = pd.get_dummies(data, columns=['result'])[['result_1', 'result_2', 'result_3']]\n",
    "    result = result.set_index(head_to_head.values)\n",
    "    result.rename(columns = {'result_1' : 'Home Win', 'result_2' : 'Home Draw', 'result_3' : 'Home Lost'}, inplace=True)\n",
    "\n",
    "    # Extract the values as numpy arraies from data frames. \n",
    "    p_games_val = p_games.values\n",
    "    bookmakers_val = np.zeros((num_of_games, num_of_results, num_of_bookmakers))    \n",
    "    for i in np.arange(num_of_bookmakers):\n",
    "        bookmakers_val[:, :, i] = bookmakers.ix[list_of_bookmakers[i]].values\n",
    "           \n",
    "    # Kelly, bookmakers, and probabilities of the results of each game, put into a dict\n",
    "    kellies = {}\n",
    "    bookmaker_row_vector = {}\n",
    "    prob_row_vector = {}\n",
    "    \n",
    "    \n",
    "    ##############################################################################\n",
    "    ### Step 2: Use Gurobi solver, model the optimization problem and solve it ###\n",
    "    ##############################################################################\n",
    "    \n",
    "    # Create Gurobi Model\n",
    "    m = grb.Model('betting strategy')\n",
    "    \n",
    "    # Create decision variables for the betting strategy, which are binary vars\n",
    "    # either bet this one or not. The price to bet is the corresponding kelly criteria value\n",
    "    # Also populate the parameters here\n",
    "    bet = {}   # bianry decision var\n",
    "    bet_idx = 0\n",
    "    n = 0\n",
    "    for i in np.arange(num_of_games):\n",
    "        for j in np.arange(num_of_bookmakers):\n",
    "            for k in np.arange(num_of_results):\n",
    "                p = p_games_val[i, k]\n",
    "                odd = bookmakers_val[i, k, j]\n",
    "                kelly = kelly_criterion(p, odd)\n",
    "                bet_name = head_to_head[i] + ',' + p_games.columns[k] + ',' + list_of_bookmakers[j]\n",
    "                kellies[bet_name] = kelly\n",
    "                bookmaker_row_vector[bet_name] = odd\n",
    "                prob_row_vector[bet_name] = p                \n",
    "                bet[bet_name] = m.addVar(vtype = grb.GRB.BINARY, name=bet_name)\n",
    "                              \n",
    "                bet_idx += 1\n",
    "                \n",
    "    m.update()\n",
    "    \n",
    "    # Add constraint: bet_i * kelly * single_bet_budget >= 0, otherwise we don't bet on it\n",
    "    for bet_name in bet.keys():\n",
    "        m.addConstr(bet[bet_name] * kellies[bet_name] * single_bet_budget >= 0, \n",
    "                    'we must bet on positive kelly games: ' + bet_name )\n",
    "        \n",
    "    # Add constraint: Total_bet <= total_budget\n",
    "    m.addConstr(\n",
    "        grb.quicksum(bet[bet_name] * kellies[bet_name] * single_bet_budget for bet_name in bet.keys()) <= total_budget, \n",
    "        'Total_bet <= total_budget')\n",
    "    \n",
    "    # Add objective function: maximize profit\n",
    "    # we need to experiment with different obj functions here. This obj function tries to maximize \n",
    "    # the total potential profit\n",
    "#     m.setObjective(\n",
    "#         grb.quicksum(bet[bet_name] * kellies[bet_name] * single_bet_budget * (bookmaker_row_vector[bet_name] - 1) \n",
    "#                      for bet_name in bet.keys()), grb.GRB.MAXIMIZE)\n",
    "    \n",
    "    # This obj function tries to maximize the total expected profit. It takes the probability of each potential\n",
    "    # profit into acount\n",
    "    m.setObjective(\n",
    "        grb.quicksum(bet[bet_name] * kellies[bet_name] * single_bet_budget * (bookmaker_row_vector[bet_name] - 1) \n",
    "                     * prob_row_vector[bet_name] - bet[bet_name] * kellies[bet_name] * single_bet_budget * (1 - prob_row_vector[bet_name]) \n",
    "                     for bet_name in bet.keys()), grb.GRB.MAXIMIZE)    \n",
    "    \n",
    "    # solve the optimization problem\n",
    "    m.params.OutputFlag = 0\n",
    "    m.optimize()\n",
    "    \n",
    "    ###########################\n",
    "    ### Step 3: Get results ###\n",
    "    ###########################\n",
    "    \n",
    "    actual_bets = {bet_name : bet[bet_name].x * kellies[bet_name] * single_bet_budget for bet_name in bet.keys()}\n",
    "    \n",
    "    expected_received = sum(bet[bet_name].x * kellies[bet_name] * single_bet_budget \n",
    "                                * bookmaker_row_vector[bet_name] * prob_row_vector[bet_name]  \n",
    "                                for bet_name in bet.keys())\n",
    "    expected_profit = expected_received - sum(actual_bets.values())\n",
    "    \n",
    "    potential_received = {bet_name : bet[bet_name].x * kellies[bet_name] * single_bet_budget \n",
    "                          * bookmaker_row_vector[bet_name] for bet_name in bet.keys()}\n",
    "    \n",
    "    actual_received = {bet_name: bet[bet_name].x * kellies[bet_name] * single_bet_budget \n",
    "                       * bookmaker_row_vector[bet_name] \n",
    "                       if result.ix[bet_name.split(',')[0], bet_name.split(',')[1]] == 1\n",
    "                      else 0 for bet_name in bet.keys()}\n",
    "    \n",
    "    actual_profit = sum(actual_received.values()) - sum(actual_bets.values())\n",
    "    return expected_profit, actual_profit, actual_bets"
   ]
  },
  {
   "cell_type": "code",
   "execution_count": 6,
   "metadata": {
    "collapsed": false
   },
   "outputs": [],
   "source": [
    "total_budget = 450\n",
    "single_bet_budget = 300\n",
    "list_of_bookmakers = ['b365', 'bwin']\n",
    "expected_profit, actual_profit, actual_bets = solve(total_budget, single_bet_budget, data, list_of_bookmakers)"
   ]
  },
  {
   "cell_type": "code",
   "execution_count": 7,
   "metadata": {
    "collapsed": false
   },
   "outputs": [
    {
     "data": {
      "text/plain": [
       "(1087.2692911637382, 672.30961038961084)"
      ]
     },
     "execution_count": 7,
     "metadata": {},
     "output_type": "execute_result"
    }
   ],
   "source": [
    "expected_profit, actual_profit"
   ]
  },
  {
   "cell_type": "code",
   "execution_count": 145,
   "metadata": {
    "collapsed": true
   },
   "outputs": [],
   "source": []
  },
  {
   "cell_type": "code",
   "execution_count": 8,
   "metadata": {
    "collapsed": false
   },
   "outputs": [
    {
     "data": {
      "text/html": [
       "<div>\n",
       "<table border=\"1\" class=\"dataframe\">\n",
       "  <thead>\n",
       "    <tr style=\"text-align: right;\">\n",
       "      <th></th>\n",
       "      <th>actual_profit</th>\n",
       "      <th>expected_profit</th>\n",
       "      <th>single_bet_budget</th>\n",
       "      <th>total_budget</th>\n",
       "    </tr>\n",
       "  </thead>\n",
       "  <tbody>\n",
       "    <tr>\n",
       "      <th>0</th>\n",
       "      <td>85.538598</td>\n",
       "      <td>212.705095</td>\n",
       "      <td>50</td>\n",
       "      <td>100</td>\n",
       "    </tr>\n",
       "    <tr>\n",
       "      <th>1</th>\n",
       "      <td>180.577403</td>\n",
       "      <td>253.067323</td>\n",
       "      <td>75</td>\n",
       "      <td>100</td>\n",
       "    </tr>\n",
       "    <tr>\n",
       "      <th>2</th>\n",
       "      <td>90.716696</td>\n",
       "      <td>278.521830</td>\n",
       "      <td>100</td>\n",
       "      <td>100</td>\n",
       "    </tr>\n",
       "    <tr>\n",
       "      <th>3</th>\n",
       "      <td>-97.616035</td>\n",
       "      <td>307.920393</td>\n",
       "      <td>125</td>\n",
       "      <td>100</td>\n",
       "    </tr>\n",
       "    <tr>\n",
       "      <th>4</th>\n",
       "      <td>-99.999457</td>\n",
       "      <td>330.887556</td>\n",
       "      <td>150</td>\n",
       "      <td>100</td>\n",
       "    </tr>\n",
       "  </tbody>\n",
       "</table>\n",
       "</div>"
      ],
      "text/plain": [
       "   actual_profit  expected_profit  single_bet_budget  total_budget\n",
       "0      85.538598       212.705095                 50           100\n",
       "1     180.577403       253.067323                 75           100\n",
       "2      90.716696       278.521830                100           100\n",
       "3     -97.616035       307.920393                125           100\n",
       "4     -99.999457       330.887556                150           100"
      ]
     },
     "execution_count": 8,
     "metadata": {},
     "output_type": "execute_result"
    }
   ],
   "source": [
    "result_dict = {'total_budget' : [], 'single_bet_budget' : [], 'expected_profit' : [], 'actual_profit' : []}\n",
    "data = pd.read_csv('../../../data/third_party_preds/betegy-121115.csv')\n",
    "for total_budget in np.arange(100, 1000, 25):\n",
    "    for single_bet_budget in np.arange(50, 350, 25):\n",
    "        expected_profit, actual_profit, actual_bets = solve(total_budget, single_bet_budget, data, list_of_bookmakers)\n",
    "        result_dict['total_budget'].append(total_budget)\n",
    "        result_dict['single_bet_budget'].append(single_bet_budget)\n",
    "        result_dict['expected_profit'].append(expected_profit)\n",
    "        result_dict['actual_profit'].append(actual_profit)\n",
    "\n",
    "betting_tracker = pd.DataFrame(result_dict)\n",
    "betting_tracker.head()"
   ]
  },
  {
   "cell_type": "code",
   "execution_count": 9,
   "metadata": {
    "collapsed": false
   },
   "outputs": [
    {
     "data": {
      "text/html": [
       "<div>\n",
       "<table border=\"1\" class=\"dataframe\">\n",
       "  <thead>\n",
       "    <tr style=\"text-align: right;\">\n",
       "      <th></th>\n",
       "      <th>actual_profit</th>\n",
       "      <th>expected_profit</th>\n",
       "      <th>single_bet_budget</th>\n",
       "      <th>total_budget</th>\n",
       "    </tr>\n",
       "  </thead>\n",
       "  <tbody>\n",
       "    <tr>\n",
       "      <th>418</th>\n",
       "      <td>949.477692</td>\n",
       "      <td>1598.478085</td>\n",
       "      <td>300</td>\n",
       "      <td>950</td>\n",
       "    </tr>\n",
       "    <tr>\n",
       "      <th>431</th>\n",
       "      <td>670.551096</td>\n",
       "      <td>1690.577459</td>\n",
       "      <td>325</td>\n",
       "      <td>975</td>\n",
       "    </tr>\n",
       "    <tr>\n",
       "      <th>11</th>\n",
       "      <td>-99.863636</td>\n",
       "      <td>400.027727</td>\n",
       "      <td>325</td>\n",
       "      <td>100</td>\n",
       "    </tr>\n",
       "    <tr>\n",
       "      <th>420</th>\n",
       "      <td>81.211115</td>\n",
       "      <td>389.518138</td>\n",
       "      <td>50</td>\n",
       "      <td>975</td>\n",
       "    </tr>\n",
       "  </tbody>\n",
       "</table>\n",
       "</div>"
      ],
      "text/plain": [
       "     actual_profit  expected_profit  single_bet_budget  total_budget\n",
       "418     949.477692      1598.478085                300           950\n",
       "431     670.551096      1690.577459                325           975\n",
       "11      -99.863636       400.027727                325           100\n",
       "420      81.211115       389.518138                 50           975"
      ]
     },
     "execution_count": 9,
     "metadata": {},
     "output_type": "execute_result"
    },
    {
     "data": {
      "image/png": "[encoded data removed]",
      "text/plain": [
       "<matplotlib.figure.Figure at 0x7f5f6efd0240>"
      ]
     },
     "metadata": {},
     "output_type": "display_data"
    }
   ],
   "source": [
    "betting_tracker.hist(column='actual_profit')\n",
    "betting_tracker.ix[betting_tracker.idxmax(axis = 0)]"
   ]
  },
  {
   "cell_type": "code",
   "execution_count": 10,
   "metadata": {
    "collapsed": false
   },
   "outputs": [
    {
     "data": {
      "text/plain": [
       "1.0"
      ]
     },
     "execution_count": 10,
     "metadata": {},
     "output_type": "execute_result"
    },
    {
     "data": {
      "image/png": "[encoded data removed]",
      "text/plain": [
       "<matplotlib.figure.Figure at 0x7f5f689231d0>"
      ]
     },
     "metadata": {},
     "output_type": "display_data"
    }
   ],
   "source": [
    "betting_tracker_copy = betting_tracker.copy()\n",
    "betting_tracker_copy = betting_tracker_copy[betting_tracker_copy['single_bet_budget'] <= 100]\n",
    "betting_tracker_copy.hist(column='actual_profit', bins = 20)\n",
    "np.mean(betting_tracker_copy['actual_profit'] > 0)"
   ]
  },
  {
   "cell_type": "code",
   "execution_count": 11,
   "metadata": {
    "collapsed": false
   },
   "outputs": [
    {
     "data": {
      "text/plain": [
       "0.99305555555555558"
      ]
     },
     "execution_count": 11,
     "metadata": {},
     "output_type": "execute_result"
    },
    {
     "data": {
      "image/png": "[encoded data removed]",
      "text/plain": [
       "<matplotlib.figure.Figure at 0x7f5f6893fe48>"
      ]
     },
     "metadata": {},
     "output_type": "display_data"
    }
   ],
   "source": [
    "betting_tracker_copy = betting_tracker.copy()\n",
    "betting_tracker_copy = betting_tracker_copy[betting_tracker_copy['single_bet_budget'] <= 125]\n",
    "betting_tracker_copy.hist(column='actual_profit', bins = 50)\n",
    "np.mean(betting_tracker_copy['actual_profit'] > 0)"
   ]
  },
  {
   "cell_type": "code",
   "execution_count": 12,
   "metadata": {
    "collapsed": false
   },
   "outputs": [
    {
     "data": {
      "text/plain": [
       "0.92929292929292928"
      ]
     },
     "execution_count": 12,
     "metadata": {},
     "output_type": "execute_result"
    },
    {
     "data": {
      "image/png": "[encoded data removed]",
      "text/plain": [
       "<matplotlib.figure.Figure at 0x7f5f687ca0f0>"
      ]
     },
     "metadata": {},
     "output_type": "display_data"
    }
   ],
   "source": [
    "betting_tracker_copy = betting_tracker.copy()\n",
    "betting_tracker_copy = betting_tracker_copy[betting_tracker_copy['single_bet_budget'] <= 300]\n",
    "betting_tracker_copy.hist(column='actual_profit', bins = 50)\n",
    "np.mean(betting_tracker_copy['actual_profit'] > 0)"
   ]
  },
  {
   "cell_type": "code",
   "execution_count": 13,
   "metadata": {
    "collapsed": false
   },
   "outputs": [
    {
     "data": {
      "text/plain": [
       "(1105.6343772960704,\n",
       " 760.38402236652246,\n",
       " {'Aston Villa vs Arsenal,Home Draw,b365': 0.0,\n",
       "  'Aston Villa vs Arsenal,Home Draw,bwin': 0.0,\n",
       "  'Aston Villa vs Arsenal,Home Lost,b365': -0.0,\n",
       "  'Aston Villa vs Arsenal,Home Lost,bwin': -0.0,\n",
       "  'Aston Villa vs Arsenal,Home Win,b365': 0.0,\n",
       "  'Aston Villa vs Arsenal,Home Win,bwin': 0.0,\n",
       "  'Atletico vs Athletic,Home Draw,b365': 0.0,\n",
       "  'Atletico vs Athletic,Home Draw,bwin': 0.0,\n",
       "  'Atletico vs Athletic,Home Lost,b365': -0.0,\n",
       "  'Atletico vs Athletic,Home Lost,bwin': 0.0,\n",
       "  'Atletico vs Athletic,Home Win,b365': -0.0,\n",
       "  'Atletico vs Athletic,Home Win,bwin': -0.0,\n",
       "  'Augsburg vs Schalke 04,Home Draw,b365': 0.0,\n",
       "  'Augsburg vs Schalke 04,Home Draw,bwin': 0.0,\n",
       "  'Augsburg vs Schalke 04,Home Lost,b365': -0.0,\n",
       "  'Augsburg vs Schalke 04,Home Lost,bwin': -0.0,\n",
       "  'Augsburg vs Schalke 04,Home Win,b365': -0.0,\n",
       "  'Augsburg vs Schalke 04,Home Win,bwin': -0.0,\n",
       "  'Barcelona vs Deportivo,Home Draw,b365': 61.388888888888893,\n",
       "  'Barcelona vs Deportivo,Home Draw,bwin': 60.6357142857143,\n",
       "  'Barcelona vs Deportivo,Home Lost,b365': 53.772727272727273,\n",
       "  'Barcelona vs Deportivo,Home Lost,bwin': 51.219999999999999,\n",
       "  'Barcelona vs Deportivo,Home Win,b365': -0.0,\n",
       "  'Barcelona vs Deportivo,Home Win,bwin': -0.0,\n",
       "  'Bayern vs Ingolstadt,Home Draw,b365': 56.874999999999993,\n",
       "  'Bayern vs Ingolstadt,Home Draw,bwin': 0.0,\n",
       "  'Bayern vs Ingolstadt,Home Lost,b365': 38.350000000000001,\n",
       "  'Bayern vs Ingolstadt,Home Lost,bwin': 39.590909090909093,\n",
       "  'Bayern vs Ingolstadt,Home Win,b365': -0.0,\n",
       "  'Bayern vs Ingolstadt,Home Win,bwin': -0.0,\n",
       "  'Bournemouth vs Man United,Home Draw,b365': -0.0,\n",
       "  'Bournemouth vs Man United,Home Draw,bwin': 0.0,\n",
       "  'Bournemouth vs Man United,Home Lost,b365': -0.0,\n",
       "  'Bournemouth vs Man United,Home Lost,bwin': -0.0,\n",
       "  'Bournemouth vs Man United,Home Win,b365': -0.0,\n",
       "  'Bournemouth vs Man United,Home Win,bwin': 1.1470588235294239,\n",
       "  'Chievo vs Atalanta,Home Draw,b365': -0.0,\n",
       "  'Chievo vs Atalanta,Home Draw,bwin': -0.0,\n",
       "  'Chievo vs Atalanta,Home Lost,b365': -0.0,\n",
       "  'Chievo vs Atalanta,Home Lost,bwin': -0.0,\n",
       "  'Chievo vs Atalanta,Home Win,b365': -0.0,\n",
       "  'Chievo vs Atalanta,Home Win,bwin': -0.0,\n",
       "  'Crystal Palace vs Southampton,Home Draw,b365': 0.0,\n",
       "  'Crystal Palace vs Southampton,Home Draw,bwin': 0.0,\n",
       "  'Crystal Palace vs Southampton,Home Lost,b365': -0.0,\n",
       "  'Crystal Palace vs Southampton,Home Lost,bwin': -0.0,\n",
       "  'Crystal Palace vs Southampton,Home Win,b365': -0.0,\n",
       "  'Crystal Palace vs Southampton,Home Win,bwin': -0.0,\n",
       "  'Darmstadt 98 vs Hertha,Home Draw,b365': 0.0,\n",
       "  'Darmstadt 98 vs Hertha,Home Draw,bwin': 0.0,\n",
       "  'Darmstadt 98 vs Hertha,Home Lost,b365': -0.0,\n",
       "  'Darmstadt 98 vs Hertha,Home Lost,bwin': -0.0,\n",
       "  'Darmstadt 98 vs Hertha,Home Win,b365': -0.0,\n",
       "  'Darmstadt 98 vs Hertha,Home Win,bwin': -0.0,\n",
       "  'Dortmund vs Frankfurt,Home Draw,b365': 0.0,\n",
       "  'Dortmund vs Frankfurt,Home Draw,bwin': -0.0,\n",
       "  'Dortmund vs Frankfurt,Home Lost,b365': 0.0,\n",
       "  'Dortmund vs Frankfurt,Home Lost,bwin': 0.0,\n",
       "  'Dortmund vs Frankfurt,Home Win,b365': -0.0,\n",
       "  'Dortmund vs Frankfurt,Home Win,bwin': -0.0,\n",
       "  'Eibar vs Valencia,Home Draw,b365': 0.0,\n",
       "  'Eibar vs Valencia,Home Draw,bwin': -0.0,\n",
       "  'Eibar vs Valencia,Home Lost,b365': -0.0,\n",
       "  'Eibar vs Valencia,Home Lost,bwin': -0.0,\n",
       "  'Eibar vs Valencia,Home Win,b365': -0.0,\n",
       "  'Eibar vs Valencia,Home Win,bwin': -0.0,\n",
       "  'Empoli vs Carpi,Home Draw,b365': 0.0,\n",
       "  'Empoli vs Carpi,Home Draw,bwin': 0.0,\n",
       "  'Empoli vs Carpi,Home Lost,b365': -0.0,\n",
       "  'Empoli vs Carpi,Home Lost,bwin': -0.0,\n",
       "  'Empoli vs Carpi,Home Win,b365': -0.0,\n",
       "  'Empoli vs Carpi,Home Win,bwin': -0.0,\n",
       "  'Hoffenheim vs Hannover 96,Home Draw,b365': -0.0,\n",
       "  'Hoffenheim vs Hannover 96,Home Draw,bwin': 0.0,\n",
       "  'Hoffenheim vs Hannover 96,Home Lost,b365': -0.0,\n",
       "  'Hoffenheim vs Hannover 96,Home Lost,bwin': 0.0,\n",
       "  'Hoffenheim vs Hannover 96,Home Win,b365': -0.0,\n",
       "  'Hoffenheim vs Hannover 96,Home Win,bwin': -0.0,\n",
       "  'Juventus vs Fiorentina,Home Draw,b365': -0.0,\n",
       "  'Juventus vs Fiorentina,Home Draw,bwin': -0.0,\n",
       "  'Juventus vs Fiorentina,Home Lost,b365': -0.0,\n",
       "  'Juventus vs Fiorentina,Home Lost,bwin': -0.0,\n",
       "  'Juventus vs Fiorentina,Home Win,b365': -0.0,\n",
       "  'Juventus vs Fiorentina,Home Win,bwin': -0.0,\n",
       "  'Las Palmas vs Real Betis,Home Draw,b365': 0.0,\n",
       "  'Las Palmas vs Real Betis,Home Draw,bwin': -0.0,\n",
       "  'Las Palmas vs Real Betis,Home Lost,b365': 0.0,\n",
       "  'Las Palmas vs Real Betis,Home Lost,bwin': -0.0,\n",
       "  'Las Palmas vs Real Betis,Home Win,b365': -0.0,\n",
       "  'Las Palmas vs Real Betis,Home Win,bwin': -0.0,\n",
       "  'Lazio vs Sampdoria,Home Draw,b365': -0.0,\n",
       "  'Lazio vs Sampdoria,Home Draw,bwin': -0.0,\n",
       "  'Lazio vs Sampdoria,Home Lost,b365': 0.0,\n",
       "  'Lazio vs Sampdoria,Home Lost,bwin': -0.0,\n",
       "  'Lazio vs Sampdoria,Home Win,b365': -0.0,\n",
       "  'Lazio vs Sampdoria,Home Win,bwin': -0.0,\n",
       "  'Leicester vs Chelsea,Home Draw,b365': -0.0,\n",
       "  'Leicester vs Chelsea,Home Draw,bwin': -0.0,\n",
       "  'Leicester vs Chelsea,Home Lost,b365': -0.0,\n",
       "  'Leicester vs Chelsea,Home Lost,bwin': -0.0,\n",
       "  'Leicester vs Chelsea,Home Win,b365': -0.0,\n",
       "  'Leicester vs Chelsea,Home Win,bwin': -0.0,\n",
       "  'Leverkusen vs Borussia MG,Home Draw,b365': -0.0,\n",
       "  'Leverkusen vs Borussia MG,Home Draw,bwin': 0.0,\n",
       "  'Leverkusen vs Borussia MG,Home Lost,b365': -0.0,\n",
       "  'Leverkusen vs Borussia MG,Home Lost,bwin': -0.0,\n",
       "  'Leverkusen vs Borussia MG,Home Win,b365': -0.0,\n",
       "  'Leverkusen vs Borussia MG,Home Win,bwin': -0.0,\n",
       "  'Liverpool vs West Brom,Home Draw,b365': -0.0,\n",
       "  'Liverpool vs West Brom,Home Draw,bwin': -0.0,\n",
       "  'Liverpool vs West Brom,Home Lost,b365': 68.714285714285722,\n",
       "  'Liverpool vs West Brom,Home Lost,bwin': 0.0,\n",
       "  'Liverpool vs West Brom,Home Win,b365': -0.0,\n",
       "  'Liverpool vs West Brom,Home Win,bwin': -0.0,\n",
       "  'Mainz 05 vs Stuttgart,Home Draw,b365': -0.0,\n",
       "  'Mainz 05 vs Stuttgart,Home Draw,bwin': -0.0,\n",
       "  'Mainz 05 vs Stuttgart,Home Lost,b365': -0.0,\n",
       "  'Mainz 05 vs Stuttgart,Home Lost,bwin': -0.0,\n",
       "  'Mainz 05 vs Stuttgart,Home Win,b365': -0.0,\n",
       "  'Mainz 05 vs Stuttgart,Home Win,bwin': -0.0,\n",
       "  'Man City vs Swansea,Home Draw,b365': 0.0,\n",
       "  'Man City vs Swansea,Home Draw,bwin': -0.0,\n",
       "  'Man City vs Swansea,Home Lost,b365': 0.0,\n",
       "  'Man City vs Swansea,Home Lost,bwin': 0.0,\n",
       "  'Man City vs Swansea,Home Win,b365': -0.0,\n",
       "  'Man City vs Swansea,Home Win,bwin': -0.0,\n",
       "  'Milan vs Verona,Home Draw,b365': -0.0,\n",
       "  'Milan vs Verona,Home Draw,bwin': -0.0,\n",
       "  'Milan vs Verona,Home Lost,b365': 0.0,\n",
       "  'Milan vs Verona,Home Lost,bwin': 18.055555555555554,\n",
       "  'Milan vs Verona,Home Win,b365': -0.0,\n",
       "  'Milan vs Verona,Home Win,bwin': -0.0,\n",
       "  'Napoli vs Roma,Home Draw,b365': 0.0,\n",
       "  'Napoli vs Roma,Home Draw,bwin': -0.0,\n",
       "  'Napoli vs Roma,Home Lost,b365': -0.0,\n",
       "  'Napoli vs Roma,Home Lost,bwin': 0.0,\n",
       "  'Napoli vs Roma,Home Win,b365': -0.0,\n",
       "  'Napoli vs Roma,Home Win,bwin': -0.0,\n",
       "  'Norwich City vs Everton,Home Draw,b365': 0.0,\n",
       "  'Norwich City vs Everton,Home Draw,bwin': 0.0,\n",
       "  'Norwich City vs Everton,Home Lost,b365': -0.0,\n",
       "  'Norwich City vs Everton,Home Lost,bwin': -0.0,\n",
       "  'Norwich City vs Everton,Home Win,b365': -0.0,\n",
       "  'Norwich City vs Everton,Home Win,bwin': -0.0,\n",
       "  'Palermo vs Frosinone,Home Draw,b365': -0.0,\n",
       "  'Palermo vs Frosinone,Home Draw,bwin': -0.0,\n",
       "  'Palermo vs Frosinone,Home Lost,b365': -0.0,\n",
       "  'Palermo vs Frosinone,Home Lost,bwin': -0.0,\n",
       "  'Palermo vs Frosinone,Home Win,b365': -0.0,\n",
       "  'Palermo vs Frosinone,Home Win,bwin': -0.0,\n",
       "  'Rayo vs Malaga,Home Draw,b365': -0.0,\n",
       "  'Rayo vs Malaga,Home Draw,bwin': -0.0,\n",
       "  'Rayo vs Malaga,Home Lost,b365': -0.0,\n",
       "  'Rayo vs Malaga,Home Lost,bwin': -0.0,\n",
       "  'Rayo vs Malaga,Home Win,b365': -0.0,\n",
       "  'Rayo vs Malaga,Home Win,bwin': -0.0,\n",
       "  'Sunderland vs Watford,Home Draw,b365': 0.0,\n",
       "  'Sunderland vs Watford,Home Draw,bwin': -0.0,\n",
       "  'Sunderland vs Watford,Home Lost,b365': 0.0,\n",
       "  'Sunderland vs Watford,Home Lost,bwin': 0.0,\n",
       "  'Sunderland vs Watford,Home Win,b365': -0.0,\n",
       "  'Sunderland vs Watford,Home Win,bwin': -0.0,\n",
       "  'Tottenham vs Newcastle,Home Draw,b365': -0.0,\n",
       "  'Tottenham vs Newcastle,Home Draw,bwin': -0.0,\n",
       "  'Tottenham vs Newcastle,Home Lost,b365': -0.0,\n",
       "  'Tottenham vs Newcastle,Home Lost,bwin': -0.0,\n",
       "  'Tottenham vs Newcastle,Home Win,b365': -0.0,\n",
       "  'Tottenham vs Newcastle,Home Win,bwin': -0.0,\n",
       "  'Udinese vs Inter,Home Draw,b365': 0.0,\n",
       "  'Udinese vs Inter,Home Draw,bwin': -0.0,\n",
       "  'Udinese vs Inter,Home Lost,b365': -0.0,\n",
       "  'Udinese vs Inter,Home Lost,bwin': -0.0,\n",
       "  'Udinese vs Inter,Home Win,b365': 0.0,\n",
       "  'Udinese vs Inter,Home Win,bwin': -0.0,\n",
       "  'Villarreal vs Real Madrid,Home Draw,b365': -0.0,\n",
       "  'Villarreal vs Real Madrid,Home Draw,bwin': 0.0,\n",
       "  'Villarreal vs Real Madrid,Home Lost,b365': -0.0,\n",
       "  'Villarreal vs Real Madrid,Home Lost,bwin': -0.0,\n",
       "  'Villarreal vs Real Madrid,Home Win,b365': 0.0,\n",
       "  'Villarreal vs Real Madrid,Home Win,bwin': -0.0,\n",
       "  'Werder vs Koln,Home Draw,b365': -0.0,\n",
       "  'Werder vs Koln,Home Draw,bwin': -0.0,\n",
       "  'Werder vs Koln,Home Lost,b365': -0.0,\n",
       "  'Werder vs Koln,Home Lost,bwin': -0.0,\n",
       "  'Werder vs Koln,Home Win,b365': -0.0,\n",
       "  'Werder vs Koln,Home Win,bwin': -0.0,\n",
       "  'West Ham vs Stoke,Home Draw,b365': 0.0,\n",
       "  'West Ham vs Stoke,Home Draw,bwin': 0.0,\n",
       "  'West Ham vs Stoke,Home Lost,b365': -0.0,\n",
       "  'West Ham vs Stoke,Home Lost,bwin': -0.0,\n",
       "  'West Ham vs Stoke,Home Win,b365': -0.0,\n",
       "  'West Ham vs Stoke,Home Win,bwin': -0.0,\n",
       "  'Wolfsburg vs Hamburg,Home Draw,b365': -0.0,\n",
       "  'Wolfsburg vs Hamburg,Home Draw,bwin': -0.0,\n",
       "  'Wolfsburg vs Hamburg,Home Lost,b365': -0.0,\n",
       "  'Wolfsburg vs Hamburg,Home Lost,bwin': -0.0,\n",
       "  'Wolfsburg vs Hamburg,Home Win,b365': -0.0,\n",
       "  'Wolfsburg vs Hamburg,Home Win,bwin': -0.0})"
      ]
     },
     "execution_count": 13,
     "metadata": {},
     "output_type": "execute_result"
    }
   ],
   "source": [
    "total_budget = 450\n",
    "single_bet_budget = 325\n",
    "list_of_bookmakers = ['b365', 'bwin']\n",
    "expected_profit, actual_profit, actual_bets = solve(total_budget, single_bet_budget, data, list_of_bookmakers)\n",
    "expected_profit, actual_profit, actual_bets"
   ]
  },
  {
   "cell_type": "code",
   "execution_count": 14,
   "metadata": {
    "collapsed": false
   },
   "outputs": [
    {
     "data": {
      "text/html": [
       "<div>\n",
       "<table border=\"1\" class=\"dataframe\">\n",
       "  <thead>\n",
       "    <tr style=\"text-align: right;\">\n",
       "      <th></th>\n",
       "      <th>actual_profit</th>\n",
       "      <th>expected_profit</th>\n",
       "      <th>single_bet_budget</th>\n",
       "      <th>total_budget</th>\n",
       "    </tr>\n",
       "  </thead>\n",
       "  <tbody>\n",
       "    <tr>\n",
       "      <th>0</th>\n",
       "      <td>175.773099</td>\n",
       "      <td>143.316153</td>\n",
       "      <td>50</td>\n",
       "      <td>100</td>\n",
       "    </tr>\n",
       "    <tr>\n",
       "      <th>1</th>\n",
       "      <td>164.977273</td>\n",
       "      <td>170.010774</td>\n",
       "      <td>75</td>\n",
       "      <td>100</td>\n",
       "    </tr>\n",
       "    <tr>\n",
       "      <th>2</th>\n",
       "      <td>141.015368</td>\n",
       "      <td>189.438221</td>\n",
       "      <td>100</td>\n",
       "      <td>100</td>\n",
       "    </tr>\n",
       "    <tr>\n",
       "      <th>3</th>\n",
       "      <td>201.312500</td>\n",
       "      <td>206.606250</td>\n",
       "      <td>125</td>\n",
       "      <td>100</td>\n",
       "    </tr>\n",
       "    <tr>\n",
       "      <th>4</th>\n",
       "      <td>261.600000</td>\n",
       "      <td>214.693500</td>\n",
       "      <td>150</td>\n",
       "      <td>100</td>\n",
       "    </tr>\n",
       "  </tbody>\n",
       "</table>\n",
       "</div>"
      ],
      "text/plain": [
       "   actual_profit  expected_profit  single_bet_budget  total_budget\n",
       "0     175.773099       143.316153                 50           100\n",
       "1     164.977273       170.010774                 75           100\n",
       "2     141.015368       189.438221                100           100\n",
       "3     201.312500       206.606250                125           100\n",
       "4     261.600000       214.693500                150           100"
      ]
     },
     "execution_count": 14,
     "metadata": {},
     "output_type": "execute_result"
    }
   ],
   "source": [
    "result_dict = {'total_budget' : [], 'single_bet_budget' : [], 'expected_profit' : [], 'actual_profit' : []}\n",
    "data = pd.read_csv('../../../data/third_party_preds/betegy-120415.csv')\n",
    "for total_budget in np.arange(100, 1000, 25):\n",
    "    for single_bet_budget in np.arange(50, 350, 25):\n",
    "        expected_profit, actual_profit, actual_bets = solve(total_budget, single_bet_budget, data, list_of_bookmakers)\n",
    "        result_dict['total_budget'].append(total_budget)\n",
    "        result_dict['single_bet_budget'].append(single_bet_budget)\n",
    "        result_dict['expected_profit'].append(expected_profit)\n",
    "        result_dict['actual_profit'].append(actual_profit)\n",
    "\n",
    "betting_tracker = pd.DataFrame(result_dict)\n",
    "betting_tracker.head()"
   ]
  },
  {
   "cell_type": "code",
   "execution_count": 15,
   "metadata": {
    "collapsed": false
   },
   "outputs": [
    {
     "data": {
      "text/plain": [
       "1.0"
      ]
     },
     "execution_count": 15,
     "metadata": {},
     "output_type": "execute_result"
    },
    {
     "data": {
      "image/png": "[encoded data removed]",
      "text/plain": [
       "<matplotlib.figure.Figure at 0x7f5f6a183940>"
      ]
     },
     "metadata": {},
     "output_type": "display_data"
    }
   ],
   "source": [
    "betting_tracker_copy = betting_tracker.copy()\n",
    "betting_tracker_copy = betting_tracker_copy[betting_tracker_copy['single_bet_budget'] <= 100]\n",
    "betting_tracker_copy.hist(column='actual_profit', bins = 50)\n",
    "np.mean(betting_tracker_copy['actual_profit'] > 0)"
   ]
  },
  {
   "cell_type": "code",
   "execution_count": 16,
   "metadata": {
    "collapsed": false
   },
   "outputs": [
    {
     "data": {
      "text/plain": [
       "1.0"
      ]
     },
     "execution_count": 16,
     "metadata": {},
     "output_type": "execute_result"
    },
    {
     "data": {
      "image/png": "[encoded data removed]",
      "text/plain": [
       "<matplotlib.figure.Figure at 0x7f5f6aa46908>"
      ]
     },
     "metadata": {},
     "output_type": "display_data"
    }
   ],
   "source": [
    "betting_tracker_copy = betting_tracker.copy()\n",
    "betting_tracker_copy = betting_tracker_copy[betting_tracker_copy['single_bet_budget'] <= 150]\n",
    "betting_tracker_copy.hist(column='actual_profit', bins = 50)\n",
    "np.mean(betting_tracker_copy['actual_profit'] > 0)"
   ]
  },
  {
   "cell_type": "code",
   "execution_count": 17,
   "metadata": {
    "collapsed": false
   },
   "outputs": [
    {
     "data": {
      "text/plain": [
       "0.99382716049382713"
      ]
     },
     "execution_count": 17,
     "metadata": {},
     "output_type": "execute_result"
    },
    {
     "data": {
      "image/png": "[encoded data removed]",
      "text/plain": [
       "<matplotlib.figure.Figure at 0x7f5f6a163cc0>"
      ]
     },
     "metadata": {},
     "output_type": "display_data"
    }
   ],
   "source": [
    "betting_tracker_copy = betting_tracker.copy()\n",
    "betting_tracker_copy = betting_tracker_copy[betting_tracker_copy['single_bet_budget'] <= 250]\n",
    "betting_tracker_copy.hist(column='actual_profit', bins = 50)\n",
    "np.mean(betting_tracker_copy['actual_profit'] > 0)"
   ]
  },
  {
   "cell_type": "code",
   "execution_count": 18,
   "metadata": {
    "collapsed": false
   },
   "outputs": [
    {
     "data": {
      "text/plain": [
       "0.98737373737373735"
      ]
     },
     "execution_count": 18,
     "metadata": {},
     "output_type": "execute_result"
    },
    {
     "data": {
      "image/png": "[encoded data removed]",
      "text/plain": [
       "<matplotlib.figure.Figure at 0x7f5f686b1b38>"
      ]
     },
     "metadata": {},
     "output_type": "display_data"
    }
   ],
   "source": [
    "betting_tracker_copy = betting_tracker.copy()\n",
    "betting_tracker_copy = betting_tracker_copy[betting_tracker_copy['single_bet_budget'] <= 300]\n",
    "betting_tracker_copy.hist(column='actual_profit', bins = 50)\n",
    "np.mean(betting_tracker_copy['actual_profit'] > 0)"
   ]
  },
  {
   "cell_type": "code",
   "execution_count": 19,
   "metadata": {
    "collapsed": false
   },
   "outputs": [
    {
     "data": {
      "text/html": [
       "<div>\n",
       "<table border=\"1\" class=\"dataframe\">\n",
       "  <thead>\n",
       "    <tr style=\"text-align: right;\">\n",
       "      <th></th>\n",
       "      <th>actual_profit</th>\n",
       "      <th>expected_profit</th>\n",
       "      <th>single_bet_budget</th>\n",
       "      <th>total_budget</th>\n",
       "    </tr>\n",
       "  </thead>\n",
       "  <tbody>\n",
       "    <tr>\n",
       "      <th>406</th>\n",
       "      <td>1499.647036</td>\n",
       "      <td>1060.840914</td>\n",
       "      <td>300</td>\n",
       "      <td>925</td>\n",
       "    </tr>\n",
       "    <tr>\n",
       "      <th>431</th>\n",
       "      <td>1396.486740</td>\n",
       "      <td>1131.073408</td>\n",
       "      <td>325</td>\n",
       "      <td>975</td>\n",
       "    </tr>\n",
       "    <tr>\n",
       "      <th>11</th>\n",
       "      <td>-99.325000</td>\n",
       "      <td>216.367250</td>\n",
       "      <td>325</td>\n",
       "      <td>100</td>\n",
       "    </tr>\n",
       "    <tr>\n",
       "      <th>420</th>\n",
       "      <td>292.195739</td>\n",
       "      <td>216.172527</td>\n",
       "      <td>50</td>\n",
       "      <td>975</td>\n",
       "    </tr>\n",
       "  </tbody>\n",
       "</table>\n",
       "</div>"
      ],
      "text/plain": [
       "     actual_profit  expected_profit  single_bet_budget  total_budget\n",
       "406    1499.647036      1060.840914                300           925\n",
       "431    1396.486740      1131.073408                325           975\n",
       "11      -99.325000       216.367250                325           100\n",
       "420     292.195739       216.172527                 50           975"
      ]
     },
     "execution_count": 19,
     "metadata": {},
     "output_type": "execute_result"
    }
   ],
   "source": [
    "betting_tracker.ix[betting_tracker.idxmax(axis = 0)]"
   ]
  },
  {
   "cell_type": "code",
   "execution_count": null,
   "metadata": {
    "collapsed": false
   },
   "outputs": [],
   "source": []
  },
  {
   "cell_type": "code",
   "execution_count": null,
   "metadata": {
    "collapsed": true
   },
   "outputs": [],
   "source": []
  }
 ],
 "metadata": {
  "kernelspec": {
   "display_name": "Python 3",
   "language": "python",
   "name": "python3"
  },
  "language_info": {
   "codemirror_mode": {
    "name": "ipython",
    "version": 3
   },
   "file_extension": ".py",
   "mimetype": "text/x-python",
   "name": "python",
   "nbconvert_exporter": "python",
   "pygments_lexer": "ipython3",
   "version": "3.4.3"
  }
 },
 "nbformat": 4,
 "nbformat_minor": 0
}
