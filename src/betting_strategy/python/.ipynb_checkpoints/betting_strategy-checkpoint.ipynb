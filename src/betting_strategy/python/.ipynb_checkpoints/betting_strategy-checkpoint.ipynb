{
 "cells": [
  {
   "cell_type": "code",
   "execution_count": 81,
   "metadata": {
    "collapsed": false
   },
   "outputs": [],
   "source": [
    "%matplotlib inline\n",
    "import gurobipy as grb\n",
    "import pandas as pd\n",
    "import numpy as np\n",
    "from matplotlib import pyplot as plt"
   ]
  },
  {
   "cell_type": "code",
   "execution_count": 82,
   "metadata": {
    "collapsed": true
   },
   "outputs": [],
   "source": [
    "def kelly_criterion(p, odd):\n",
    "    return p - (1 - p) / (odd - 1)"
   ]
  },
  {
   "cell_type": "code",
   "execution_count": 83,
   "metadata": {
    "collapsed": true
   },
   "outputs": [],
   "source": [
    "def solve(total_budget, single_bet_budget, data, list_of_bookmakers):\n",
    "    \"\"\"\n",
    "    Main solver to solve the betting strategy problem\n",
    "    \"\"\"\n",
    "    \n",
    "    \n",
    "    ###################################################################\n",
    "    ### Step 1: Config parameters: p_games, bookmakers, kelly, etc. ###\n",
    "    ###################################################################\n",
    "    \n",
    "    # p_games: probability of each game result\n",
    "    p_games = data[['Home Win', 'Home Draw', 'Home Lost']]\n",
    "    num_of_games = p_games.shape[0]\n",
    "\n",
    "    # Bookmakers\n",
    "    num_of_results = 3\n",
    "    all_bookmaker_odds = []\n",
    "    for bookmaker in list_of_bookmakers:\n",
    "        bookmaker_odds = data[[bookmaker + 'H', bookmaker + 'D', bookmaker + 'A']]\n",
    "        all_bookmaker_odds.append(bookmaker_odds)\n",
    "        \n",
    "    b365 = data[['b365H', 'b365D', 'b365A']]\n",
    "    bwin = data[['bwinH', 'bwinD', 'bwinA']]\n",
    "    bookmakers = [b365, bwin]\n",
    "    num_of_bookmakers = len(list_of_bookmakers)\n",
    "    head_to_head = data['Home vs Away']\n",
    "    first_level_idx = []\n",
    "    for bookmaker in list_of_bookmakers:\n",
    "        first_level_idx += [bookmaker] * num_of_games   \n",
    "    second_level_idx = list(head_to_head) * num_of_bookmakers\n",
    "    \n",
    "    index = [first_level_idx, second_level_idx]\n",
    "    bookmakers = pd.DataFrame(np.concatenate([bookmaker_odds.values for bookmaker_odds in all_bookmaker_odds]), \n",
    "                              index=index, columns=['Home', 'Draw', 'Away'])\n",
    "\n",
    "    # Extract the values as numpy arraies from data frames. \n",
    "    p_games_val = p_games.values\n",
    "    bookmakers_val = np.zeros((num_of_games, num_of_results, num_of_bookmakers))    \n",
    "    for i in np.arange(num_of_bookmakers):\n",
    "        bookmakers_val[:, :, i] = bookmakers.ix[list_of_bookmakers[i]].values\n",
    "           \n",
    "    # Kelly, bookmakers, and probabilities of the results of each game, put into a dict\n",
    "    kellies = {}\n",
    "    bookmaker_row_vector = {}\n",
    "    prob_row_vector = {}\n",
    "    \n",
    "    \n",
    "    ##############################################################################\n",
    "    ### Step 2: Use Gurobi solver, model the optimization problem and solve it ###\n",
    "    ##############################################################################\n",
    "    \n",
    "    # Create Gurobi Model\n",
    "    m = grb.Model('betting strategy')\n",
    "    \n",
    "    # Create decision variables for the betting strategy, which are binary vars\n",
    "    # either bet this one or not. The price to bet is the corresponding kelly criteria value\n",
    "    # Also populate the parameters here\n",
    "    bet = {}   # bianry decision var\n",
    "    bet_idx = 0\n",
    "    n = 0\n",
    "    for i in np.arange(num_of_games):\n",
    "        for j in np.arange(num_of_bookmakers):\n",
    "            for k in np.arange(num_of_results):\n",
    "                p = p_games_val[i, k]\n",
    "                odd = bookmakers_val[i, k, j]\n",
    "                kelly = kelly_criterion(p, odd)\n",
    "                bet_name = head_to_head[i] + ',' + p_games.columns[k] + ',' + list_of_bookmakers[j]\n",
    "                kellies[bet_name] = kelly\n",
    "                bookmaker_row_vector[bet_name] = odd\n",
    "                prob_row_vector[bet_name] = p                \n",
    "                bet[bet_name] = m.addVar(vtype = grb.GRB.BINARY, name=bet_name)\n",
    "                              \n",
    "                bet_idx += 1\n",
    "                \n",
    "    m.update()\n",
    "    \n",
    "    # Add constraint: bet_i * kelly * single_bet_budget >= 0, otherwise we don't bet on it\n",
    "    for bet_name in bet.keys():\n",
    "        m.addConstr(bet[bet_name] * kellies[bet_name] * single_bet_budget >= 0, \n",
    "                    'we must bet on positive kelly games: ' + bet_name )\n",
    "        \n",
    "    # Add constraint: Total_bet <= total_budget\n",
    "    m.addConstr(\n",
    "        grb.quicksum(bet[bet_name] * kellies[bet_name] * single_bet_budget for bet_name in bet.keys()) <= total_budget, \n",
    "        'Total_bet <= total_budget')\n",
    "    \n",
    "    # Add objective function: maximize profit\n",
    "    # we need to experiment with different obj functions here. This obj function tries to maximize \n",
    "    # the total potential profit\n",
    "#     m.setObjective(\n",
    "#         grb.quicksum(bet[bet_name] * kellies[bet_name] * single_bet_budget * (bookmaker_row_vector[bet_name] - 1) \n",
    "#                      for bet_name in bet.keys()), grb.GRB.MAXIMIZE)\n",
    "    \n",
    "    # This obj function tries to maximize the total expected profit. It takes the probability of each potential\n",
    "    # profit into acount\n",
    "    m.setObjective(\n",
    "        grb.quicksum(bet[bet_name] * kellies[bet_name] * single_bet_budget * (bookmaker_row_vector[bet_name] - 1) \n",
    "                     * prob_row_vector[bet_name] - bet[bet_name] * kellies[bet_name] * single_bet_budget * (1 - prob_row_vector[bet_name]) \n",
    "                     for bet_name in bet.keys()), grb.GRB.MAXIMIZE)    \n",
    "    \n",
    "    # solve the optimization problem\n",
    "    m.params.OutputFlag = 0\n",
    "    m.optimize()\n",
    "    \n",
    "    ###########################\n",
    "    ### Step 3: Get results ###\n",
    "    ###########################\n",
    "    \n",
    "    actual_bets = {bet_name : bet[bet_name].x * kellies[bet_name] * single_bet_budget for bet_name in bet.keys()}\n",
    "    \n",
    "    expected_received = sum(bet[bet_name].x * kellies[bet_name] * single_bet_budget \n",
    "                                * bookmaker_row_vector[bet_name] * prob_row_vector[bet_name]  \n",
    "                                for bet_name in bet.keys())\n",
    "    expected_profit = expected_received - sum(actual_bets.values())\n",
    "    \n",
    "    potential_received = {bet_name : bet[bet_name].x * kellies[bet_name] * single_bet_budget \n",
    "                          * bookmaker_row_vector[bet_name] for bet_name in bet.keys()}\n",
    "    \n",
    "    return expected_profit, actual_bets, kellies, bookmaker_row_vector, prob_row_vector\n",
    "                \n",
    "    \n"
   ]
  },
  {
   "cell_type": "code",
   "execution_count": 84,
   "metadata": {
    "collapsed": true
   },
   "outputs": [],
   "source": [
    "def get_actual_profit(actual_bets, data, bookmaker_row_vector):\n",
    "    # Game Result, pandas data frame, with index as \"a vs b\", and columns as \"Home Win\",\"Home Draw\", \"Home Lost\"\n",
    "    result = pd.get_dummies(data, columns=['result'])[['result_1', 'result_2', 'result_3']]\n",
    "    result = result.set_index(data['Home vs Away'].values)\n",
    "    result.rename(columns = {'result_1' : 'Home Win', 'result_2' : 'Home Draw', 'result_3' : 'Home Lost'}, inplace=True)\n",
    "    \n",
    "    actual_received = {bet_name: actual_bets[bet_name] * bookmaker_row_vector[bet_name] \n",
    "                       if result.ix[bet_name.split(',')[0], bet_name.split(',')[1]] == 1\n",
    "                      else 0 for bet_name in actual_bets.keys()}\n",
    "    \n",
    "    actual_profit = sum(actual_received.values()) - sum(actual_bets.values())\n",
    "    return actual_profit"
   ]
  },
  {
   "cell_type": "code",
   "execution_count": 85,
   "metadata": {
    "collapsed": true
   },
   "outputs": [],
   "source": [
    "def plot_corr(df,size=10):\n",
    "    '''Function plots a graphical correlation matrix for each pair of columns in the dataframe.\n",
    "\n",
    "    Input:\n",
    "        df: pandas DataFrame\n",
    "        size: vertical and horizontal size of the plot'''\n",
    "\n",
    "    from matplotlib import pyplot as plt\n",
    "    corr = df.corr()\n",
    "    print(corr)\n",
    "    fig, ax = plt.subplots(figsize=(size, size))\n",
    "    ax.matshow(corr)\n",
    "    plt.xticks(range(len(corr.columns)), corr.columns);\n",
    "    plt.yticks(range(len(corr.columns)), corr.columns);"
   ]
  },
  {
   "cell_type": "code",
   "execution_count": null,
   "metadata": {
    "collapsed": false
   },
   "outputs": [],
   "source": [
    "result_dict = {'total_budget' : [], 'single_bet_budget' : [], 'expected_profit' : []}\n",
    "data = pd.read_csv('../../../data/third_party_preds/betegy-121615.csv')\n",
    "for total_budget in np.arange(100, 1000, 25):\n",
    "    for single_bet_budget in np.arange(50, 350, 25):\n",
    "        expected_profit, actual_bets, kellies, bookmaker_row_vector, prob_row_vector = solve(total_budget, single_bet_budget, data, list_of_bookmakers)\n",
    "        result_dict['total_budget'].append(total_budget)\n",
    "        result_dict['single_bet_budget'].append(single_bet_budget)\n",
    "        result_dict['expected_profit'].append(expected_profit)\n",
    "#         result_dict['actual_profit'].append(actual_profit)\n",
    "\n",
    "betting_tracker = pd.DataFrame(result_dict)\n",
    "betting_tracker.ix[betting_tracker.idxmax(axis = 0)]"
   ]
  },
  {
   "cell_type": "code",
   "execution_count": null,
   "metadata": {
    "collapsed": false
   },
   "outputs": [],
   "source": [
    "betting_tracker.ix[betting_tracker.idxmax(axis = 0)]\n",
    "betting_tracker.hist(column='expected_profit')"
   ]
  },
  {
   "cell_type": "code",
   "execution_count": null,
   "metadata": {
    "collapsed": false
   },
   "outputs": [],
   "source": [
    "result_dict = {'total_budget' : [], 'single_bet_budget' : [], 'expected_profit' : [], 'actual_profit' : []}\n",
    "data = pd.read_csv('../../../data/third_party_preds/betegy-121115.csv')\n",
    "for total_budget in np.arange(100, 1000, 25):\n",
    "    for single_bet_budget in np.arange(50, 350, 25):\n",
    "        expected_profit, actual_bets, kellies, bookmaker_row_vector, prob_row_vector = solve(total_budget, single_bet_budget, data, list_of_bookmakers)\n",
    "        actual_profit = get_actual_profit(actual_bets, data, bookmaker_row_vector)\n",
    "        result_dict['total_budget'].append(total_budget)\n",
    "        result_dict['single_bet_budget'].append(single_bet_budget)\n",
    "        result_dict['expected_profit'].append(expected_profit)\n",
    "        result_dict['actual_profit'].append(actual_profit)\n",
    "\n",
    "betting_tracker = pd.DataFrame(result_dict)\n",
    "betting_tracker.head()"
   ]
  },
  {
   "cell_type": "code",
   "execution_count": null,
   "metadata": {
    "collapsed": false
   },
   "outputs": [],
   "source": [
    "betting_tracker_copy = betting_tracker.copy()\n",
    "betting_tracker_copy = betting_tracker_copy[betting_tracker_copy['single_bet_budget'] <= 300]\n",
    "betting_tracker_copy.hist(column='actual_profit', bins = 50)\n",
    "print(np.mean(betting_tracker_copy['actual_profit'] > 0))\n",
    "betting_tracker_copy.plot(x='expected_profit', y='actual_profit', kind='scatter')\n",
    "plot_corr(betting_tracker_copy)"
   ]
  },
  {
   "cell_type": "code",
   "execution_count": null,
   "metadata": {
    "collapsed": false
   },
   "outputs": [],
   "source": [
    "result_dict = {'total_budget' : [], 'single_bet_budget' : [], 'expected_profit' : [], 'actual_profit' : []}\n",
    "data = pd.read_csv('../../../data/third_party_preds/betegy-120415.csv')\n",
    "for total_budget in np.arange(100, 1000, 25):\n",
    "    for single_bet_budget in np.arange(50, 350, 25):\n",
    "        expected_profit, actual_bets, kellies, bookmaker_row_vector, prob_row_vector = solve(total_budget, single_bet_budget, data, list_of_bookmakers)\n",
    "        actual_profit = get_actual_profit(actual_bets, data, bookmaker_row_vector)\n",
    "        result_dict['total_budget'].append(total_budget)\n",
    "        result_dict['single_bet_budget'].append(single_bet_budget)\n",
    "        result_dict['expected_profit'].append(expected_profit)\n",
    "        result_dict['actual_profit'].append(actual_profit)\n",
    "\n",
    "betting_tracker = pd.DataFrame(result_dict)\n",
    "betting_tracker.head()"
   ]
  },
  {
   "cell_type": "code",
   "execution_count": null,
   "metadata": {
    "collapsed": false
   },
   "outputs": [],
   "source": [
    "betting_tracker_copy = betting_tracker.copy()\n",
    "betting_tracker_copy = betting_tracker_copy[betting_tracker_copy['single_bet_budget'] <= 300]\n",
    "betting_tracker_copy.hist(column='actual_profit', bins = 50)\n",
    "print(np.mean(betting_tracker_copy['actual_profit'] > 0))\n",
    "betting_tracker_copy.plot(x='expected_profit', y='actual_profit', kind='scatter')\n",
    "plot_corr(betting_tracker_copy)"
   ]
  },
  {
   "cell_type": "code",
   "execution_count": null,
   "metadata": {
    "collapsed": false
   },
   "outputs": [],
   "source": [
    "betting_tracker_copy = betting_tracker.copy()\n",
    "betting_tracker_copy = betting_tracker_copy[betting_tracker_copy['single_bet_budget'] <= 150]\n",
    "betting_tracker_copy.hist(column='actual_profit', bins = 50)\n",
    "print(np.mean(betting_tracker_copy['actual_profit'] > 0))\n",
    "betting_tracker_copy.plot(x='expected_profit', y='actual_profit', kind='scatter')\n",
    "plot_corr(betting_tracker_copy)"
   ]
  },
  {
   "cell_type": "code",
   "execution_count": null,
   "metadata": {
    "collapsed": false
   },
   "outputs": [],
   "source": [
    "result_dict = {'total_budget' : [], 'single_bet_budget' : [], 'expected_profit' : [], 'actual_profit' : []}\n",
    "data = pd.read_csv('../../../data/third_party_preds/baidu-121115.csv')\n",
    "for total_budget in np.arange(100, 1000, 25):\n",
    "    for single_bet_budget in np.arange(50, 350, 25):\n",
    "        expected_profit, actual_bets, kellies, bookmaker_row_vector, prob_row_vector = solve(total_budget, single_bet_budget, data, list_of_bookmakers)\n",
    "        actual_profit = get_actual_profit(actual_bets, data, bookmaker_row_vector)\n",
    "        result_dict['total_budget'].append(total_budget)\n",
    "        result_dict['single_bet_budget'].append(single_bet_budget)\n",
    "        result_dict['expected_profit'].append(expected_profit)\n",
    "        result_dict['actual_profit'].append(actual_profit)\n",
    "\n",
    "betting_tracker = pd.DataFrame(result_dict)\n",
    "betting_tracker.head()"
   ]
  },
  {
   "cell_type": "code",
   "execution_count": null,
   "metadata": {
    "collapsed": false
   },
   "outputs": [],
   "source": [
    "betting_tracker_copy = betting_tracker.copy()\n",
    "betting_tracker_copy = betting_tracker_copy[betting_tracker_copy['single_bet_budget'] <= 300]\n",
    "betting_tracker_copy.hist(column='actual_profit', bins = 50)\n",
    "print(np.mean(betting_tracker_copy['actual_profit'] > 0))\n",
    "betting_tracker_copy.plot(x='expected_profit', y='actual_profit', kind='scatter')\n",
    "plot_corr(betting_tracker_copy)"
   ]
  },
  {
   "cell_type": "code",
   "execution_count": null,
   "metadata": {
    "collapsed": true
   },
   "outputs": [],
   "source": []
  }
 ],
 "metadata": {
  "kernelspec": {
   "display_name": "Python 3",
   "language": "python",
   "name": "python3"
  },
  "language_info": {
   "codemirror_mode": {
    "name": "ipython",
    "version": 3
   },
   "file_extension": ".py",
   "mimetype": "text/x-python",
   "name": "python",
   "nbconvert_exporter": "python",
   "pygments_lexer": "ipython3",
   "version": "3.4.3"
  }
 },
 "nbformat": 4,
 "nbformat_minor": 0
}
