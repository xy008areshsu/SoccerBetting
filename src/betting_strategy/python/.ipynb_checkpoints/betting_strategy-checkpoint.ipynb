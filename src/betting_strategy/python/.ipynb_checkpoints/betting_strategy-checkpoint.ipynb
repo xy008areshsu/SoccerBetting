{
 "cells": [
  {
   "cell_type": "code",
   "execution_count": 1,
   "metadata": {
    "collapsed": false
   },
   "outputs": [],
   "source": [
    "%matplotlib inline\n",
    "import gurobipy as grb\n",
    "import pandas as pd\n",
    "import numpy as np"
   ]
  },
  {
   "cell_type": "code",
   "execution_count": 18,
   "metadata": {
    "collapsed": false
   },
   "outputs": [],
   "source": [
    "data = pd.read_csv('../../../data/third_party_preds/betegy-121115.csv')\n",
    "data.columns, data.head()\n",
    "list_of_bookmakers = ['b365', 'bwin']"
   ]
  },
  {
   "cell_type": "code",
   "execution_count": 89,
   "metadata": {
    "collapsed": false
   },
   "outputs": [],
   "source": [
    "# p_games = data[['Home Win', 'Home Draw', 'Home Lost']]\n",
    "# num_of_games = p_games.shape[0]\n",
    "\n",
    "# num_of_results = 3\n",
    "\n",
    "# b365 = data[['b365H', 'b365D', 'b365A']]\n",
    "# bwin = data[['bwinH', 'bwinD', 'bwinA']]\n",
    "# bookmakers = [b365, bwin]\n",
    "# num_of_bookmakers = len(bookmakers)\n",
    "# head_to_head = data['Home vs Away']\n",
    "# names = [['b365'] * num_of_games + ['bwin'] * num_of_games,\n",
    "#           list(head_to_head) * num_of_bookmakers]\n",
    "# bookmakers = pd.DataFrame(np.concatenate([b365.values, bwin.values]), index=names, columns=['Home', 'Draw', 'Away'])\n",
    "# bookmakers.ix['b365']\n"
   ]
  },
  {
   "cell_type": "code",
   "execution_count": 13,
   "metadata": {
    "collapsed": true
   },
   "outputs": [],
   "source": [
    "def kelly_criterion(p, odd):\n",
    "    return p - (1 - p) / (odd - 1)"
   ]
  },
  {
   "cell_type": "code",
   "execution_count": 96,
   "metadata": {
    "collapsed": true
   },
   "outputs": [],
   "source": [
    "def solve(total_budget, single_bet_budget, data, list_of_bookmakers):\n",
    "    \"\"\"\n",
    "    Main solver to solve the betting strategy problem\n",
    "    \"\"\"\n",
    "    \n",
    "    \n",
    "    ###################################################################\n",
    "    ### Step 1: Config parameters: p_games, bookmakers, kelly, etc. ###\n",
    "    ###################################################################\n",
    "    \n",
    "    # p_games: probability of each game result\n",
    "    p_games = data[['Home Win', 'Home Draw', 'Home Lost']]\n",
    "    num_of_games = p_games.shape[0]\n",
    "\n",
    "    # Bookmakers\n",
    "    num_of_results = 3\n",
    "    all_bookmaker_odds = []\n",
    "    for bookmaker in list_of_bookmakers:\n",
    "        bookmaker_odds = data[[bookmaker + 'H', bookmaker + 'D', bookmaker + 'A']]\n",
    "        all_bookmaker_odds.append(bookmaker_odds)\n",
    "        \n",
    "    b365 = data[['b365H', 'b365D', 'b365A']]\n",
    "    bwin = data[['bwinH', 'bwinD', 'bwinA']]\n",
    "    bookmakers = [b365, bwin]\n",
    "    num_of_bookmakers = len(list_of_bookmakers)\n",
    "    head_to_head = data['Home vs Away']\n",
    "    first_level_idx = []\n",
    "    for bookmaker in list_of_bookmakers:\n",
    "        first_level_idx += [bookmaker] * num_of_games   \n",
    "    second_level_idx = list(head_to_head) * num_of_bookmakers\n",
    "    \n",
    "    index = [first_level_idx, second_level_idx]\n",
    "    bookmakers = pd.DataFrame(np.concatenate([bookmaker_odds.values for bookmaker_odds in all_bookmaker_odds]), \n",
    "                              index=index, columns=['Home', 'Draw', 'Away'])\n",
    "\n",
    "    # Game Result, pandas data frame, with index as \"a vs b\", and columns as \"Home Win\",\"Home Draw\", \"Home Lost\"\n",
    "    result = pd.get_dummies(data, columns=['result'])[['result_1', 'result_2', 'result_3']]\n",
    "    result = result.set_index(head_to_head.values)\n",
    "    result.rename(columns = {'result_1' : 'Home Win', 'result_2' : 'Home Draw', 'result_3' : 'Home Lost'}, inplace=True)\n",
    "\n",
    "    # Extract the values as numpy arraies from data frames. \n",
    "    p_games_val = p_games.values\n",
    "    bookmakers_val = np.zeros((num_of_games, num_of_results, num_of_bookmakers))    \n",
    "    for i in np.arange(num_of_bookmakers):\n",
    "        bookmakers_val[:, :, i] = bookmakers.ix[list_of_bookmakers[i]].values\n",
    "           \n",
    "    # Kelly, bookmakers, and probabilities of the results of each game, put into a dict\n",
    "    kellies = {}\n",
    "    bookmaker_row_vector = {}\n",
    "    prob_row_vector = {}\n",
    "    \n",
    "    \n",
    "    ##############################################################################\n",
    "    ### Step 2: Use Gurobi solver, model the optimization problem and solve it ###\n",
    "    ##############################################################################\n",
    "    \n",
    "    # Create Gurobi Model\n",
    "    m = grb.Model('betting strategy')\n",
    "    \n",
    "    # Create decision variables for the betting strategy, which are binary vars\n",
    "    # either bet this one or not. The price to bet is the corresponding kelly criteria value\n",
    "    # Also populate the parameters here\n",
    "    bet = {}   # bianry decision var\n",
    "    bet_idx = 0\n",
    "    n = 0\n",
    "    for i in np.arange(num_of_games):\n",
    "        for j in np.arange(num_of_bookmakers):\n",
    "            for k in np.arange(num_of_results):\n",
    "                p = p_games_val[i, k]\n",
    "                odd = bookmakers_val[i, k, j]\n",
    "                kelly = kelly_criterion(p, odd)\n",
    "                bet_name = head_to_head[i] + ',' + p_games.columns[k] + ',' + list_of_bookmakers[j]\n",
    "                kellies[bet_name] = kelly\n",
    "                bookmaker_row_vector[bet_name] = odd\n",
    "                prob_row_vector[bet_name] = p                \n",
    "                bet[bet_name] = m.addVar(vtype = grb.GRB.BINARY, name=bet_name)\n",
    "                              \n",
    "                bet_idx += 1\n",
    "                \n",
    "    m.update()\n",
    "    \n",
    "    # Add constraint: bet_i * kelly * single_bet_budget >= 0, otherwise we don't bet on it\n",
    "    for bet_name in bet.keys():\n",
    "        m.addConstr(bet[bet_name] * kellies[bet_name] * single_bet_budget >= 0, \n",
    "                    'we must bet on positive kelly games: ' + bet_name )\n",
    "        \n",
    "    # Add constraint: Total_bet <= total_budget\n",
    "    m.addConstr(\n",
    "        grb.quicksum(bet[bet_name] * kellies[bet_name] * single_bet_budget for bet_name in bet.keys()) <= total_budget, \n",
    "        'Total_bet <= total_budget')\n",
    "    \n",
    "    # Add objective function: maximize profit\n",
    "    m.setObjective(\n",
    "        grb.quicksum(bet[bet_name] * kellies[bet_name] * single_bet_budget * (bookmaker_row_vector[bet_name] - 1) \n",
    "                     for bet_name in bet.keys()), grb.GRB.MAXIMIZE)\n",
    "    \n",
    "    # solve the optimization problem\n",
    "    m.params.OutputFlag = 0\n",
    "    m.optimize()\n",
    "    \n",
    "    ###########################\n",
    "    ### Step 3: Get results ###\n",
    "    ###########################\n",
    "    \n",
    "    actual_bets = {bet_name : bet[bet_name].x * kellies[bet_name] * single_bet_budget for bet_name in bet.keys()}\n",
    "    \n",
    "    expected_received = sum(bet[bet_name].x * kellies[bet_name] * single_bet_budget \n",
    "                                * bookmaker_row_vector[bet_name] * prob_row_vector[bet_name]  \n",
    "                                for bet_name in bet.keys())\n",
    "    expected_profit = expected_received - sum(actual_bets.values())\n",
    "    \n",
    "    potential_received = {bet_name : bet[bet_name].x * kellies[bet_name] * single_bet_budget \n",
    "                          * bookmaker_row_vector[bet_name] for bet_name in bet.keys()}\n",
    "    \n",
    "    actual_received = {bet_name: bet[bet_name].x * kellies[bet_name] * single_bet_budget \n",
    "                       * bookmaker_row_vector[bet_name] \n",
    "                       if result.ix[bet_name.split(',')[0], bet_name.split(',')[1]] == 1\n",
    "                      else 0 for bet_name in bet.keys()}\n",
    "    \n",
    "    actual_profit = sum(actual_received.values()) - sum(actual_bets.values())\n",
    "    return expected_profit, actual_profit, actual_bets"
   ]
  },
  {
   "cell_type": "code",
   "execution_count": 97,
   "metadata": {
    "collapsed": false
   },
   "outputs": [],
   "source": [
    "total_budget = 1000\n",
    "single_bet_budget = 300\n",
    "list_of_bookmakers = ['b365', 'bwin']\n",
    "expected_profit, actual_profit, actual_bets = solve(total_budget, single_bet_budget, data, list_of_bookmakers)"
   ]
  },
  {
   "cell_type": "code",
   "execution_count": 98,
   "metadata": {
    "collapsed": false
   },
   "outputs": [
    {
     "data": {
      "text/plain": [
       "(1541.5223265500204, 112.95938817266517)"
      ]
     },
     "execution_count": 98,
     "metadata": {},
     "output_type": "execute_result"
    }
   ],
   "source": [
    "expected_profit, actual_profit"
   ]
  },
  {
   "cell_type": "code",
   "execution_count": 99,
   "metadata": {
    "collapsed": true
   },
   "outputs": [],
   "source": [
    "result_dict = {'total_budget' : [], 'single_bet_budget' : [], 'expected_profit' : [], 'actual_profit' : []}"
   ]
  },
  {
   "cell_type": "code",
   "execution_count": 110,
   "metadata": {
    "collapsed": false
   },
   "outputs": [
    {
     "data": {
      "text/html": [
       "<div>\n",
       "<table border=\"1\" class=\"dataframe\">\n",
       "  <thead>\n",
       "    <tr style=\"text-align: right;\">\n",
       "      <th></th>\n",
       "      <th>actual_profit</th>\n",
       "      <th>expected_profit</th>\n",
       "      <th>single_bet_budget</th>\n",
       "      <th>total_budget</th>\n",
       "    </tr>\n",
       "  </thead>\n",
       "  <tbody>\n",
       "    <tr>\n",
       "      <th>0</th>\n",
       "      <td>85.460769</td>\n",
       "      <td>200.310050</td>\n",
       "      <td>50</td>\n",
       "      <td>100</td>\n",
       "    </tr>\n",
       "    <tr>\n",
       "      <th>1</th>\n",
       "      <td>-98.231717</td>\n",
       "      <td>267.301592</td>\n",
       "      <td>100</td>\n",
       "      <td>100</td>\n",
       "    </tr>\n",
       "    <tr>\n",
       "      <th>2</th>\n",
       "      <td>-99.946019</td>\n",
       "      <td>330.824546</td>\n",
       "      <td>150</td>\n",
       "      <td>100</td>\n",
       "    </tr>\n",
       "    <tr>\n",
       "      <th>3</th>\n",
       "      <td>-96.474545</td>\n",
       "      <td>374.421073</td>\n",
       "      <td>200</td>\n",
       "      <td>100</td>\n",
       "    </tr>\n",
       "    <tr>\n",
       "      <th>4</th>\n",
       "      <td>-99.950144</td>\n",
       "      <td>388.272268</td>\n",
       "      <td>250</td>\n",
       "      <td>100</td>\n",
       "    </tr>\n",
       "  </tbody>\n",
       "</table>\n",
       "</div>"
      ],
      "text/plain": [
       "   actual_profit  expected_profit  single_bet_budget  total_budget\n",
       "0      85.460769       200.310050                 50           100\n",
       "1     -98.231717       267.301592                100           100\n",
       "2     -99.946019       330.824546                150           100\n",
       "3     -96.474545       374.421073                200           100\n",
       "4     -99.950144       388.272268                250           100"
      ]
     },
     "execution_count": 110,
     "metadata": {},
     "output_type": "execute_result"
    }
   ],
   "source": [
    "for total_budget in np.arange(100, 1000, 25):\n",
    "    for single_bet_budget in np.arange(50, 300, 25):\n",
    "        expected_profit, actual_profit, actual_bets = solve(total_budget, single_bet_budget, data, list_of_bookmakers)\n",
    "        result_dict['total_budget'].append(total_budget)\n",
    "        result_dict['single_bet_budget'].append(single_bet_budget)\n",
    "        result_dict['expected_profit'].append(expected_profit)\n",
    "        result_dict['actual_profit'].append(actual_profit)\n",
    "\n",
    "betting_tracker = pd.DataFrame(result_dict)\n",
    "betting_tracker.head()"
   ]
  },
  {
   "cell_type": "code",
   "execution_count": 111,
   "metadata": {
    "collapsed": false
   },
   "outputs": [
    {
     "data": {
      "text/plain": [
       "array([[<matplotlib.axes.AxesSubplot object at 0x7fe45a2cfeb8>]], dtype=object)"
      ]
     },
     "execution_count": 111,
     "metadata": {},
     "output_type": "execute_result"
    },
    {
     "data": {
      "image/png": "[encoded data removed]",
      "text/plain": [
       "<matplotlib.figure.Figure at 0x7fe45bd22da0>"
      ]
     },
     "metadata": {},
     "output_type": "display_data"
    }
   ],
   "source": [
    "betting_tracker.hist(column='actual_profit')"
   ]
  },
  {
   "cell_type": "code",
   "execution_count": 116,
   "metadata": {
    "collapsed": false
   },
   "outputs": [
    {
     "data": {
      "text/plain": [
       "0.94166666666666665"
      ]
     },
     "execution_count": 116,
     "metadata": {},
     "output_type": "execute_result"
    },
    {
     "data": {
      "image/png": "[encoded data removed]",
      "text/plain": [
       "<matplotlib.figure.Figure at 0x7fe459fc0470>"
      ]
     },
     "metadata": {},
     "output_type": "display_data"
    }
   ],
   "source": [
    "betting_tracker_copy = betting_tracker.copy()\n",
    "betting_tracker_copy = betting_tracker_copy[betting_tracker_copy['single_bet_budget'] <= 100]\n",
    "betting_tracker_copy.hist(column='actual_profit', bins = 20)\n",
    "np.mean(betting_tracker_copy['actual_profit'] > 0)"
   ]
  },
  {
   "cell_type": "code",
   "execution_count": 120,
   "metadata": {
    "collapsed": false
   },
   "outputs": [
    {
     "data": {
      "text/plain": [
       "0.92880794701986757"
      ]
     },
     "execution_count": 120,
     "metadata": {},
     "output_type": "execute_result"
    },
    {
     "data": {
      "image/png": "[encoded data removed]",
      "text/plain": [
       "<matplotlib.figure.Figure at 0x7fe45bd3c128>"
      ]
     },
     "metadata": {},
     "output_type": "display_data"
    }
   ],
   "source": [
    "betting_tracker_copy = betting_tracker.copy()\n",
    "betting_tracker_copy = betting_tracker_copy[betting_tracker_copy['single_bet_budget'] <= 125]\n",
    "betting_tracker_copy.hist(column='actual_profit', bins = 50)\n",
    "np.mean(betting_tracker_copy['actual_profit'] > 0)"
   ]
  },
  {
   "cell_type": "code",
   "execution_count": 126,
   "metadata": {
    "collapsed": false
   },
   "outputs": [
    {
     "data": {
      "text/plain": [
       "0.80380673499267941"
      ]
     },
     "execution_count": 126,
     "metadata": {},
     "output_type": "execute_result"
    },
    {
     "data": {
      "image/png": "[encoded data removed]",
      "text/plain": [
       "<matplotlib.figure.Figure at 0x7fe45a171320>"
      ]
     },
     "metadata": {},
     "output_type": "display_data"
    }
   ],
   "source": [
    "betting_tracker_copy = betting_tracker.copy()\n",
    "betting_tracker_copy = betting_tracker_copy[betting_tracker_copy['single_bet_budget'] <= 300]\n",
    "betting_tracker_copy.hist(column='actual_profit', bins = 50)\n",
    "np.mean(betting_tracker_copy['actual_profit'] > 0)"
   ]
  },
  {
   "cell_type": "code",
   "execution_count": null,
   "metadata": {
    "collapsed": true
   },
   "outputs": [],
   "source": []
  }
 ],
 "metadata": {
  "kernelspec": {
   "display_name": "Python 3",
   "language": "python",
   "name": "python3"
  },
  "language_info": {
   "codemirror_mode": {
    "name": "ipython",
    "version": 3
   },
   "file_extension": ".py",
   "mimetype": "text/x-python",
   "name": "python",
   "nbconvert_exporter": "python",
   "pygments_lexer": "ipython3",
   "version": "3.4.3"
  }
 },
 "nbformat": 4,
 "nbformat_minor": 0
}
