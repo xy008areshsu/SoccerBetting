{
 "cells": [
  {
   "cell_type": "code",
   "execution_count": 1,
   "metadata": {
    "collapsed": true
   },
   "outputs": [],
   "source": [
    "%matplotlib inline\n",
    "import matplotlib.pyplot as plt\n",
    "import numpy as np\n",
    "import pandas as pd\n",
    "\n",
    "import warnings\n",
    "warnings.simplefilter('ignore', DeprecationWarning)"
   ]
  },
  {
   "cell_type": "code",
   "execution_count": 2,
   "metadata": {
    "collapsed": true
   },
   "outputs": [],
   "source": [
    "#data = pd.read_csv('https://dl.dropboxusercontent.com/u/5743203/data/titanic/titanic_train.csv')\n",
    "data = pd.read_csv('../../../data/clean_data.csv')  # result column, 1 means home win, 2 home draw, 3 home lose\n",
    "data2 = pd.read_csv('../../../data/clean_data_using_getdummy.csv')  # result column, 1 means home win, 2 home draw, 3 home lose"
   ]
  },
  {
   "cell_type": "code",
   "execution_count": 3,
   "metadata": {
    "collapsed": true
   },
   "outputs": [],
   "source": [
    "result_column = data['result']\n",
    "result_column2 = data2['result']"
   ]
  },
  {
   "cell_type": "code",
   "execution_count": 4,
   "metadata": {
    "collapsed": false
   },
   "outputs": [
    {
     "name": "stdout",
     "output_type": "stream",
     "text": [
      "0.468425071961\n",
      "0.259531222464\n",
      "0.272043705575\n"
     ]
    }
   ],
   "source": [
    "print(np.mean(result_column == 1))\n",
    "print(np.mean(result_column == 2))\n",
    "print(np.mean(result_column == 3))"
   ]
  },
  {
   "cell_type": "code",
   "execution_count": 5,
   "metadata": {
    "collapsed": false
   },
   "outputs": [],
   "source": [
    "target = result_column.values\n",
    "target2 = result_column2.values"
   ]
  },
  {
   "cell_type": "code",
   "execution_count": 6,
   "metadata": {
    "collapsed": false
   },
   "outputs": [],
   "source": [
    "# data.columns[0:]\n",
    "numerical_features = data[data.columns[0:-1]]\n",
    "numerical_features2 = data2[data2.columns[0:-1]]"
   ]
  },
  {
   "cell_type": "code",
   "execution_count": 7,
   "metadata": {
    "collapsed": false
   },
   "outputs": [],
   "source": [
    "features_array = numerical_features.values\n",
    "features_array2 = numerical_features2.values"
   ]
  },
  {
   "cell_type": "code",
   "execution_count": 8,
   "metadata": {
    "collapsed": false
   },
   "outputs": [
    {
     "name": "stdout",
     "output_type": "stream",
     "text": [
      "13618\n",
      "13618\n",
      "3405\n"
     ]
    }
   ],
   "source": [
    "from sklearn.cross_validation import train_test_split\n",
    "\n",
    "features_train, features_test, target_train, target_test = train_test_split(\n",
    "    features_array, target, test_size=0.20, random_state=0)\n",
    "features_train2, features_test2, target_train2, target_test2 = train_test_split(\n",
    "    features_array2, target2, test_size=0.20, random_state=0)\n",
    "print(len(features_train))\n",
    "print(len(features_train2))\n",
    "print(len(features_test2))"
   ]
  },
  {
   "cell_type": "code",
   "execution_count": 9,
   "metadata": {
    "collapsed": false
   },
   "outputs": [
    {
     "name": "stdout",
     "output_type": "stream",
     "text": [
      "13187 0.787214681125\n",
      "10701 0.805625642463\n",
      "8397 0.827557460998\n",
      "6984 0.838487972509\n",
      "5917 0.850430961636\n",
      "5006 0.860966839792\n",
      "4217 0.873843964904\n",
      "3529 0.883536412581\n",
      "3010 0.896013289037\n",
      "0.784182699368\n"
     ]
    }
   ],
   "source": [
    "def is_unexpected(features, target, threshold):\n",
    "    b365_odds = features[:, 16 : 19]\n",
    "    return (((np.amax(b365_odds, axis = 1) - np.amin(b365_odds, axis = 1)) > threshold) \n",
    "            & (np.argmin(b365_odds, axis = 1) + 1 != target))\n",
    "\n",
    "def correct_predict_based_on_odds(features, target, threshold):\n",
    "    b365_odds = features[:, 16:19]\n",
    "    new_features = features[(np.amax(b365_odds, axis = 1) - np.amin(b365_odds, axis = 1)) > threshold]\n",
    "    new_target = target[(np.amax(b365_odds, axis = 1) - np.amin(b365_odds, axis = 1)) > threshold]\n",
    "    b365_odds = b365_odds[(np.amax(b365_odds, axis = 1) - np.amin(b365_odds, axis = 1)) > threshold]\n",
    "    miss_predicts_rate = np.mean(np.argmin(b365_odds, axis = 1) + 1 != new_target)\n",
    "\n",
    "    return new_features, new_target, miss_predicts_rate\n",
    "\n",
    "def miss_predict_based_on_odds(features, target):\n",
    "    b365_odds = features[:, 16 : 19]\n",
    "    return np.argmin(b365_odds, axis = 1) + 1 != target    \n",
    "\n",
    "def is_unexpected2(features, target, threshold):\n",
    "    b365_odds = features[:, 378 : 381]  # This needs to be changed based on different result.csv\n",
    "    return (((np.amax(b365_odds, axis = 1) - np.amin(b365_odds, axis = 1)) > threshold) \n",
    "            & (np.argmin(b365_odds, axis = 1) + 1 != target))\n",
    "\n",
    "def correct_predict_based_on_odds2(features, target, threshold):\n",
    "    b365_odds = features[:, 378:381]  # This needs to be changed based on different result.csv\n",
    "    new_features = features[(np.amax(b365_odds, axis = 1) - np.amin(b365_odds, axis = 1)) > threshold]\n",
    "    new_target = target[(np.amax(b365_odds, axis = 1) - np.amin(b365_odds, axis = 1)) > threshold]\n",
    "    b365_odds = b365_odds[(np.amax(b365_odds, axis = 1) - np.amin(b365_odds, axis = 1)) > threshold]\n",
    "    miss_predicts_rate = np.mean(np.argmin(b365_odds, axis = 1) + 1 != new_target)\n",
    "\n",
    "    return new_features, new_target, miss_predicts_rate\n",
    "\n",
    "def miss_predict_based_on_odds2(features, target):\n",
    "    b365_odds = features[:, 378 : 381] # This needs to be changed based on different result.csv\n",
    "    return np.argmin(b365_odds, axis = 1) + 1 != target  \n",
    "\n",
    "for threshold in np.arange(0.5, 5, 0.5):\n",
    "    new_features2, new_target2, miss_predicts_rate2 = correct_predict_based_on_odds2(features_train2, target_train2, threshold)\n",
    "    print(len(new_features2), miss_predicts_rate2)\n",
    "    \n",
    "print(np.mean(miss_predict_based_on_odds2(features_train2, target_train2)))"
   ]
  },
  {
   "cell_type": "code",
   "execution_count": 10,
   "metadata": {
    "collapsed": true
   },
   "outputs": [],
   "source": [
    "from sklearn.preprocessing import StandardScaler  \n",
    "scaler = StandardScaler()  \n",
    "# Don't cheat - fit only on training data\n",
    "scaler.fit(features_train)  \n",
    "X_train = scaler.transform(features_train)  \n",
    "# apply same transformation to test data\n",
    "X_test = scaler.transform(features_test)  \n",
    "# print(X_train[0:5])"
   ]
  },
  {
   "cell_type": "code",
   "execution_count": 11,
   "metadata": {
    "collapsed": true
   },
   "outputs": [],
   "source": [
    "from sklearn.linear_model import LogisticRegression\n",
    "from sklearn.metrics import accuracy_score\n",
    "from sklearn.preprocessing import StandardScaler  \n"
   ]
  },
  {
   "cell_type": "code",
   "execution_count": 12,
   "metadata": {
    "collapsed": false
   },
   "outputs": [
    {
     "name": "stdout",
     "output_type": "stream",
     "text": [
      "Odds Difference Threshold to remove sample data:  0.1\n",
      "Number of training data under this odds difference threshold:  13616\n",
      "Number of test data under this odds difference threshold:  3405\n",
      "Percentage of predictions with the Prob_threshold of  0.75  :  0.0825256975037\n",
      "Accuracy with this prob_threshold:  0.779359430605\n",
      "Total accuracy:  0.51718061674\n",
      "\n",
      "\n",
      "\n",
      "Odds Difference Threshold to remove sample data:  0.6\n",
      "Number of training data under this odds difference threshold:  13078\n",
      "Number of test data under this odds difference threshold:  3252\n",
      "Percentage of predictions with the Prob_threshold of  0.75  :  0.0870233702337\n",
      "Accuracy with this prob_threshold:  0.780918727915\n",
      "Total accuracy:  0.524292742927\n",
      "\n",
      "\n",
      "\n",
      "Odds Difference Threshold to remove sample data:  1.1\n",
      "Number of training data under this odds difference threshold:  10007\n",
      "Number of test data under this odds difference threshold:  2477\n",
      "Percentage of predictions with the Prob_threshold of  0.75  :  0.111021396851\n",
      "Accuracy with this prob_threshold:  0.778181818182\n",
      "Total accuracy:  0.562373839322\n",
      "\n",
      "\n",
      "\n",
      "Odds Difference Threshold to remove sample data:  1.6\n",
      "Number of training data under this odds difference threshold:  8057\n",
      "Number of test data under this odds difference threshold:  2020\n",
      "Percentage of predictions with the Prob_threshold of  0.75  :  0.134653465347\n",
      "Accuracy with this prob_threshold:  0.772058823529\n",
      "Total accuracy:  0.589108910891\n",
      "\n",
      "\n",
      "\n",
      "Odds Difference Threshold to remove sample data:  2.1\n",
      "Number of training data under this odds difference threshold:  6609\n",
      "Number of test data under this odds difference threshold:  1622\n",
      "Percentage of predictions with the Prob_threshold of  0.75  :  0.167694204686\n",
      "Accuracy with this prob_threshold:  0.772058823529\n",
      "Total accuracy:  0.618988902589\n",
      "\n",
      "\n",
      "\n",
      "Odds Difference Threshold to remove sample data:  2.6\n",
      "Number of training data under this odds difference threshold:  5752\n",
      "Number of test data under this odds difference threshold:  1400\n",
      "Percentage of predictions with the Prob_threshold of  0.75  :  0.192142857143\n",
      "Accuracy with this prob_threshold:  0.769516728625\n",
      "Total accuracy:  0.640714285714\n",
      "\n",
      "\n",
      "\n",
      "Odds Difference Threshold to remove sample data:  3.1\n",
      "Number of training data under this odds difference threshold:  4923\n",
      "Number of test data under this odds difference threshold:  1178\n",
      "Percentage of predictions with the Prob_threshold of  0.75  :  0.230050933786\n",
      "Accuracy with this prob_threshold:  0.774907749077\n",
      "Total accuracy:  0.657894736842\n",
      "\n",
      "\n",
      "\n",
      "Odds Difference Threshold to remove sample data:  3.6\n",
      "Number of training data under this odds difference threshold:  4145\n",
      "Number of test data under this odds difference threshold:  1008\n",
      "Percentage of predictions with the Prob_threshold of  0.75  :  0.274801587302\n",
      "Accuracy with this prob_threshold:  0.765342960289\n",
      "Total accuracy:  0.678571428571\n",
      "\n",
      "\n",
      "\n",
      "Odds Difference Threshold to remove sample data:  4.1\n",
      "Number of training data under this odds difference threshold:  3538\n",
      "Number of test data under this odds difference threshold:  856\n",
      "Percentage of predictions with the Prob_threshold of  0.75  :  0.325934579439\n",
      "Accuracy with this prob_threshold:  0.767025089606\n",
      "Total accuracy:  0.692757009346\n",
      "\n",
      "\n",
      "\n",
      "Odds Difference Threshold to remove sample data:  4.6\n",
      "Number of training data under this odds difference threshold:  2982\n",
      "Number of test data under this odds difference threshold:  723\n",
      "Percentage of predictions with the Prob_threshold of  0.75  :  0.383125864454\n",
      "Accuracy with this prob_threshold:  0.750902527076\n",
      "Total accuracy:  0.709543568465\n",
      "\n",
      "\n",
      "\n",
      "Odds Difference Threshold to remove sample data:  5.1\n",
      "Number of training data under this odds difference threshold:  2633\n",
      "Number of test data under this odds difference threshold:  637\n",
      "Percentage of predictions with the Prob_threshold of  0.75  :  0.43328100471\n",
      "Accuracy with this prob_threshold:  0.735507246377\n",
      "Total accuracy:  0.726844583987\n",
      "\n",
      "\n",
      "\n",
      "Odds Difference Threshold to remove sample data:  5.6\n",
      "Number of training data under this odds difference threshold:  2264\n",
      "Number of test data under this odds difference threshold:  550\n",
      "Percentage of predictions with the Prob_threshold of  0.75  :  0.505454545455\n",
      "Accuracy with this prob_threshold:  0.744604316547\n",
      "Total accuracy:  0.743636363636\n",
      "\n",
      "\n",
      "\n",
      "Odds Difference Threshold to remove sample data:  6.1\n",
      "Number of training data under this odds difference threshold:  1923\n",
      "Number of test data under this odds difference threshold:  478\n",
      "Percentage of predictions with the Prob_threshold of  0.75  :  0.543933054393\n",
      "Accuracy with this prob_threshold:  0.753846153846\n",
      "Total accuracy:  0.751046025105\n",
      "\n",
      "\n",
      "\n",
      "Odds Difference Threshold to remove sample data:  6.6\n",
      "Number of training data under this odds difference threshold:  1720\n",
      "Number of test data under this odds difference threshold:  419\n",
      "Percentage of predictions with the Prob_threshold of  0.75  :  0.613365155131\n",
      "Accuracy with this prob_threshold:  0.750972762646\n",
      "Total accuracy:  0.749403341289\n",
      "\n",
      "\n",
      "\n"
     ]
    }
   ],
   "source": [
    "clf = LogisticRegression(C=1, n_jobs = -1)\n",
    "# clf.fit(X_train, target_train)\n",
    "\n",
    "# from sklearn.svm import SVC\n",
    "# clf = SVC(C = 1, kernel = 'rbf', probability = True)\n",
    "# clf.fit(X_train, target_train)\n",
    "\n",
    "# from sklearn.ensemble import RandomForestClassifier\n",
    "# clf = RandomForestClassifier(min_samples_split = 10, n_estimators = 1000, criterion='entropy')\n",
    "# clf.fit(X_train, target_train)\n",
    "\n",
    "# from sklearn.ensemble import AdaBoostClassifier\n",
    "# clf = AdaBoostClassifier(n_estimators = 1000)\n",
    "# clf.fit(X_train, target_train)\n",
    "\n",
    "# from sklearn.naive_bayes import GaussianNB\n",
    "# clf = GaussianNB()\n",
    "# clf.fit(X_train, target_train)\n",
    "\n",
    "for threshold in np.arange(0.1, 7, 0.5):\n",
    "    new_features_train, new_target_train, miss_predicts_rate = correct_predict_based_on_odds(features_train, target_train, threshold)\n",
    "    new_features_test, new_target_test, miss_predicts_rate_test = correct_predict_based_on_odds(features_test, target_test, threshold)\n",
    "    print('Odds Difference Threshold to remove sample data: ', threshold)\n",
    "    print('Number of training data under this odds difference threshold: ', len(new_features_train))\n",
    "    print('Number of test data under this odds difference threshold: ', len(new_features_test))\n",
    "    \n",
    "    # feature scaling\n",
    "    scaler = StandardScaler()  \n",
    "    # Don't cheat - fit only on training data\n",
    "    scaler.fit(new_features_train)  \n",
    "    X_train = scaler.transform(new_features_train)  \n",
    "    # apply same transformation to test data\n",
    "    X_test = scaler.transform(new_features_test)  \n",
    "    \n",
    "    \n",
    "    clf.fit(X_train, new_target_train)\n",
    "    target_predicted_proba = clf.predict_proba(X_test)\n",
    "    # print(target_predicted_proba)\n",
    "    target_predicted = clf.predict(X_test)\n",
    "    prob_threshold = 0.75\n",
    "    \n",
    "    print('Percentage of predictions with the Prob_threshold of ', prob_threshold, \n",
    "          ' : ', np.mean(np.amax(target_predicted_proba, axis = 1) > prob_threshold))\n",
    "    print('Accuracy with this prob_threshold: ', np.mean((target_predicted == new_target_test) & (np.amax(target_predicted_proba, axis = 1) > prob_threshold)) \n",
    "          / np.mean(np.amax(target_predicted_proba, axis = 1) > prob_threshold))\n",
    "    #print(np.mean((target_predicted != new_target_test) & (np.amax(target_predicted_proba, axis = 1) > prob_threshold)))\n",
    "    #print(np.sum((target_predicted == new_target_test) & (np.amax(target_predicted_proba, axis = 1) > prob_threshold)))\n",
    "    #print(np.sum((target_predicted != new_target_test) & (np.amax(target_predicted_proba, axis = 1) > prob_threshold)))\n",
    "    print('Total accuracy: ', accuracy_score(new_target_test, target_predicted))\n",
    "    X_test_greater_than_prob_threshold = features_train[np.amax(target_predicted_proba, axis = 1) > prob_threshold, ]\n",
    "#     print(X_test_greater_than_prob_threshold[0 : 2, ])\n",
    "    print('\\n\\n')"
   ]
  },
  {
   "cell_type": "code",
   "execution_count": null,
   "metadata": {
    "collapsed": false
   },
   "outputs": [
    {
     "name": "stdout",
     "output_type": "stream",
     "text": [
      "Odds Difference Threshold to remove sample data:  0.1\n",
      "Number of training data under this odds difference threshold:  13614\n",
      "Number of test data under this odds difference threshold:  3404\n",
      "Percentage of predictions with the Prob_threshold of  0.7  :  0.320505287897\n",
      "Accuracy with this prob_threshold:  0.925756186984\n",
      "Total accuracy:  0.647179788484\n",
      "\n",
      "\n",
      "\n",
      "Odds Difference Threshold to remove sample data:  0.6\n",
      "Number of training data under this odds difference threshold:  13108\n",
      "Number of test data under this odds difference threshold:  3267\n",
      "Percentage of predictions with the Prob_threshold of  0.7  :  0.341597796143\n",
      "Accuracy with this prob_threshold:  0.914874551971\n",
      "Total accuracy:  0.660238751148\n",
      "\n",
      "\n",
      "\n",
      "Odds Difference Threshold to remove sample data:  1.1\n",
      "Number of training data under this odds difference threshold:  10094\n",
      "Number of test data under this odds difference threshold:  2508\n",
      "Percentage of predictions with the Prob_threshold of  0.7  :  0.552631578947\n",
      "Accuracy with this prob_threshold:  0.911255411255\n",
      "Total accuracy:  0.723285486443\n",
      "\n",
      "\n",
      "\n",
      "Odds Difference Threshold to remove sample data:  1.6\n",
      "Number of training data under this odds difference threshold:  8085\n",
      "Number of test data under this odds difference threshold:  2010\n",
      "Percentage of predictions with the Prob_threshold of  0.7  :  0.623880597015\n",
      "Accuracy with this prob_threshold:  0.921850079745\n",
      "Total accuracy:  0.753233830846\n",
      "\n",
      "\n",
      "\n",
      "Odds Difference Threshold to remove sample data:  2.1\n",
      "Number of training data under this odds difference threshold:  6685\n",
      "Number of test data under this odds difference threshold:  1647\n",
      "Percentage of predictions with the Prob_threshold of  0.7  :  0.671523982999\n",
      "Accuracy with this prob_threshold:  0.921338155515\n",
      "Total accuracy:  0.786885245902\n",
      "\n",
      "\n",
      "\n",
      "Odds Difference Threshold to remove sample data: "
     ]
    }
   ],
   "source": [
    "clf = LogisticRegression(C=1, n_jobs = -1)\n",
    "\n",
    "\n",
    "# from sklearn.svm import SVC\n",
    "# clf = SVC(C = 1, kernel = 'poly', probability = True)\n",
    "\n",
    "\n",
    "# from sklearn.ensemble import RandomForestClassifier\n",
    "# clf = RandomForestClassifier(min_samples_split = 10, n_estimators = 1000, criterion='entropy')\n",
    "\n",
    "\n",
    "# from sklearn.ensemble import AdaBoostClassifier\n",
    "# clf = AdaBoostClassifier(n_estimators = 1000)\n",
    "\n",
    "\n",
    "# from sklearn.naive_bayes import GaussianNB\n",
    "# clf = GaussianNB()\n",
    "\n",
    "\n",
    "for threshold in np.arange(0.1, 7, 0.5):\n",
    "    new_features_train2, new_target_train2, miss_predicts_rate2 = correct_predict_based_on_odds2(features_train2, target_train2, threshold)\n",
    "    new_features_test2, new_target_test2, miss_predicts_rate_test2 = correct_predict_based_on_odds2(features_test2, target_test2, threshold)\n",
    "    print('Odds Difference Threshold to remove sample data: ', threshold)\n",
    "    print('Number of training data under this odds difference threshold: ', len(new_features_train2))\n",
    "    print('Number of test data under this odds difference threshold: ', len(new_features_test2))\n",
    "    \n",
    "    # feature scaling\n",
    "    scaler = StandardScaler()  \n",
    "    # Don't cheat - fit only on training data\n",
    "    scaler.fit(new_features_train2)  \n",
    "    X_train2 = scaler.transform(new_features_train2)  \n",
    "    # apply same transformation to test data\n",
    "    X_test2 = scaler.transform(new_features_test2)  \n",
    "    \n",
    "    \n",
    "    clf.fit(X_train2, new_target_train2)\n",
    "    target_predicted_proba2 = clf.predict_proba(X_test2)\n",
    "    # print(target_predicted_proba)\n",
    "    target_predicted2 = clf.predict(X_test2)\n",
    "    prob_threshold = 0.70\n",
    "    \n",
    "    print('Percentage of predictions with the Prob_threshold of ', prob_threshold, \n",
    "          ' : ', np.mean(np.amax(target_predicted_proba2, axis = 1) > prob_threshold))\n",
    "    print('Accuracy with this prob_threshold: ', np.mean((target_predicted2 == new_target_test2) & (np.amax(target_predicted_proba2, axis = 1) > prob_threshold)) \n",
    "          / np.mean(np.amax(target_predicted_proba2, axis = 1) > prob_threshold))\n",
    "    #print(np.mean((target_predicted != new_target_test) & (np.amax(target_predicted_proba, axis = 1) > prob_threshold)))\n",
    "    #print(np.sum((target_predicted == new_target_test) & (np.amax(target_predicted_proba, axis = 1) > prob_threshold)))\n",
    "    #print(np.sum((target_predicted != new_target_test) & (np.amax(target_predicted_proba, axis = 1) > prob_threshold)))\n",
    "    print('Total accuracy: ', accuracy_score(new_target_test2, target_predicted2))\n",
    "    X_test_greater_than_prob_threshold2 = features_train[np.amax(target_predicted_proba2, axis = 1) > prob_threshold, ]\n",
    "#     print(X_test_greater_than_prob_threshold[0 : 2, ])\n",
    "    print('\\n\\n')"
   ]
  },
  {
   "cell_type": "code",
   "execution_count": null,
   "metadata": {
    "collapsed": true
   },
   "outputs": [],
   "source": []
  }
 ],
 "metadata": {
  "kernelspec": {
   "display_name": "Python 3",
   "language": "python",
   "name": "python3"
  },
  "language_info": {
   "codemirror_mode": {
    "name": "ipython",
    "version": 3
   },
   "file_extension": ".py",
   "mimetype": "text/x-python",
   "name": "python",
   "nbconvert_exporter": "python",
   "pygments_lexer": "ipython3",
   "version": "3.4.3"
  }
 },
 "nbformat": 4,
 "nbformat_minor": 0
}
