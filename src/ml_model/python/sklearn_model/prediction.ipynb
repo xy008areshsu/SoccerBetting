{
 "cells": [
  {
   "cell_type": "code",
   "execution_count": 1,
   "metadata": {
    "collapsed": true
   },
   "outputs": [],
   "source": [
    "%matplotlib inline\n",
    "import matplotlib.pyplot as plt\n",
    "import numpy as np\n",
    "import pandas as pd\n",
    "from sklearn.metrics import precision_score\n",
    "from sklearn.metrics import recall_score\n",
    "\n",
    "import warnings\n",
    "warnings.simplefilter('ignore', DeprecationWarning)"
   ]
  },
  {
   "cell_type": "code",
   "execution_count": 2,
   "metadata": {
    "collapsed": true
   },
   "outputs": [],
   "source": [
    "data_dir = '../../../../data/'"
   ]
  },
  {
   "cell_type": "code",
   "execution_count": 3,
   "metadata": {
    "collapsed": false
   },
   "outputs": [],
   "source": [
    "#data = pd.read_csv('https://dl.dropboxusercontent.com/u/5743203/data/titanic/titanic_train.csv')\n",
    "data = pd.read_csv(data_dir + 'clean_data.csv')  # result column, 1 means home win, 2 home draw, 3 home lose\n",
    "data2 = pd.read_csv(data_dir + 'clean_data_using_getdummy.csv')  # result column, 1 means home win, 2 home draw, 3 home lose"
   ]
  },
  {
   "cell_type": "code",
   "execution_count": 4,
   "metadata": {
    "collapsed": true
   },
   "outputs": [],
   "source": [
    "result_column = data['result']\n",
    "result_column2 = data2['result']"
   ]
  },
  {
   "cell_type": "code",
   "execution_count": 5,
   "metadata": {
    "collapsed": false
   },
   "outputs": [
    {
     "name": "stdout",
     "output_type": "stream",
     "text": [
      "0.468425071961\n",
      "0.259531222464\n",
      "0.272043705575\n"
     ]
    }
   ],
   "source": [
    "print(np.mean(result_column == 1))\n",
    "print(np.mean(result_column == 2))\n",
    "print(np.mean(result_column == 3))"
   ]
  },
  {
   "cell_type": "code",
   "execution_count": 6,
   "metadata": {
    "collapsed": false
   },
   "outputs": [],
   "source": [
    "target = result_column.values\n",
    "target2 = result_column2.values"
   ]
  },
  {
   "cell_type": "code",
   "execution_count": 8,
   "metadata": {
    "collapsed": false
   },
   "outputs": [
    {
     "data": {
      "text/html": [
       "<div>\n",
       "<table border=\"1\" class=\"dataframe\">\n",
       "  <thead>\n",
       "    <tr style=\"text-align: right;\">\n",
       "      <th></th>\n",
       "      <th>HomeTeam_AZ Alkmaar</th>\n",
       "      <th>HomeTeam_Aachen</th>\n",
       "      <th>HomeTeam_Ajaccio</th>\n",
       "      <th>HomeTeam_Ajax</th>\n",
       "      <th>HomeTeam_Ajax</th>\n",
       "      <th>HomeTeam_Alaves</th>\n",
       "      <th>HomeTeam_Almeria</th>\n",
       "      <th>HomeTeam_Arles</th>\n",
       "      <th>HomeTeam_Arsenal</th>\n",
       "      <th>HomeTeam_Ascoli</th>\n",
       "      <th>...</th>\n",
       "      <th>IWA</th>\n",
       "      <th>LBH</th>\n",
       "      <th>LBD</th>\n",
       "      <th>LBA</th>\n",
       "      <th>WHH</th>\n",
       "      <th>WHD</th>\n",
       "      <th>WHA</th>\n",
       "      <th>VCH</th>\n",
       "      <th>VCD</th>\n",
       "      <th>VCA</th>\n",
       "    </tr>\n",
       "  </thead>\n",
       "  <tbody>\n",
       "    <tr>\n",
       "      <th>0</th>\n",
       "      <td>0</td>\n",
       "      <td>0</td>\n",
       "      <td>0</td>\n",
       "      <td>0</td>\n",
       "      <td>0</td>\n",
       "      <td>0</td>\n",
       "      <td>0</td>\n",
       "      <td>0</td>\n",
       "      <td>0</td>\n",
       "      <td>0</td>\n",
       "      <td>...</td>\n",
       "      <td>7.5</td>\n",
       "      <td>1.33</td>\n",
       "      <td>4.00</td>\n",
       "      <td>8.0</td>\n",
       "      <td>1.33</td>\n",
       "      <td>4.00</td>\n",
       "      <td>8.00</td>\n",
       "      <td>1.35</td>\n",
       "      <td>4.00</td>\n",
       "      <td>8.00</td>\n",
       "    </tr>\n",
       "    <tr>\n",
       "      <th>1</th>\n",
       "      <td>0</td>\n",
       "      <td>0</td>\n",
       "      <td>0</td>\n",
       "      <td>0</td>\n",
       "      <td>0</td>\n",
       "      <td>0</td>\n",
       "      <td>0</td>\n",
       "      <td>0</td>\n",
       "      <td>0</td>\n",
       "      <td>0</td>\n",
       "      <td>...</td>\n",
       "      <td>2.3</td>\n",
       "      <td>3.00</td>\n",
       "      <td>3.20</td>\n",
       "      <td>2.1</td>\n",
       "      <td>2.87</td>\n",
       "      <td>3.25</td>\n",
       "      <td>2.15</td>\n",
       "      <td>2.70</td>\n",
       "      <td>3.25</td>\n",
       "      <td>2.25</td>\n",
       "    </tr>\n",
       "    <tr>\n",
       "      <th>2</th>\n",
       "      <td>0</td>\n",
       "      <td>0</td>\n",
       "      <td>0</td>\n",
       "      <td>0</td>\n",
       "      <td>0</td>\n",
       "      <td>0</td>\n",
       "      <td>0</td>\n",
       "      <td>0</td>\n",
       "      <td>0</td>\n",
       "      <td>0</td>\n",
       "      <td>...</td>\n",
       "      <td>3.5</td>\n",
       "      <td>2.00</td>\n",
       "      <td>3.20</td>\n",
       "      <td>3.2</td>\n",
       "      <td>1.95</td>\n",
       "      <td>3.25</td>\n",
       "      <td>3.30</td>\n",
       "      <td>1.85</td>\n",
       "      <td>3.30</td>\n",
       "      <td>3.60</td>\n",
       "    </tr>\n",
       "    <tr>\n",
       "      <th>3</th>\n",
       "      <td>0</td>\n",
       "      <td>0</td>\n",
       "      <td>0</td>\n",
       "      <td>0</td>\n",
       "      <td>0</td>\n",
       "      <td>0</td>\n",
       "      <td>0</td>\n",
       "      <td>0</td>\n",
       "      <td>0</td>\n",
       "      <td>0</td>\n",
       "      <td>...</td>\n",
       "      <td>4.8</td>\n",
       "      <td>1.53</td>\n",
       "      <td>3.40</td>\n",
       "      <td>5.5</td>\n",
       "      <td>1.57</td>\n",
       "      <td>3.50</td>\n",
       "      <td>5.00</td>\n",
       "      <td>1.55</td>\n",
       "      <td>3.50</td>\n",
       "      <td>5.00</td>\n",
       "    </tr>\n",
       "    <tr>\n",
       "      <th>4</th>\n",
       "      <td>0</td>\n",
       "      <td>0</td>\n",
       "      <td>0</td>\n",
       "      <td>0</td>\n",
       "      <td>0</td>\n",
       "      <td>0</td>\n",
       "      <td>0</td>\n",
       "      <td>0</td>\n",
       "      <td>0</td>\n",
       "      <td>0</td>\n",
       "      <td>...</td>\n",
       "      <td>2.5</td>\n",
       "      <td>2.50</td>\n",
       "      <td>3.25</td>\n",
       "      <td>2.4</td>\n",
       "      <td>2.40</td>\n",
       "      <td>3.25</td>\n",
       "      <td>2.50</td>\n",
       "      <td>2.40</td>\n",
       "      <td>3.20</td>\n",
       "      <td>2.50</td>\n",
       "    </tr>\n",
       "  </tbody>\n",
       "</table>\n",
       "<p>5 rows × 398 columns</p>\n",
       "</div>"
      ],
      "text/plain": [
       "   HomeTeam_AZ Alkmaar  HomeTeam_Aachen  HomeTeam_Ajaccio  HomeTeam_Ajax  \\\n",
       "0                    0                0                 0              0   \n",
       "1                    0                0                 0              0   \n",
       "2                    0                0                 0              0   \n",
       "3                    0                0                 0              0   \n",
       "4                    0                0                 0              0   \n",
       "\n",
       "   HomeTeam_Ajax   HomeTeam_Alaves  HomeTeam_Almeria  HomeTeam_Arles  \\\n",
       "0               0                0                 0               0   \n",
       "1               0                0                 0               0   \n",
       "2               0                0                 0               0   \n",
       "3               0                0                 0               0   \n",
       "4               0                0                 0               0   \n",
       "\n",
       "   HomeTeam_Arsenal  HomeTeam_Ascoli  ...   IWA   LBH   LBD  LBA   WHH   WHD  \\\n",
       "0                 0                0  ...   7.5  1.33  4.00  8.0  1.33  4.00   \n",
       "1                 0                0  ...   2.3  3.00  3.20  2.1  2.87  3.25   \n",
       "2                 0                0  ...   3.5  2.00  3.20  3.2  1.95  3.25   \n",
       "3                 0                0  ...   4.8  1.53  3.40  5.5  1.57  3.50   \n",
       "4                 0                0  ...   2.5  2.50  3.25  2.4  2.40  3.25   \n",
       "\n",
       "    WHA   VCH   VCD   VCA  \n",
       "0  8.00  1.35  4.00  8.00  \n",
       "1  2.15  2.70  3.25  2.25  \n",
       "2  3.30  1.85  3.30  3.60  \n",
       "3  5.00  1.55  3.50  5.00  \n",
       "4  2.50  2.40  3.20  2.50  \n",
       "\n",
       "[5 rows x 398 columns]"
      ]
     },
     "execution_count": 8,
     "metadata": {},
     "output_type": "execute_result"
    }
   ],
   "source": [
    "# data.columns[0:]\n",
    "numerical_features = data[data.columns[0:-1]]\n",
    "numerical_features2 = data2[data2.columns[0:-2]]\n",
    "numerical_features2.head()"
   ]
  },
  {
   "cell_type": "code",
   "execution_count": 9,
   "metadata": {
    "collapsed": false
   },
   "outputs": [],
   "source": [
    "features_array = numerical_features.values\n",
    "features_array2 = numerical_features2.values"
   ]
  },
  {
   "cell_type": "code",
   "execution_count": 17,
   "metadata": {
    "collapsed": false
   },
   "outputs": [
    {
     "name": "stdout",
     "output_type": "stream",
     "text": [
      "13618\n",
      "13618\n",
      "3405\n",
      "1.3\n"
     ]
    }
   ],
   "source": [
    "from sklearn.cross_validation import train_test_split\n",
    "\n",
    "features_train, features_test, target_train, target_test = train_test_split(\n",
    "    features_array, target, test_size=0.20, random_state=0)\n",
    "features_train2, features_test2, target_train2, target_test2 = train_test_split(\n",
    "    features_array2, target2, test_size=0.20, random_state=0)\n",
    "print(len(features_train))\n",
    "print(len(features_train2))\n",
    "print(len(features_test2))\n",
    "print(features_array2[0, 377])"
   ]
  },
  {
   "cell_type": "code",
   "execution_count": 24,
   "metadata": {
    "collapsed": false
   },
   "outputs": [
    {
     "name": "stdout",
     "output_type": "stream",
     "text": [
      "13109 0.462659241742\n",
      "10595 0.43378952336\n",
      "8337 0.396665467194\n",
      "6946 0.375611862943\n",
      "5893 0.354318683183\n",
      "5048 0.334587955626\n",
      "4236 0.313503305005\n",
      "3553 0.29271038559\n",
      "2987 0.268496819551\n",
      "0.468864737847\n"
     ]
    }
   ],
   "source": [
    "def is_unexpected(features, target, threshold):\n",
    "    b365_odds = features[:, 16 : 19]\n",
    "    return (((np.amax(b365_odds, axis = 1) - np.amin(b365_odds, axis = 1)) > threshold) \n",
    "            & (np.argmin(b365_odds, axis = 1) + 1 != target))\n",
    "\n",
    "def correct_predict_based_on_odds(features, target, threshold):\n",
    "    b365_odds = features[:, 16:19]\n",
    "    new_features = features[(np.amax(b365_odds, axis = 1) - np.amin(b365_odds, axis = 1)) > threshold]\n",
    "    new_target = target[(np.amax(b365_odds, axis = 1) - np.amin(b365_odds, axis = 1)) > threshold]\n",
    "    b365_odds = b365_odds[(np.amax(b365_odds, axis = 1) - np.amin(b365_odds, axis = 1)) > threshold]\n",
    "    miss_predicts_rate = np.mean(np.argmin(b365_odds, axis = 1) + 1 != new_target)\n",
    "\n",
    "    return new_features, new_target, miss_predicts_rate\n",
    "\n",
    "def miss_predict_based_on_odds(features, target):\n",
    "    b365_odds = features[:, 16 : 19]\n",
    "    return np.argmin(b365_odds, axis = 1) + 1 != target    \n",
    "\n",
    "def is_unexpected2(features, target, threshold):\n",
    "    b365_odds = features[:, 377 : 380]  # This needs to be changed based on different result.csv\n",
    "    return (((np.amax(b365_odds, axis = 1) - np.amin(b365_odds, axis = 1)) > threshold) \n",
    "            & (np.argmin(b365_odds, axis = 1) + 1 != target))\n",
    "\n",
    "def correct_predict_based_on_odds2(features, target, threshold):\n",
    "    b365_odds = features[:, 377:380]  # This needs to be changed based on different result.csv\n",
    "    new_features = features[(np.amax(b365_odds, axis = 1) - np.amin(b365_odds, axis = 1)) > threshold]\n",
    "    new_target = target[(np.amax(b365_odds, axis = 1) - np.amin(b365_odds, axis = 1)) > threshold]\n",
    "    b365_odds = b365_odds[(np.amax(b365_odds, axis = 1) - np.amin(b365_odds, axis = 1)) > threshold]\n",
    "    miss_predicts_rate = np.mean(np.argmin(b365_odds, axis = 1) + 1 != new_target)\n",
    "\n",
    "    return new_features, new_target, miss_predicts_rate\n",
    "\n",
    "def miss_predict_based_on_odds2(features, target):\n",
    "    b365_odds = features[:, 377 : 380] # This needs to be changed based on different result.csv\n",
    "    return np.argmin(b365_odds, axis = 1) + 1 != target  \n",
    "\n",
    "def correct_predict_based_on_odds_with_index(features, target, threshold, start, end):\n",
    "    b365_odds = features[:, start:end]  # This needs to be changed based on different result.csv\n",
    "    new_features = features[(np.amax(b365_odds, axis = 1) - np.amin(b365_odds, axis = 1)) > threshold]\n",
    "    new_target = target[(np.amax(b365_odds, axis = 1) - np.amin(b365_odds, axis = 1)) > threshold]\n",
    "    b365_odds = b365_odds[(np.amax(b365_odds, axis = 1) - np.amin(b365_odds, axis = 1)) > threshold]\n",
    "    miss_predicts_rate = np.mean(np.argmin(b365_odds, axis = 1) + 1 != new_target)\n",
    "\n",
    "    return new_features, new_target, miss_predicts_rate\n",
    "\n",
    "def miss_predict_based_on_odds_with_index(features, target, start, end):\n",
    "    b365_odds = features[:, start : end] # This needs to be changed based on different result.csv\n",
    "    return np.argmin(b365_odds, axis = 1) + 1 != target  \n",
    "\n",
    "for threshold in np.arange(0.5, 5, 0.5):\n",
    "    new_features2, new_target2, miss_predicts_rate2 = correct_predict_based_on_odds2(features_train2, target_train2, threshold)\n",
    "    print(len(new_features2), miss_predicts_rate2)\n",
    "    \n",
    "print(np.mean(miss_predict_based_on_odds2(features_train2, target_train2)))"
   ]
  },
  {
   "cell_type": "code",
   "execution_count": 25,
   "metadata": {
    "collapsed": true
   },
   "outputs": [],
   "source": [
    "from sklearn.preprocessing import StandardScaler  \n",
    "scaler = StandardScaler()  \n",
    "# Don't cheat - fit only on training data\n",
    "scaler.fit(features_train)  \n",
    "X_train = scaler.transform(features_train)  \n",
    "# apply same transformation to test data\n",
    "X_test = scaler.transform(features_test)  \n",
    "# print(X_train[0:5])"
   ]
  },
  {
   "cell_type": "code",
   "execution_count": 26,
   "metadata": {
    "collapsed": true
   },
   "outputs": [],
   "source": [
    "from sklearn.linear_model import LogisticRegression\n",
    "from sklearn.metrics import accuracy_score\n",
    "from sklearn.preprocessing import StandardScaler  \n"
   ]
  },
  {
   "cell_type": "code",
   "execution_count": 22,
   "metadata": {
    "collapsed": false
   },
   "outputs": [
    {
     "name": "stdout",
     "output_type": "stream",
     "text": [
      "Odds Difference Threshold to remove sample data:  0.1\n",
      "Number of training data under this odds difference threshold:  13616\n",
      "Number of test data under this odds difference threshold:  3405\n",
      "Percentage of predictions with the Prob_threshold of  0.75  :  0.0825256975037\n",
      "Accuracy with this prob_threshold:  0.779359430605\n",
      "Total accuracy:  0.51718061674\n",
      "\n",
      "\n",
      "\n",
      "Odds Difference Threshold to remove sample data:  0.6\n",
      "Number of training data under this odds difference threshold:  13078\n",
      "Number of test data under this odds difference threshold:  3252\n",
      "Percentage of predictions with the Prob_threshold of "
     ]
    },
    {
     "name": "stderr",
     "output_type": "stream",
     "text": [
      "/usr/local/lib/python3.4/dist-packages/ipykernel/__main__.py:50: VisibleDeprecationWarning: boolean index did not match indexed array along dimension 0; dimension is 13618 but corresponding boolean dimension is 3405\n",
      "/usr/local/lib/python3.4/dist-packages/ipykernel/__main__.py:50: VisibleDeprecationWarning: boolean index did not match indexed array along dimension 0; dimension is 13618 but corresponding boolean dimension is 3252\n"
     ]
    },
    {
     "name": "stdout",
     "output_type": "stream",
     "text": [
      " 0.75  :  0.0870233702337\n",
      "Accuracy with this prob_threshold:  0.780918727915\n",
      "Total accuracy:  0.524292742927\n",
      "\n",
      "\n",
      "\n",
      "Odds Difference Threshold to remove sample data:  1.1\n",
      "Number of training data under this odds difference threshold:  10007\n",
      "Number of test data under this odds difference threshold:  2477\n",
      "Percentage of predictions with the Prob_threshold of  0.75  :  0.111021396851\n",
      "Accuracy with this prob_threshold:  0.778181818182\n",
      "Total accuracy:  0.562373839322\n",
      "\n",
      "\n",
      "\n",
      "Odds Difference Threshold to remove sample data:  1.6\n",
      "Number of training data under this odds difference threshold:  8057\n",
      "Number of test data under this odds difference threshold:  2020\n",
      "Percentage of predictions with the Prob_threshold of "
     ]
    },
    {
     "name": "stderr",
     "output_type": "stream",
     "text": [
      "/usr/local/lib/python3.4/dist-packages/ipykernel/__main__.py:50: VisibleDeprecationWarning: boolean index did not match indexed array along dimension 0; dimension is 13618 but corresponding boolean dimension is 2477\n",
      "/usr/local/lib/python3.4/dist-packages/ipykernel/__main__.py:50: VisibleDeprecationWarning: boolean index did not match indexed array along dimension 0; dimension is 13618 but corresponding boolean dimension is 2020\n"
     ]
    },
    {
     "name": "stdout",
     "output_type": "stream",
     "text": [
      " 0.75  :  0.134653465347\n",
      "Accuracy with this prob_threshold:  0.772058823529\n",
      "Total accuracy:  0.589108910891\n",
      "\n",
      "\n",
      "\n",
      "Odds Difference Threshold to remove sample data:  2.1\n",
      "Number of training data under this odds difference threshold:  6609\n",
      "Number of test data under this odds difference threshold:  1622\n",
      "Percentage of predictions with the Prob_threshold of  0.75  :  0.167694204686\n",
      "Accuracy with this prob_threshold:  0.772058823529\n",
      "Total accuracy:  0.618988902589\n",
      "\n",
      "\n",
      "\n",
      "Odds Difference Threshold to remove sample data:  2.6\n",
      "Number of training data under this odds difference threshold:  5752\n",
      "Number of test data under this odds difference threshold:  1400\n",
      "Percentage of predictions with the Prob_threshold of "
     ]
    },
    {
     "name": "stderr",
     "output_type": "stream",
     "text": [
      "/usr/local/lib/python3.4/dist-packages/ipykernel/__main__.py:50: VisibleDeprecationWarning: boolean index did not match indexed array along dimension 0; dimension is 13618 but corresponding boolean dimension is 1622\n",
      "/usr/local/lib/python3.4/dist-packages/ipykernel/__main__.py:50: VisibleDeprecationWarning: boolean index did not match indexed array along dimension 0; dimension is 13618 but corresponding boolean dimension is 1400\n"
     ]
    },
    {
     "name": "stdout",
     "output_type": "stream",
     "text": [
      " 0.75  :  0.192142857143\n",
      "Accuracy with this prob_threshold:  0.769516728625\n",
      "Total accuracy:  0.640714285714\n",
      "\n",
      "\n",
      "\n",
      "Odds Difference Threshold to remove sample data:  3.1\n",
      "Number of training data under this odds difference threshold:  4923\n",
      "Number of test data under this odds difference threshold:  1178\n",
      "Percentage of predictions with the Prob_threshold of  0.75  :  0.230050933786\n",
      "Accuracy with this prob_threshold:  0.774907749077\n",
      "Total accuracy:  0.657894736842\n",
      "\n",
      "\n",
      "\n",
      "Odds Difference Threshold to remove sample data:  3.6\n",
      "Number of training data under this odds difference threshold:  4145\n",
      "Number of test data under this odds difference threshold:  1008\n",
      "Percentage of predictions with the Prob_threshold of "
     ]
    },
    {
     "name": "stderr",
     "output_type": "stream",
     "text": [
      "/usr/local/lib/python3.4/dist-packages/ipykernel/__main__.py:50: VisibleDeprecationWarning: boolean index did not match indexed array along dimension 0; dimension is 13618 but corresponding boolean dimension is 1178\n",
      "/usr/local/lib/python3.4/dist-packages/ipykernel/__main__.py:50: VisibleDeprecationWarning: boolean index did not match indexed array along dimension 0; dimension is 13618 but corresponding boolean dimension is 1008\n"
     ]
    },
    {
     "name": "stdout",
     "output_type": "stream",
     "text": [
      " 0.75  :  0.274801587302\n",
      "Accuracy with this prob_threshold:  0.765342960289\n",
      "Total accuracy:  0.678571428571\n",
      "\n",
      "\n",
      "\n",
      "Odds Difference Threshold to remove sample data:  4.1\n",
      "Number of training data under this odds difference threshold:  3538\n",
      "Number of test data under this odds difference threshold:  856\n",
      "Percentage of predictions with the Prob_threshold of  0.75  :  0.325934579439\n",
      "Accuracy with this prob_threshold:  0.767025089606\n",
      "Total accuracy:  0.692757009346\n",
      "\n",
      "\n",
      "\n",
      "Odds Difference Threshold to remove sample data:  4.6\n",
      "Number of training data under this odds difference threshold:  2982\n",
      "Number of test data under this odds difference threshold:  723\n",
      "Percentage of predictions with the Prob_threshold of "
     ]
    },
    {
     "name": "stderr",
     "output_type": "stream",
     "text": [
      "/usr/local/lib/python3.4/dist-packages/ipykernel/__main__.py:50: VisibleDeprecationWarning: boolean index did not match indexed array along dimension 0; dimension is 13618 but corresponding boolean dimension is 856\n",
      "/usr/local/lib/python3.4/dist-packages/ipykernel/__main__.py:50: VisibleDeprecationWarning: boolean index did not match indexed array along dimension 0; dimension is 13618 but corresponding boolean dimension is 723\n"
     ]
    },
    {
     "name": "stdout",
     "output_type": "stream",
     "text": [
      " 0.75  :  0.383125864454\n",
      "Accuracy with this prob_threshold:  0.750902527076\n",
      "Total accuracy:  0.709543568465\n",
      "\n",
      "\n",
      "\n",
      "Odds Difference Threshold to remove sample data:  5.1\n",
      "Number of training data under this odds difference threshold:  2633\n",
      "Number of test data under this odds difference threshold:  637\n",
      "Percentage of predictions with the Prob_threshold of  0.75  :  0.43328100471\n",
      "Accuracy with this prob_threshold:  0.735507246377\n",
      "Total accuracy:  0.726844583987\n",
      "\n",
      "\n",
      "\n",
      "Odds Difference Threshold to remove sample data:  5.6\n",
      "Number of training data under this odds difference threshold:  2264\n",
      "Number of test data under this odds difference threshold:  550\n",
      "Percentage of predictions with the Prob_threshold of "
     ]
    },
    {
     "name": "stderr",
     "output_type": "stream",
     "text": [
      "/usr/local/lib/python3.4/dist-packages/ipykernel/__main__.py:50: VisibleDeprecationWarning: boolean index did not match indexed array along dimension 0; dimension is 13618 but corresponding boolean dimension is 637\n",
      "/usr/local/lib/python3.4/dist-packages/ipykernel/__main__.py:50: VisibleDeprecationWarning: boolean index did not match indexed array along dimension 0; dimension is 13618 but corresponding boolean dimension is 550\n"
     ]
    },
    {
     "name": "stdout",
     "output_type": "stream",
     "text": [
      " 0.75  :  0.505454545455\n",
      "Accuracy with this prob_threshold:  0.744604316547\n",
      "Total accuracy:  0.743636363636\n",
      "\n",
      "\n",
      "\n",
      "Odds Difference Threshold to remove sample data:  6.1\n",
      "Number of training data under this odds difference threshold:  1923\n",
      "Number of test data under this odds difference threshold:  478\n",
      "Percentage of predictions with the Prob_threshold of  0.75  :  0.543933054393\n",
      "Accuracy with this prob_threshold:  0.753846153846\n",
      "Total accuracy:  0.751046025105\n",
      "\n",
      "\n",
      "\n",
      "Odds Difference Threshold to remove sample data:  6.6\n",
      "Number of training data under this odds difference threshold:  1720\n",
      "Number of test data under this odds difference threshold:  419\n",
      "Percentage of predictions with the Prob_threshold of "
     ]
    },
    {
     "name": "stderr",
     "output_type": "stream",
     "text": [
      "/usr/local/lib/python3.4/dist-packages/ipykernel/__main__.py:50: VisibleDeprecationWarning: boolean index did not match indexed array along dimension 0; dimension is 13618 but corresponding boolean dimension is 478\n",
      "/usr/local/lib/python3.4/dist-packages/ipykernel/__main__.py:50: VisibleDeprecationWarning: boolean index did not match indexed array along dimension 0; dimension is 13618 but corresponding boolean dimension is 419\n"
     ]
    },
    {
     "name": "stdout",
     "output_type": "stream",
     "text": [
      " 0.75  :  0.613365155131\n",
      "Accuracy with this prob_threshold:  0.750972762646\n",
      "Total accuracy:  0.749403341289\n",
      "\n",
      "\n",
      "\n"
     ]
    }
   ],
   "source": [
    "clf = LogisticRegression(C=1, n_jobs = -1)\n",
    "# clf.fit(X_train, target_train)\n",
    "\n",
    "# from sklearn.svm import SVC\n",
    "# clf = SVC(C = 1, kernel = 'rbf', probability = True)\n",
    "# clf.fit(X_train, target_train)\n",
    "\n",
    "# from sklearn.ensemble import RandomForestClassifier\n",
    "# clf = RandomForestClassifier(min_samples_split = 10, n_estimators = 1000, criterion='entropy')\n",
    "# clf.fit(X_train, target_train)\n",
    "\n",
    "# from sklearn.ensemble import AdaBoostClassifier\n",
    "# clf = AdaBoostClassifier(n_estimators = 1000)\n",
    "# clf.fit(X_train, target_train)\n",
    "\n",
    "# from sklearn.naive_bayes import GaussianNB\n",
    "# clf = GaussianNB()\n",
    "# clf.fit(X_train, target_train)\n",
    "\n",
    "for threshold in np.arange(0.1, 7, 0.5):\n",
    "    new_features_train, new_target_train, miss_predicts_rate = correct_predict_based_on_odds(features_train, target_train, threshold)\n",
    "    new_features_test, new_target_test, miss_predicts_rate_test = correct_predict_based_on_odds(features_test, target_test, threshold)\n",
    "    print('Odds Difference Threshold to remove sample data: ', threshold)\n",
    "    print('Number of training data under this odds difference threshold: ', len(new_features_train))\n",
    "    print('Number of test data under this odds difference threshold: ', len(new_features_test))\n",
    "    \n",
    "    # feature scaling\n",
    "    scaler = StandardScaler()  \n",
    "    # Don't cheat - fit only on training data\n",
    "    scaler.fit(new_features_train)  \n",
    "    X_train = scaler.transform(new_features_train)  \n",
    "    # apply same transformation to test data\n",
    "    X_test = scaler.transform(new_features_test)  \n",
    "    \n",
    "    \n",
    "    clf.fit(X_train, new_target_train)\n",
    "    target_predicted_proba = clf.predict_proba(X_test)\n",
    "    # print(target_predicted_proba)\n",
    "    target_predicted = clf.predict(X_test)\n",
    "    prob_threshold = 0.75\n",
    "    \n",
    "    print('Percentage of predictions with the Prob_threshold of ', prob_threshold, \n",
    "          ' : ', np.mean(np.amax(target_predicted_proba, axis = 1) > prob_threshold))\n",
    "    print('Accuracy with this prob_threshold: ', np.mean((target_predicted == new_target_test) & (np.amax(target_predicted_proba, axis = 1) > prob_threshold)) \n",
    "          / np.mean(np.amax(target_predicted_proba, axis = 1) > prob_threshold))\n",
    "    #print(np.mean((target_predicted != new_target_test) & (np.amax(target_predicted_proba, axis = 1) > prob_threshold)))\n",
    "    #print(np.sum((target_predicted == new_target_test) & (np.amax(target_predicted_proba, axis = 1) > prob_threshold)))\n",
    "    #print(np.sum((target_predicted != new_target_test) & (np.amax(target_predicted_proba, axis = 1) > prob_threshold)))\n",
    "    print('Total accuracy: ', accuracy_score(new_target_test, target_predicted))\n",
    "    X_test_greater_than_prob_threshold = features_train[np.amax(target_predicted_proba, axis = 1) > prob_threshold, ]\n",
    "#     print(X_test_greater_than_prob_threshold[0 : 2, ])\n",
    "    print('\\n\\n')"
   ]
  },
  {
   "cell_type": "code",
   "execution_count": 27,
   "metadata": {
    "collapsed": false
   },
   "outputs": [
    {
     "name": "stdout",
     "output_type": "stream",
     "text": [
      "Odds Difference Threshold to remove sample data:  0.1\n",
      "Number of training data under this odds difference threshold:  13616\n",
      "Number of test data under this odds difference threshold:  3405\n",
      "Percentage of predictions with the Prob_threshold of  0.7  :  0.137738619677\n",
      "Accuracy with this prob_threshold:  0.710021321962\n",
      "Total accuracy:  0.502790014684\n",
      "precision score:  [ 0.52936206  0.30241935  0.48607595]\n",
      "\n",
      "\n",
      "\n",
      "Odds Difference Threshold to remove sample data:  0.6\n",
      "Number of training data under this odds difference threshold:  13078\n",
      "Number of test data under this odds difference threshold:  3252\n",
      "Percentage of predictions with the Prob_threshold of "
     ]
    },
    {
     "name": "stderr",
     "output_type": "stream",
     "text": [
      "/usr/local/lib/python3.4/dist-packages/ipykernel/__main__.py:51: VisibleDeprecationWarning: boolean index did not match indexed array along dimension 0; dimension is 13618 but corresponding boolean dimension is 3405\n",
      "/usr/local/lib/python3.4/dist-packages/ipykernel/__main__.py:51: VisibleDeprecationWarning: boolean index did not match indexed array along dimension 0; dimension is 13618 but corresponding boolean dimension is 3252\n"
     ]
    },
    {
     "name": "stdout",
     "output_type": "stream",
     "text": [
      " 0.7  :  0.146371463715\n",
      "Accuracy with this prob_threshold:  0.710084033613\n",
      "Total accuracy:  0.510455104551\n",
      "precision score:  [ 0.53798858  0.28695652  0.49530201]\n",
      "\n",
      "\n",
      "\n",
      "Odds Difference Threshold to remove sample data:  1.1\n",
      "Number of training data under this odds difference threshold:  10007\n",
      "Number of test data under this odds difference threshold:  2477\n",
      "Percentage of predictions with the Prob_threshold of  0.7  :  0.204279370206\n",
      "Accuracy with this prob_threshold:  0.697628458498\n",
      "Total accuracy:  0.541380702463\n",
      "precision score:  [ 0.56958474  0.3         0.52815534]\n",
      "\n",
      "\n",
      "\n",
      "Odds Difference Threshold to remove sample data:  1.6\n",
      "Number of training data under this odds difference threshold:  8057\n",
      "Number of test data under this odds difference threshold:  2020\n",
      "Percentage of predictions with the Prob_threshold of "
     ]
    },
    {
     "name": "stderr",
     "output_type": "stream",
     "text": [
      "/usr/local/lib/python3.4/dist-packages/ipykernel/__main__.py:51: VisibleDeprecationWarning: boolean index did not match indexed array along dimension 0; dimension is 13618 but corresponding boolean dimension is 2477\n",
      "/usr/local/lib/python3.4/dist-packages/ipykernel/__main__.py:51: VisibleDeprecationWarning: boolean index did not match indexed array along dimension 0; dimension is 13618 but corresponding boolean dimension is 2020\n"
     ]
    },
    {
     "name": "stdout",
     "output_type": "stream",
     "text": [
      " 0.7  :  0.256930693069\n",
      "Accuracy with this prob_threshold:  0.687861271676\n",
      "Total accuracy:  0.565841584158\n",
      "precision score:  [ 0.5982562   0.25185185  0.55076142]\n",
      "\n",
      "\n",
      "\n",
      "Odds Difference Threshold to remove sample data:  2.1\n",
      "Number of training data under this odds difference threshold:  6609\n",
      "Number of test data under this odds difference threshold:  1622\n",
      "Percentage of predictions with the Prob_threshold of  0.7  :  0.339704069051\n",
      "Accuracy with this prob_threshold:  0.687840290381\n",
      "Total accuracy:  0.607274969174\n",
      "precision score:  [ 0.63358147  0.32727273  0.6039604 ]\n",
      "\n",
      "\n",
      "\n",
      "Odds Difference Threshold to remove sample data:  2.6\n",
      "Number of training data under this odds difference threshold:  5752\n",
      "Number of test data under this odds difference threshold:  1400\n",
      "Percentage of predictions with the Prob_threshold of "
     ]
    },
    {
     "name": "stderr",
     "output_type": "stream",
     "text": [
      "/usr/local/lib/python3.4/dist-packages/ipykernel/__main__.py:51: VisibleDeprecationWarning: boolean index did not match indexed array along dimension 0; dimension is 13618 but corresponding boolean dimension is 1622\n",
      "/usr/local/lib/python3.4/dist-packages/ipykernel/__main__.py:51: VisibleDeprecationWarning: boolean index did not match indexed array along dimension 0; dimension is 13618 but corresponding boolean dimension is 1400\n"
     ]
    },
    {
     "name": "stdout",
     "output_type": "stream",
     "text": [
      " 0.7  :  0.392857142857\n",
      "Accuracy with this prob_threshold:  0.690909090909\n",
      "Total accuracy:  0.609285714286\n",
      "precision score:  [ 0.64163498  0.24468085  0.61023622]\n",
      "\n",
      "\n",
      "\n",
      "Odds Difference Threshold to remove sample data:  3.1\n",
      "Number of training data under this odds difference threshold:  4923\n",
      "Number of test data under this odds difference threshold:  1178\n",
      "Percentage of predictions with the Prob_threshold of  0.7  :  0.45415959253\n",
      "Accuracy with this prob_threshold:  0.689719626168\n",
      "Total accuracy:  0.618845500849\n",
      "precision score:  [ 0.65054945  0.24        0.61658031]\n",
      "\n",
      "\n",
      "\n",
      "Odds Difference Threshold to remove sample data:  3.6\n",
      "Number of training data under this odds difference threshold:  4145\n",
      "Number of test data under this odds difference threshold:  1008\n",
      "Percentage of predictions with the Prob_threshold of "
     ]
    },
    {
     "name": "stderr",
     "output_type": "stream",
     "text": [
      "/usr/local/lib/python3.4/dist-packages/ipykernel/__main__.py:51: VisibleDeprecationWarning: boolean index did not match indexed array along dimension 0; dimension is 13618 but corresponding boolean dimension is 1178\n",
      "/usr/local/lib/python3.4/dist-packages/ipykernel/__main__.py:51: VisibleDeprecationWarning: boolean index did not match indexed array along dimension 0; dimension is 13618 but corresponding boolean dimension is 1008\n"
     ]
    },
    {
     "name": "stdout",
     "output_type": "stream",
     "text": [
      " 0.7  :  0.517857142857\n",
      "Accuracy with this prob_threshold:  0.687739463602\n",
      "Total accuracy:  0.625\n",
      "precision score:  [ 0.66496815  0.18867925  0.57647059]\n",
      "\n",
      "\n",
      "\n",
      "Odds Difference Threshold to remove sample data:  4.1\n",
      "Number of training data under this odds difference threshold:  3538\n",
      "Number of test data under this odds difference threshold:  856\n",
      "Percentage of predictions with the Prob_threshold of  0.7  :  0.571261682243\n",
      "Accuracy with this prob_threshold:  0.701431492843\n",
      "Total accuracy:  0.664719626168\n",
      "precision score:  [ 0.70162482  0.36585366  0.57246377]\n",
      "\n",
      "\n",
      "\n",
      "Odds Difference Threshold to remove sample data:  4.6\n",
      "Number of training data under this odds difference threshold:  2982\n",
      "Number of test data under this odds difference threshold:  723\n",
      "Percentage of predictions with the Prob_threshold of "
     ]
    },
    {
     "name": "stderr",
     "output_type": "stream",
     "text": [
      "/usr/local/lib/python3.4/dist-packages/ipykernel/__main__.py:51: VisibleDeprecationWarning: boolean index did not match indexed array along dimension 0; dimension is 13618 but corresponding boolean dimension is 856\n",
      "/usr/local/lib/python3.4/dist-packages/ipykernel/__main__.py:51: VisibleDeprecationWarning: boolean index did not match indexed array along dimension 0; dimension is 13618 but corresponding boolean dimension is 723\n"
     ]
    },
    {
     "name": "stdout",
     "output_type": "stream",
     "text": [
      " 0.7  :  0.643153526971\n",
      "Accuracy with this prob_threshold:  0.696774193548\n",
      "Total accuracy:  0.656984785615\n",
      "precision score:  [ 0.7025641   0.27777778  0.52941176]\n",
      "\n",
      "\n",
      "\n",
      "Odds Difference Threshold to remove sample data:  5.1\n",
      "Number of training data under this odds difference threshold:  2633\n",
      "Number of test data under this odds difference threshold:  637\n",
      "Percentage of predictions with the Prob_threshold of  0.7  :  0.675039246468\n",
      "Accuracy with this prob_threshold:  0.7\n",
      "Total accuracy:  0.671899529042\n",
      "precision score:  [ 0.71346154  0.23333333  0.57471264]\n",
      "\n",
      "\n",
      "\n",
      "Odds Difference Threshold to remove sample data:  5.6\n",
      "Number of training data under this odds difference threshold:  2264\n",
      "Number of test data under this odds difference threshold:  550\n",
      "Percentage of predictions with the Prob_threshold of "
     ]
    },
    {
     "name": "stderr",
     "output_type": "stream",
     "text": [
      "/usr/local/lib/python3.4/dist-packages/ipykernel/__main__.py:51: VisibleDeprecationWarning: boolean index did not match indexed array along dimension 0; dimension is 13618 but corresponding boolean dimension is 637\n",
      "/usr/local/lib/python3.4/dist-packages/ipykernel/__main__.py:51: VisibleDeprecationWarning: boolean index did not match indexed array along dimension 0; dimension is 13618 but corresponding boolean dimension is 550\n"
     ]
    },
    {
     "name": "stdout",
     "output_type": "stream",
     "text": [
      " 0.7  :  0.701818181818\n",
      "Accuracy with this prob_threshold:  0.704663212435\n",
      "Total accuracy:  0.690909090909\n",
      "precision score:  [ 0.73478261  0.21212121  0.61403509]\n",
      "\n",
      "\n",
      "\n",
      "Odds Difference Threshold to remove sample data:  6.1\n",
      "Number of training data under this odds difference threshold:  1923\n",
      "Number of test data under this odds difference threshold:  478\n",
      "Percentage of predictions with the Prob_threshold of  0.7  :  0.719665271967\n",
      "Accuracy with this prob_threshold:  0.706395348837\n",
      "Total accuracy:  0.68410041841\n",
      "precision score:  [ 0.73267327  0.2         0.61538462]\n",
      "\n",
      "\n",
      "\n",
      "Odds Difference Threshold to remove sample data:  6.6\n",
      "Number of training data under this odds difference threshold:  1720\n",
      "Number of test data under this odds difference threshold:  419\n",
      "Percentage of predictions with the Prob_threshold of "
     ]
    },
    {
     "name": "stderr",
     "output_type": "stream",
     "text": [
      "/usr/local/lib/python3.4/dist-packages/ipykernel/__main__.py:51: VisibleDeprecationWarning: boolean index did not match indexed array along dimension 0; dimension is 13618 but corresponding boolean dimension is 478\n",
      "/usr/local/lib/python3.4/dist-packages/ipykernel/__main__.py:51: VisibleDeprecationWarning: boolean index did not match indexed array along dimension 0; dimension is 13618 but corresponding boolean dimension is 419\n"
     ]
    },
    {
     "name": "stdout",
     "output_type": "stream",
     "text": [
      " 0.7  :  0.737470167064\n",
      "Accuracy with this prob_threshold:  0.708737864078\n",
      "Total accuracy:  0.682577565632\n",
      "precision score:  [ 0.73714286  0.22580645  0.55263158]\n",
      "\n",
      "\n",
      "\n"
     ]
    }
   ],
   "source": [
    "clf = LogisticRegression(C=1, n_jobs = -1)\n",
    "\n",
    "\n",
    "# from sklearn.svm import SVC\n",
    "# clf = SVC(C = 1, kernel = 'poly', probability = True)\n",
    "\n",
    "\n",
    "# from sklearn.ensemble import RandomForestClassifier\n",
    "# clf = RandomForestClassifier(min_samples_split = 10, n_estimators = 1000, criterion='entropy')\n",
    "\n",
    "\n",
    "# from sklearn.ensemble import AdaBoostClassifier\n",
    "# from sklearn.tree import DecisionTreeClassifier\n",
    "# clf = AdaBoostClassifier()\n",
    "\n",
    "\n",
    "# from sklearn.naive_bayes import GaussianNB\n",
    "# clf = GaussianNB()\n",
    "\n",
    "\n",
    "for threshold in np.arange(0.1, 7, 0.5):\n",
    "    new_features_train2, new_target_train2, miss_predicts_rate2 = correct_predict_based_on_odds2(features_train2, target_train2, threshold)\n",
    "    new_features_test2, new_target_test2, miss_predicts_rate_test2 = correct_predict_based_on_odds2(features_test2, target_test2, threshold)\n",
    "    print('Odds Difference Threshold to remove sample data: ', threshold)\n",
    "    print('Number of training data under this odds difference threshold: ', len(new_features_train2))\n",
    "    print('Number of test data under this odds difference threshold: ', len(new_features_test2))\n",
    "    \n",
    "    # feature scaling\n",
    "    scaler = StandardScaler()  \n",
    "    # Don't cheat - fit only on training data\n",
    "    scaler.fit(new_features_train2)  \n",
    "    X_train2 = scaler.transform(new_features_train2)  \n",
    "    # apply same transformation to test data\n",
    "    X_test2 = scaler.transform(new_features_test2)  \n",
    "    \n",
    "    \n",
    "    clf.fit(X_train2, new_target_train2)\n",
    "    target_predicted_proba2 = clf.predict_proba(X_test2)\n",
    "    # print(target_predicted_proba)\n",
    "    target_predicted2 = clf.predict(X_test2)\n",
    "    prob_threshold = 0.70\n",
    "    \n",
    "    print('Percentage of predictions with the Prob_threshold of ', prob_threshold, \n",
    "          ' : ', np.mean(np.amax(target_predicted_proba2, axis = 1) > prob_threshold))\n",
    "    print('Accuracy with this prob_threshold: ', np.mean((target_predicted2 == new_target_test2) & (np.amax(target_predicted_proba2, axis = 1) > prob_threshold)) \n",
    "          / np.mean(np.amax(target_predicted_proba2, axis = 1) > prob_threshold))   \n",
    "    #print(np.mean((target_predicted != new_target_test) & (np.amax(target_predicted_proba, axis = 1) > prob_threshold)))\n",
    "    #print(np.sum((target_predicted == new_target_test) & (np.amax(target_predicted_proba, axis = 1) > prob_threshold)))\n",
    "    #print(np.sum((target_predicted != new_target_test) & (np.amax(target_predicted_proba, axis = 1) > prob_threshold)))\n",
    "    print('Total accuracy: ', accuracy_score(new_target_test2, target_predicted2))\n",
    "    X_test_greater_than_prob_threshold2 = features_train[np.amax(target_predicted_proba2, axis = 1) > prob_threshold, ]\n",
    "#     print(X_test_greater_than_prob_threshold[0 : 2, ])\n",
    "    print(\"precision score: \", precision_score( new_target_test2, target_predicted2, average = None ))\n",
    "    print('\\n\\n')"
   ]
  },
  {
   "cell_type": "code",
   "execution_count": 77,
   "metadata": {
    "collapsed": false
   },
   "outputs": [
    {
     "data": {
      "text/plain": [
       "Index(['B365H', 'B365D', 'B365A'], dtype='object')"
      ]
     },
     "execution_count": 77,
     "metadata": {},
     "output_type": "execute_result"
    }
   ],
   "source": [
    "## Now let's train the games only labeld as upset or non-upset games\n",
    "games_upset = pd.read_csv(data_dir + 'result-teamname2.csv')\n",
    "games_upset.drop(['FTHG', 'FTAG', 'HTHG', 'HTAG'], axis = 1, inplace=True)\n",
    "games_upset.columns[377:380]"
   ]
  },
  {
   "cell_type": "code",
   "execution_count": 78,
   "metadata": {
    "collapsed": false
   },
   "outputs": [
    {
     "data": {
      "text/plain": [
       "(0.30623274393467659, 0.69376725606532341)"
      ]
     },
     "execution_count": 78,
     "metadata": {},
     "output_type": "execute_result"
    }
   ],
   "source": [
    "result_column = games_upset['upsetx']\n",
    "np.mean(result_column == 1), np.mean(result_column == 0)"
   ]
  },
  {
   "cell_type": "code",
   "execution_count": 79,
   "metadata": {
    "collapsed": false
   },
   "outputs": [],
   "source": [
    "# result_column[result_column == 1.0] = 2\n",
    "# result_column[result_column == 0.0] = 1\n",
    "# np.mean(result_column == 1), np.mean(result_column == 2)\n"
   ]
  },
  {
   "cell_type": "code",
   "execution_count": 81,
   "metadata": {
    "collapsed": false
   },
   "outputs": [],
   "source": [
    "# np.mean(result_column == 1), np.mean(result_column == 2)"
   ]
  },
  {
   "cell_type": "code",
   "execution_count": 82,
   "metadata": {
    "collapsed": true
   },
   "outputs": [],
   "source": [
    "target = result_column.values"
   ]
  },
  {
   "cell_type": "code",
   "execution_count": 83,
   "metadata": {
    "collapsed": true
   },
   "outputs": [],
   "source": [
    "numerical_features = games_upset[games_upset.columns[0:-1]]\n",
    "features_array = numerical_features.values\n",
    "\n",
    "features_train, features_test, target_train, target_test = train_test_split(\n",
    "    features_array, target, test_size=0.20, random_state=0)"
   ]
  },
  {
   "cell_type": "code",
   "execution_count": 88,
   "metadata": {
    "collapsed": false
   },
   "outputs": [],
   "source": [
    "\n",
    "\n",
    "# clf = LogisticRegression(C=1000, n_jobs = -1)\n",
    "\n",
    "\n",
    "# from sklearn.svm import SVC\n",
    "# clf = SVC(C = 1,kernel = 'rbf',class_weight = \"balanced\")\n",
    "\n",
    "\n",
    "# from sklearn.ensemble import RandomForestClassifier\n",
    "# clf = RandomForestClassifier()\n",
    "\n",
    "\n",
    "from sklearn.ensemble import AdaBoostClassifier\n",
    "from sklearn.tree import DecisionTreeClassifier\n",
    "clf = AdaBoostClassifier()\n",
    "\n",
    "\n",
    "# from sklearn.naive_bayes import GaussianNB\n",
    "# clf = GaussianNB()\n",
    "\n",
    "# feature scaling\n",
    "scaler = StandardScaler()  \n",
    "# Don't cheat - fit only on training data\n",
    "scaler.fit(features_train)  \n",
    "X_train = scaler.transform(features_train)  \n",
    "# apply same transformation to test data\n",
    "X_test = scaler.transform(features_test)  \n",
    "\n",
    "\n",
    "clf.fit(X_train, target_train)\n",
    "# target_predicted_proba = clf.predict_proba(X_test)\n",
    "# print(target_predicted_proba)\n",
    "target_predicted = clf.predict(X_test)\n",
    "# prob_threshold = 0.70\n",
    "\n",
    "# print('Percentage of predictions with the Prob_threshold of ', prob_threshold, \n",
    "#       ' : ', np.mean(np.amax(target_predicted_proba, axis = 1) > prob_threshold))\n",
    "# print('Accuracy with this prob_threshold: ', np.mean((target_predicted == target_test) & (np.amax(target_predicted_proba, axis = 1) > prob_threshold)) \n",
    "#       / np.mean(np.amax(target_predicted_proba, axis = 1) > prob_threshold))\n",
    "#print(np.mean((target_predicted != new_target_test) & (np.amax(target_predicted_proba, axis = 1) > prob_threshold)))\n",
    "#print(np.sum((target_predicted == new_target_test) & (np.amax(target_predicted_proba, axis = 1) > prob_threshold)))\n",
    "#print(np.sum((target_predicted != new_target_test) & (np.amax(target_predicted_proba, axis = 1) > prob_threshold)))"
   ]
  },
  {
   "cell_type": "code",
   "execution_count": 89,
   "metadata": {
    "collapsed": false
   },
   "outputs": [
    {
     "name": "stdout",
     "output_type": "stream",
     "text": [
      "Total accuracy:  0.696035242291\n",
      "precision score:  0.509072580645\n",
      "\n",
      "\n",
      "\n"
     ]
    },
    {
     "data": {
      "text/plain": [
       "(array([ 0.,  1.,  0.,  1.,  1.,  0.,  0.,  1.,  1.,  1.,  1.,  0.,  0.,\n",
       "         0.,  0.,  1.,  1.,  0.,  0.,  0.]),\n",
       " array([ 0.,  0.,  1.,  0.,  0.,  0.,  1.,  0.,  1.,  1.,  0.,  0.,  0.,\n",
       "         0.,  1.,  1.,  0.,  0.,  1.,  0.]))"
      ]
     },
     "execution_count": 89,
     "metadata": {},
     "output_type": "execute_result"
    }
   ],
   "source": [
    "\n",
    "print('Total accuracy: ', accuracy_score(target_test, target_predicted))\n",
    "# X_test_greater_than_prob_threshold = features_train[np.amax(target_predicted_proba, axis = 1) > prob_threshold, ]\n",
    "#     print(X_test_greater_than_prob_threshold[0 : 2, ])\n",
    "print(\"precision score: \", precision_score( target_test, target_predicted ))\n",
    "print('\\n\\n')\n",
    "\n",
    "target_predicted[200:220], target_test[200:220]"
   ]
  },
  {
   "cell_type": "code",
   "execution_count": 90,
   "metadata": {
    "collapsed": false
   },
   "outputs": [
    {
     "name": "stdout",
     "output_type": "stream",
     "text": [
      "Odds Difference Threshold to remove sample data:  0.1\n",
      "Number of training data under this odds difference threshold:  13616\n",
      "Number of test data under this odds difference threshold:  3405\n",
      "Percentage of predictions with the Prob_threshold of  0.5  :  1.0\n",
      "Accuracy with this prob_threshold:  0.696328928047\n",
      "Total accuracy:  0.696328928047\n",
      "precision score total:  [ 0.77299089  0.50958628]\n",
      "precision score under this prob_threshold:  0.5095862764883956\n",
      "\n",
      "\n",
      "\n",
      "Odds Difference Threshold to remove sample data:  0.6\n",
      "Number of training data under this odds difference threshold:  13078\n",
      "Number of test data under this odds difference threshold:  3252\n",
      "Percentage of predictions with the Prob_threshold of  0.5  :  1.0\n",
      "Accuracy with this prob_threshold:  0.689421894219\n",
      "Total accuracy:  0.689421894219\n",
      "precision score total:  [ 0.72998066  0.53223388]\n",
      "precision score under this prob_threshold:  0.5322338830584707\n",
      "\n",
      "\n",
      "\n",
      "Odds Difference Threshold to remove sample data:  1.1\n",
      "Number of training data under this odds difference threshold:  10007\n",
      "Number of test data under this odds difference threshold:  2477\n",
      "Percentage of predictions with the Prob_threshold of  0.5  :  1.0\n",
      "Accuracy with this prob_threshold:  0.597093257973\n",
      "Total accuracy:  0.597093257973\n",
      "precision score total:  [ 0.62172285  0.52138158]\n",
      "precision score under this prob_threshold:  0.5213815789473685\n",
      "\n",
      "\n",
      "\n",
      "Odds Difference Threshold to remove sample data:  1.6\n",
      "Number of training data under this odds difference threshold:  8057\n",
      "Number of test data under this odds difference threshold:  2020\n",
      "Percentage of predictions with the Prob_threshold of  0.5  :  1.0\n",
      "Accuracy with this prob_threshold:  0.586138613861\n",
      "Total accuracy:  0.586138613861\n",
      "precision score total:  [ 0.60699216  0.49030471]\n",
      "precision score under this prob_threshold:  0.4903047091412742\n",
      "\n",
      "\n",
      "\n",
      "Odds Difference Threshold to remove sample data:  2.1\n",
      "Number of training data under this odds difference threshold:  6609\n",
      "Number of test data under this odds difference threshold:  1622\n",
      "Percentage of predictions with the Prob_threshold of  0.5  :  1.0\n",
      "Accuracy with this prob_threshold:  0.610357583231\n",
      "Total accuracy:  0.610357583231\n",
      "precision score total:  [ 0.63091037  0.46829268]\n",
      "precision score under this prob_threshold:  0.4682926829268293\n",
      "\n",
      "\n",
      "\n",
      "Odds Difference Threshold to remove sample data:  2.6\n",
      "Number of training data under this odds difference threshold:  5752\n",
      "Number of test data under this odds difference threshold:  1400\n",
      "Percentage of predictions with the Prob_threshold of  0.5  :  1.0\n",
      "Accuracy with this prob_threshold:  0.611428571429\n",
      "Total accuracy:  0.611428571429\n",
      "precision score total:  [ 0.64057508  0.36486486]\n",
      "precision score under this prob_threshold:  0.36486486486486486\n",
      "\n",
      "\n",
      "\n",
      "Odds Difference Threshold to remove sample data:  3.1\n",
      "Number of training data under this odds difference threshold:  4923\n",
      "Number of test data under this odds difference threshold:  1178\n",
      "Percentage of predictions with the Prob_threshold of  0.5  :  1.0\n",
      "Accuracy with this prob_threshold:  0.636672325976\n",
      "Total accuracy:  0.636672325976\n",
      "precision score total:  [ 0.65357143  0.31034483]\n",
      "precision score under this prob_threshold:  0.3103448275862069\n",
      "\n",
      "\n",
      "\n",
      "Odds Difference Threshold to remove sample data:  3.6\n",
      "Number of training data under this odds difference threshold:  4145\n",
      "Number of test data under this odds difference threshold:  1008\n",
      "Percentage of predictions with the Prob_threshold of  0.5  :  1.0\n",
      "Accuracy with this prob_threshold:  0.661706349206\n",
      "Total accuracy:  0.661706349206\n",
      "precision score total:  [ 0.67598344  0.33333333]\n",
      "precision score under this prob_threshold:  0.3333333333333333\n",
      "\n",
      "\n",
      "\n",
      "Odds Difference Threshold to remove sample data:  4.1\n",
      "Number of training data under this odds difference threshold:  3538\n",
      "Number of test data under this odds difference threshold:  856\n",
      "Percentage of predictions with the Prob_threshold of  0.5  :  1.0\n",
      "Accuracy with this prob_threshold:  0.684579439252\n",
      "Total accuracy:  0.684579439252\n",
      "precision score total:  [ 0.69407497  0.4137931 ]\n",
      "precision score under this prob_threshold:  0.41379310344827586\n",
      "\n",
      "\n",
      "\n",
      "Odds Difference Threshold to remove sample data:  4.6\n",
      "Number of training data under this odds difference threshold:  2982\n",
      "Number of test data under this odds difference threshold:  723\n",
      "Percentage of predictions with the Prob_threshold of  0.5  :  1.0\n",
      "Accuracy with this prob_threshold:  0.699861687414\n",
      "Total accuracy:  0.699861687414\n",
      "precision score total:  [ 0.7112069   0.40740741]\n",
      "precision score under this prob_threshold:  0.4074074074074074\n",
      "\n",
      "\n",
      "\n",
      "Odds Difference Threshold to remove sample data:  5.1\n",
      "Number of training data under this odds difference threshold:  2633\n",
      "Number of test data under this odds difference threshold:  637\n",
      "Percentage of predictions with the Prob_threshold of  0.5  :  1.0\n",
      "Accuracy with this prob_threshold:  0.71114599686\n",
      "Total accuracy:  0.71114599686\n",
      "precision score total:  [ 0.72937294  0.35483871]\n",
      "precision score under this prob_threshold:  0.3548387096774194\n",
      "\n",
      "\n",
      "\n",
      "Odds Difference Threshold to remove sample data:  5.6\n",
      "Number of training data under this odds difference threshold:  2264\n",
      "Number of test data under this odds difference threshold:  550\n",
      "Percentage of predictions with the Prob_threshold of  0.5  :  1.0\n",
      "Accuracy with this prob_threshold:  0.721818181818\n",
      "Total accuracy:  0.721818181818\n",
      "precision score total:  [ 0.74334601  0.25      ]\n",
      "precision score under this prob_threshold:  0.25\n",
      "\n",
      "\n",
      "\n",
      "Odds Difference Threshold to remove sample data:  6.1\n",
      "Number of training data under this odds difference threshold:  1923\n",
      "Number of test data under this odds difference threshold:  478\n",
      "Percentage of predictions with the Prob_threshold of  0.5  :  1.0\n",
      "Accuracy with this prob_threshold:  0.730125523013\n",
      "Total accuracy:  0.730125523013\n",
      "precision score total:  [ 0.75        0.22222222]\n",
      "precision score under this prob_threshold:  0.2222222222222222\n",
      "\n",
      "\n",
      "\n",
      "Odds Difference Threshold to remove sample data:  6.6\n",
      "Number of training data under this odds difference threshold:  1720\n",
      "Number of test data under this odds difference threshold:  419\n",
      "Percentage of predictions with the Prob_threshold of  0.5  :  1.0\n",
      "Accuracy with this prob_threshold:  0.727923627685\n",
      "Total accuracy:  0.727923627685\n",
      "precision score total:  [ 0.75125628  0.28571429]\n",
      "precision score under this prob_threshold:  0.2857142857142857\n",
      "\n",
      "\n",
      "\n"
     ]
    }
   ],
   "source": [
    "start = 377\n",
    "end = 380\n",
    "for threshold in np.arange(0.1, 7, 0.5):\n",
    "    new_features_train, new_target_train, miss_predicts_rate = correct_predict_based_on_odds_with_index(features_train, target_train, threshold, start, end)\n",
    "    new_features_test, new_target_test, miss_predicts_rate_test = correct_predict_based_on_odds_with_index(features_test, target_test, threshold, start, end)\n",
    "    print('Odds Difference Threshold to remove sample data: ', threshold)\n",
    "    print('Number of training data under this odds difference threshold: ', len(new_features_train))\n",
    "    print('Number of test data under this odds difference threshold: ', len(new_features_test))\n",
    "    \n",
    "    # feature scaling\n",
    "    scaler = StandardScaler()  \n",
    "    # Don't cheat - fit only on training data\n",
    "    scaler.fit(new_features_train)  \n",
    "    X_train = scaler.transform(new_features_train)  \n",
    "    # apply same transformation to test data\n",
    "    X_test = scaler.transform(new_features_test)  \n",
    "    \n",
    "    \n",
    "    clf.fit(X_train, new_target_train)\n",
    "    target_predicted_proba = clf.predict_proba(X_test)\n",
    "    # print(target_predicted_proba)\n",
    "    target_predicted = clf.predict(X_test)\n",
    "    prob_threshold = 0.50\n",
    "    \n",
    "    print('Percentage of predictions with the Prob_threshold of ', prob_threshold, \n",
    "          ' : ', np.mean(np.amax(target_predicted_proba, axis = 1) > prob_threshold))\n",
    "    print('Accuracy with this prob_threshold: ', \n",
    "          np.mean((target_predicted == new_target_test) & (np.amax(target_predicted_proba, axis = 1) > prob_threshold)) \n",
    "          / np.mean(np.amax(target_predicted_proba, axis = 1) > prob_threshold))\n",
    "    #print(np.mean((target_predicted != new_target_test) & (np.amax(target_predicted_proba, axis = 1) > prob_threshold)))\n",
    "    #print(np.sum((target_predicted == new_target_test) & (np.amax(target_predicted_proba, axis = 1) > prob_threshold)))\n",
    "    #print(np.sum((target_predicted != new_target_test) & (np.amax(target_predicted_proba, axis = 1) > prob_threshold)))\n",
    "    print('Total accuracy: ', accuracy_score(new_target_test, target_predicted))\n",
    "#     X_test_greater_than_prob_threshold = features_train[np.amax(target_predicted_proba, axis = 1) > prob_threshold, ]\n",
    "#     print(X_test_greater_than_prob_threshold[0 : 2, ])\n",
    "    print(\"precision score total: \", precision_score( new_target_test, target_predicted, average = None ))\n",
    "    true_positive = np.sum((target_predicted == new_target_test) \n",
    "                           & (np.amax(target_predicted_proba, axis = 1) > prob_threshold) \n",
    "                           & (target_predicted == 1))\n",
    "    false_positive = np.sum((target_predicted != new_target_test) \n",
    "                           & (np.amax(target_predicted_proba, axis = 1) > prob_threshold) \n",
    "                           & (target_predicted == 1))    \n",
    "    print(\"precision score under this prob_threshold: \", float(true_positive) / (float(true_positive + false_positive))) \n",
    "    print('\\n\\n')"
   ]
  },
  {
   "cell_type": "code",
   "execution_count": null,
   "metadata": {
    "collapsed": true
   },
   "outputs": [],
   "source": []
  }
 ],
 "metadata": {
  "kernelspec": {
   "display_name": "Python 3",
   "language": "python",
   "name": "python3"
  },
  "language_info": {
   "codemirror_mode": {
    "name": "ipython",
    "version": 3
   },
   "file_extension": ".py",
   "mimetype": "text/x-python",
   "name": "python",
   "nbconvert_exporter": "python",
   "pygments_lexer": "ipython3",
   "version": "3.4.3"
  }
 },
 "nbformat": 4,
 "nbformat_minor": 0
}
