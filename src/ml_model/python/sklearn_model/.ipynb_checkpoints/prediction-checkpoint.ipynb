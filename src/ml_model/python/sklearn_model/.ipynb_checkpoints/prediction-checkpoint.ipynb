{
 "cells": [
  {
   "cell_type": "code",
   "execution_count": 1,
   "metadata": {
    "collapsed": true
   },
   "outputs": [],
   "source": [
    "%matplotlib inline\n",
    "import matplotlib.pyplot as plt\n",
    "import numpy as np\n",
    "import pandas as pd\n",
    "from sklearn.metrics import precision_score\n",
    "from sklearn.metrics import recall_score\n",
    "\n",
    "import warnings\n",
    "warnings.simplefilter('ignore', DeprecationWarning)"
   ]
  },
  {
   "cell_type": "code",
   "execution_count": 2,
   "metadata": {
    "collapsed": true
   },
   "outputs": [],
   "source": [
    "data_dir = '../../../../data/'"
   ]
  },
  {
   "cell_type": "code",
   "execution_count": 3,
   "metadata": {
    "collapsed": false
   },
   "outputs": [],
   "source": [
    "#data = pd.read_csv('https://dl.dropboxusercontent.com/u/5743203/data/titanic/titanic_train.csv')\n",
    "data = pd.read_csv(data_dir + 'clean_data.csv')  # result column, 1 means home win, 2 home draw, 3 home lose\n",
    "data2 = pd.read_csv(data_dir + 'clean_data_using_getdummy.csv')  # result column, 1 means home win, 2 home draw, 3 home lose"
   ]
  },
  {
   "cell_type": "code",
   "execution_count": 4,
   "metadata": {
    "collapsed": true
   },
   "outputs": [],
   "source": [
    "result_column = data['result']\n",
    "result_column2 = data2['result']"
   ]
  },
  {
   "cell_type": "code",
   "execution_count": 5,
   "metadata": {
    "collapsed": false
   },
   "outputs": [
    {
     "name": "stdout",
     "output_type": "stream",
     "text": [
      "0.468425071961\n",
      "0.259531222464\n",
      "0.272043705575\n"
     ]
    }
   ],
   "source": [
    "print(np.mean(result_column == 1))\n",
    "print(np.mean(result_column == 2))\n",
    "print(np.mean(result_column == 3))"
   ]
  },
  {
   "cell_type": "code",
   "execution_count": 6,
   "metadata": {
    "collapsed": false
   },
   "outputs": [],
   "source": [
    "target = result_column.values\n",
    "target2 = result_column2.values"
   ]
  },
  {
   "cell_type": "code",
   "execution_count": 8,
   "metadata": {
    "collapsed": false
   },
   "outputs": [
    {
     "data": {
      "text/html": [
       "<div>\n",
       "<table border=\"1\" class=\"dataframe\">\n",
       "  <thead>\n",
       "    <tr style=\"text-align: right;\">\n",
       "      <th></th>\n",
       "      <th>HomeTeam_AZ Alkmaar</th>\n",
       "      <th>HomeTeam_Aachen</th>\n",
       "      <th>HomeTeam_Ajaccio</th>\n",
       "      <th>HomeTeam_Ajax</th>\n",
       "      <th>HomeTeam_Ajax</th>\n",
       "      <th>HomeTeam_Alaves</th>\n",
       "      <th>HomeTeam_Almeria</th>\n",
       "      <th>HomeTeam_Arles</th>\n",
       "      <th>HomeTeam_Arsenal</th>\n",
       "      <th>HomeTeam_Ascoli</th>\n",
       "      <th>...</th>\n",
       "      <th>IWA</th>\n",
       "      <th>LBH</th>\n",
       "      <th>LBD</th>\n",
       "      <th>LBA</th>\n",
       "      <th>WHH</th>\n",
       "      <th>WHD</th>\n",
       "      <th>WHA</th>\n",
       "      <th>VCH</th>\n",
       "      <th>VCD</th>\n",
       "      <th>VCA</th>\n",
       "    </tr>\n",
       "  </thead>\n",
       "  <tbody>\n",
       "    <tr>\n",
       "      <th>0</th>\n",
       "      <td>0</td>\n",
       "      <td>0</td>\n",
       "      <td>0</td>\n",
       "      <td>0</td>\n",
       "      <td>0</td>\n",
       "      <td>0</td>\n",
       "      <td>0</td>\n",
       "      <td>0</td>\n",
       "      <td>0</td>\n",
       "      <td>0</td>\n",
       "      <td>...</td>\n",
       "      <td>7.5</td>\n",
       "      <td>1.33</td>\n",
       "      <td>4.00</td>\n",
       "      <td>8.0</td>\n",
       "      <td>1.33</td>\n",
       "      <td>4.00</td>\n",
       "      <td>8.00</td>\n",
       "      <td>1.35</td>\n",
       "      <td>4.00</td>\n",
       "      <td>8.00</td>\n",
       "    </tr>\n",
       "    <tr>\n",
       "      <th>1</th>\n",
       "      <td>0</td>\n",
       "      <td>0</td>\n",
       "      <td>0</td>\n",
       "      <td>0</td>\n",
       "      <td>0</td>\n",
       "      <td>0</td>\n",
       "      <td>0</td>\n",
       "      <td>0</td>\n",
       "      <td>0</td>\n",
       "      <td>0</td>\n",
       "      <td>...</td>\n",
       "      <td>2.3</td>\n",
       "      <td>3.00</td>\n",
       "      <td>3.20</td>\n",
       "      <td>2.1</td>\n",
       "      <td>2.87</td>\n",
       "      <td>3.25</td>\n",
       "      <td>2.15</td>\n",
       "      <td>2.70</td>\n",
       "      <td>3.25</td>\n",
       "      <td>2.25</td>\n",
       "    </tr>\n",
       "    <tr>\n",
       "      <th>2</th>\n",
       "      <td>0</td>\n",
       "      <td>0</td>\n",
       "      <td>0</td>\n",
       "      <td>0</td>\n",
       "      <td>0</td>\n",
       "      <td>0</td>\n",
       "      <td>0</td>\n",
       "      <td>0</td>\n",
       "      <td>0</td>\n",
       "      <td>0</td>\n",
       "      <td>...</td>\n",
       "      <td>3.5</td>\n",
       "      <td>2.00</td>\n",
       "      <td>3.20</td>\n",
       "      <td>3.2</td>\n",
       "      <td>1.95</td>\n",
       "      <td>3.25</td>\n",
       "      <td>3.30</td>\n",
       "      <td>1.85</td>\n",
       "      <td>3.30</td>\n",
       "      <td>3.60</td>\n",
       "    </tr>\n",
       "    <tr>\n",
       "      <th>3</th>\n",
       "      <td>0</td>\n",
       "      <td>0</td>\n",
       "      <td>0</td>\n",
       "      <td>0</td>\n",
       "      <td>0</td>\n",
       "      <td>0</td>\n",
       "      <td>0</td>\n",
       "      <td>0</td>\n",
       "      <td>0</td>\n",
       "      <td>0</td>\n",
       "      <td>...</td>\n",
       "      <td>4.8</td>\n",
       "      <td>1.53</td>\n",
       "      <td>3.40</td>\n",
       "      <td>5.5</td>\n",
       "      <td>1.57</td>\n",
       "      <td>3.50</td>\n",
       "      <td>5.00</td>\n",
       "      <td>1.55</td>\n",
       "      <td>3.50</td>\n",
       "      <td>5.00</td>\n",
       "    </tr>\n",
       "    <tr>\n",
       "      <th>4</th>\n",
       "      <td>0</td>\n",
       "      <td>0</td>\n",
       "      <td>0</td>\n",
       "      <td>0</td>\n",
       "      <td>0</td>\n",
       "      <td>0</td>\n",
       "      <td>0</td>\n",
       "      <td>0</td>\n",
       "      <td>0</td>\n",
       "      <td>0</td>\n",
       "      <td>...</td>\n",
       "      <td>2.5</td>\n",
       "      <td>2.50</td>\n",
       "      <td>3.25</td>\n",
       "      <td>2.4</td>\n",
       "      <td>2.40</td>\n",
       "      <td>3.25</td>\n",
       "      <td>2.50</td>\n",
       "      <td>2.40</td>\n",
       "      <td>3.20</td>\n",
       "      <td>2.50</td>\n",
       "    </tr>\n",
       "  </tbody>\n",
       "</table>\n",
       "<p>5 rows × 398 columns</p>\n",
       "</div>"
      ],
      "text/plain": [
       "   HomeTeam_AZ Alkmaar  HomeTeam_Aachen  HomeTeam_Ajaccio  HomeTeam_Ajax  \\\n",
       "0                    0                0                 0              0   \n",
       "1                    0                0                 0              0   \n",
       "2                    0                0                 0              0   \n",
       "3                    0                0                 0              0   \n",
       "4                    0                0                 0              0   \n",
       "\n",
       "   HomeTeam_Ajax   HomeTeam_Alaves  HomeTeam_Almeria  HomeTeam_Arles  \\\n",
       "0               0                0                 0               0   \n",
       "1               0                0                 0               0   \n",
       "2               0                0                 0               0   \n",
       "3               0                0                 0               0   \n",
       "4               0                0                 0               0   \n",
       "\n",
       "   HomeTeam_Arsenal  HomeTeam_Ascoli  ...   IWA   LBH   LBD  LBA   WHH   WHD  \\\n",
       "0                 0                0  ...   7.5  1.33  4.00  8.0  1.33  4.00   \n",
       "1                 0                0  ...   2.3  3.00  3.20  2.1  2.87  3.25   \n",
       "2                 0                0  ...   3.5  2.00  3.20  3.2  1.95  3.25   \n",
       "3                 0                0  ...   4.8  1.53  3.40  5.5  1.57  3.50   \n",
       "4                 0                0  ...   2.5  2.50  3.25  2.4  2.40  3.25   \n",
       "\n",
       "    WHA   VCH   VCD   VCA  \n",
       "0  8.00  1.35  4.00  8.00  \n",
       "1  2.15  2.70  3.25  2.25  \n",
       "2  3.30  1.85  3.30  3.60  \n",
       "3  5.00  1.55  3.50  5.00  \n",
       "4  2.50  2.40  3.20  2.50  \n",
       "\n",
       "[5 rows x 398 columns]"
      ]
     },
     "execution_count": 8,
     "metadata": {},
     "output_type": "execute_result"
    }
   ],
   "source": [
    "# data.columns[0:]\n",
    "numerical_features = data[data.columns[0:-1]]\n",
    "numerical_features2 = data2[data2.columns[0:-2]]\n",
    "numerical_features2.head()"
   ]
  },
  {
   "cell_type": "code",
   "execution_count": 9,
   "metadata": {
    "collapsed": false
   },
   "outputs": [],
   "source": [
    "features_array = numerical_features.values\n",
    "features_array2 = numerical_features2.values"
   ]
  },
  {
   "cell_type": "code",
   "execution_count": 17,
   "metadata": {
    "collapsed": false
   },
   "outputs": [
    {
     "name": "stdout",
     "output_type": "stream",
     "text": [
      "13618\n",
      "13618\n",
      "3405\n",
      "1.3\n"
     ]
    }
   ],
   "source": [
    "from sklearn.cross_validation import train_test_split\n",
    "\n",
    "features_train, features_test, target_train, target_test = train_test_split(\n",
    "    features_array, target, test_size=0.20, random_state=0)\n",
    "features_train2, features_test2, target_train2, target_test2 = train_test_split(\n",
    "    features_array2, target2, test_size=0.20, random_state=0)\n",
    "print(len(features_train))\n",
    "print(len(features_train2))\n",
    "print(len(features_test2))\n",
    "print(features_array2[0, 377])"
   ]
  },
  {
   "cell_type": "code",
   "execution_count": 18,
   "metadata": {
    "collapsed": false
   },
   "outputs": [
    {
     "name": "stdout",
     "output_type": "stream",
     "text": [
      "13187 0.787214681125\n",
      "10701 0.805625642463\n",
      "8397 0.827557460998\n",
      "6984 0.838487972509\n",
      "5917 0.850430961636\n",
      "5006 0.860966839792\n",
      "4217 0.873843964904\n",
      "3529 0.883536412581\n",
      "3010 0.896013289037\n",
      "0.784182699368\n"
     ]
    }
   ],
   "source": [
    "def is_unexpected(features, target, threshold):\n",
    "    b365_odds = features[:, 16 : 19]\n",
    "    return (((np.amax(b365_odds, axis = 1) - np.amin(b365_odds, axis = 1)) > threshold) \n",
    "            & (np.argmin(b365_odds, axis = 1) + 1 != target))\n",
    "\n",
    "def correct_predict_based_on_odds(features, target, threshold):\n",
    "    b365_odds = features[:, 16:19]\n",
    "    new_features = features[(np.amax(b365_odds, axis = 1) - np.amin(b365_odds, axis = 1)) > threshold]\n",
    "    new_target = target[(np.amax(b365_odds, axis = 1) - np.amin(b365_odds, axis = 1)) > threshold]\n",
    "    b365_odds = b365_odds[(np.amax(b365_odds, axis = 1) - np.amin(b365_odds, axis = 1)) > threshold]\n",
    "    miss_predicts_rate = np.mean(np.argmin(b365_odds, axis = 1) + 1 != new_target)\n",
    "\n",
    "    return new_features, new_target, miss_predicts_rate\n",
    "\n",
    "def miss_predict_based_on_odds(features, target):\n",
    "    b365_odds = features[:, 16 : 19]\n",
    "    return np.argmin(b365_odds, axis = 1) + 1 != target    \n",
    "\n",
    "def is_unexpected2(features, target, threshold):\n",
    "    b365_odds = features[:, 377 : 380]  # This needs to be changed based on different result.csv\n",
    "    return (((np.amax(b365_odds, axis = 1) - np.amin(b365_odds, axis = 1)) > threshold) \n",
    "            & (np.argmin(b365_odds, axis = 1) + 1 != target))\n",
    "\n",
    "def correct_predict_based_on_odds2(features, target, threshold):\n",
    "    b365_odds = features[:, 377:380]  # This needs to be changed based on different result.csv\n",
    "    new_features = features[(np.amax(b365_odds, axis = 1) - np.amin(b365_odds, axis = 1)) > threshold]\n",
    "    new_target = target[(np.amax(b365_odds, axis = 1) - np.amin(b365_odds, axis = 1)) > threshold]\n",
    "    b365_odds = b365_odds[(np.amax(b365_odds, axis = 1) - np.amin(b365_odds, axis = 1)) > threshold]\n",
    "    miss_predicts_rate = np.mean(np.argmin(b365_odds, axis = 1) + 1 != new_target)\n",
    "\n",
    "    return new_features, new_target, miss_predicts_rate\n",
    "\n",
    "def miss_predict_based_on_odds2(features, target):\n",
    "    b365_odds = features[:, 377 : 380] # This needs to be changed based on different result.csv\n",
    "    return np.argmin(b365_odds, axis = 1) + 1 != target  \n",
    "\n",
    "def correct_predict_based_on_odds_with_index(features, target, threshold, start, end):\n",
    "    b365_odds = features[:, start:end]  # This needs to be changed based on different result.csv\n",
    "    new_features = features[(np.amax(b365_odds, axis = 1) - np.amin(b365_odds, axis = 1)) > threshold]\n",
    "    new_target = target[(np.amax(b365_odds, axis = 1) - np.amin(b365_odds, axis = 1)) > threshold]\n",
    "    b365_odds = b365_odds[(np.amax(b365_odds, axis = 1) - np.amin(b365_odds, axis = 1)) > threshold]\n",
    "    miss_predicts_rate = np.mean(np.argmin(b365_odds, axis = 1) + 1 != new_target)\n",
    "\n",
    "    return new_features, new_target, miss_predicts_rate\n",
    "\n",
    "def miss_predict_based_on_odds_with_index(features, target, start, end):\n",
    "    b365_odds = features[:, start : end] # This needs to be changed based on different result.csv\n",
    "    return np.argmin(b365_odds, axis = 1) + 1 != target  \n",
    "\n",
    "for threshold in np.arange(0.5, 5, 0.5):\n",
    "    new_features2, new_target2, miss_predicts_rate2 = correct_predict_based_on_odds2(features_train2, target_train2, threshold)\n",
    "    print(len(new_features2), miss_predicts_rate2)\n",
    "    \n",
    "print(np.mean(miss_predict_based_on_odds2(features_train2, target_train2)))"
   ]
  },
  {
   "cell_type": "code",
   "execution_count": 19,
   "metadata": {
    "collapsed": true
   },
   "outputs": [],
   "source": [
    "from sklearn.preprocessing import StandardScaler  \n",
    "scaler = StandardScaler()  \n",
    "# Don't cheat - fit only on training data\n",
    "scaler.fit(features_train)  \n",
    "X_train = scaler.transform(features_train)  \n",
    "# apply same transformation to test data\n",
    "X_test = scaler.transform(features_test)  \n",
    "# print(X_train[0:5])"
   ]
  },
  {
   "cell_type": "code",
   "execution_count": 20,
   "metadata": {
    "collapsed": true
   },
   "outputs": [],
   "source": [
    "from sklearn.linear_model import LogisticRegression\n",
    "from sklearn.metrics import accuracy_score\n",
    "from sklearn.preprocessing import StandardScaler  \n"
   ]
  },
  {
   "cell_type": "code",
   "execution_count": 22,
   "metadata": {
    "collapsed": false
   },
   "outputs": [
    {
     "name": "stdout",
     "output_type": "stream",
     "text": [
      "Odds Difference Threshold to remove sample data:  0.1\n",
      "Number of training data under this odds difference threshold:  13616\n",
      "Number of test data under this odds difference threshold:  3405\n",
      "Percentage of predictions with the Prob_threshold of  0.75  :  0.0825256975037\n",
      "Accuracy with this prob_threshold:  0.779359430605\n",
      "Total accuracy:  0.51718061674\n",
      "\n",
      "\n",
      "\n",
      "Odds Difference Threshold to remove sample data:  0.6\n",
      "Number of training data under this odds difference threshold:  13078\n",
      "Number of test data under this odds difference threshold:  3252\n",
      "Percentage of predictions with the Prob_threshold of "
     ]
    },
    {
     "name": "stderr",
     "output_type": "stream",
     "text": [
      "/usr/local/lib/python3.4/dist-packages/ipykernel/__main__.py:50: VisibleDeprecationWarning: boolean index did not match indexed array along dimension 0; dimension is 13618 but corresponding boolean dimension is 3405\n",
      "/usr/local/lib/python3.4/dist-packages/ipykernel/__main__.py:50: VisibleDeprecationWarning: boolean index did not match indexed array along dimension 0; dimension is 13618 but corresponding boolean dimension is 3252\n"
     ]
    },
    {
     "name": "stdout",
     "output_type": "stream",
     "text": [
      " 0.75  :  0.0870233702337\n",
      "Accuracy with this prob_threshold:  0.780918727915\n",
      "Total accuracy:  0.524292742927\n",
      "\n",
      "\n",
      "\n",
      "Odds Difference Threshold to remove sample data:  1.1\n",
      "Number of training data under this odds difference threshold:  10007\n",
      "Number of test data under this odds difference threshold:  2477\n",
      "Percentage of predictions with the Prob_threshold of  0.75  :  0.111021396851\n",
      "Accuracy with this prob_threshold:  0.778181818182\n",
      "Total accuracy:  0.562373839322\n",
      "\n",
      "\n",
      "\n",
      "Odds Difference Threshold to remove sample data:  1.6\n",
      "Number of training data under this odds difference threshold:  8057\n",
      "Number of test data under this odds difference threshold:  2020\n",
      "Percentage of predictions with the Prob_threshold of "
     ]
    },
    {
     "name": "stderr",
     "output_type": "stream",
     "text": [
      "/usr/local/lib/python3.4/dist-packages/ipykernel/__main__.py:50: VisibleDeprecationWarning: boolean index did not match indexed array along dimension 0; dimension is 13618 but corresponding boolean dimension is 2477\n",
      "/usr/local/lib/python3.4/dist-packages/ipykernel/__main__.py:50: VisibleDeprecationWarning: boolean index did not match indexed array along dimension 0; dimension is 13618 but corresponding boolean dimension is 2020\n"
     ]
    },
    {
     "name": "stdout",
     "output_type": "stream",
     "text": [
      " 0.75  :  0.134653465347\n",
      "Accuracy with this prob_threshold:  0.772058823529\n",
      "Total accuracy:  0.589108910891\n",
      "\n",
      "\n",
      "\n",
      "Odds Difference Threshold to remove sample data:  2.1\n",
      "Number of training data under this odds difference threshold:  6609\n",
      "Number of test data under this odds difference threshold:  1622\n",
      "Percentage of predictions with the Prob_threshold of  0.75  :  0.167694204686\n",
      "Accuracy with this prob_threshold:  0.772058823529\n",
      "Total accuracy:  0.618988902589\n",
      "\n",
      "\n",
      "\n",
      "Odds Difference Threshold to remove sample data:  2.6\n",
      "Number of training data under this odds difference threshold:  5752\n",
      "Number of test data under this odds difference threshold:  1400\n",
      "Percentage of predictions with the Prob_threshold of "
     ]
    },
    {
     "name": "stderr",
     "output_type": "stream",
     "text": [
      "/usr/local/lib/python3.4/dist-packages/ipykernel/__main__.py:50: VisibleDeprecationWarning: boolean index did not match indexed array along dimension 0; dimension is 13618 but corresponding boolean dimension is 1622\n",
      "/usr/local/lib/python3.4/dist-packages/ipykernel/__main__.py:50: VisibleDeprecationWarning: boolean index did not match indexed array along dimension 0; dimension is 13618 but corresponding boolean dimension is 1400\n"
     ]
    },
    {
     "name": "stdout",
     "output_type": "stream",
     "text": [
      " 0.75  :  0.192142857143\n",
      "Accuracy with this prob_threshold:  0.769516728625\n",
      "Total accuracy:  0.640714285714\n",
      "\n",
      "\n",
      "\n",
      "Odds Difference Threshold to remove sample data:  3.1\n",
      "Number of training data under this odds difference threshold:  4923\n",
      "Number of test data under this odds difference threshold:  1178\n",
      "Percentage of predictions with the Prob_threshold of  0.75  :  0.230050933786\n",
      "Accuracy with this prob_threshold:  0.774907749077\n",
      "Total accuracy:  0.657894736842\n",
      "\n",
      "\n",
      "\n",
      "Odds Difference Threshold to remove sample data:  3.6\n",
      "Number of training data under this odds difference threshold:  4145\n",
      "Number of test data under this odds difference threshold:  1008\n",
      "Percentage of predictions with the Prob_threshold of "
     ]
    },
    {
     "name": "stderr",
     "output_type": "stream",
     "text": [
      "/usr/local/lib/python3.4/dist-packages/ipykernel/__main__.py:50: VisibleDeprecationWarning: boolean index did not match indexed array along dimension 0; dimension is 13618 but corresponding boolean dimension is 1178\n",
      "/usr/local/lib/python3.4/dist-packages/ipykernel/__main__.py:50: VisibleDeprecationWarning: boolean index did not match indexed array along dimension 0; dimension is 13618 but corresponding boolean dimension is 1008\n"
     ]
    },
    {
     "name": "stdout",
     "output_type": "stream",
     "text": [
      " 0.75  :  0.274801587302\n",
      "Accuracy with this prob_threshold:  0.765342960289\n",
      "Total accuracy:  0.678571428571\n",
      "\n",
      "\n",
      "\n",
      "Odds Difference Threshold to remove sample data:  4.1\n",
      "Number of training data under this odds difference threshold:  3538\n",
      "Number of test data under this odds difference threshold:  856\n",
      "Percentage of predictions with the Prob_threshold of  0.75  :  0.325934579439\n",
      "Accuracy with this prob_threshold:  0.767025089606\n",
      "Total accuracy:  0.692757009346\n",
      "\n",
      "\n",
      "\n",
      "Odds Difference Threshold to remove sample data:  4.6\n",
      "Number of training data under this odds difference threshold:  2982\n",
      "Number of test data under this odds difference threshold:  723\n",
      "Percentage of predictions with the Prob_threshold of "
     ]
    },
    {
     "name": "stderr",
     "output_type": "stream",
     "text": [
      "/usr/local/lib/python3.4/dist-packages/ipykernel/__main__.py:50: VisibleDeprecationWarning: boolean index did not match indexed array along dimension 0; dimension is 13618 but corresponding boolean dimension is 856\n",
      "/usr/local/lib/python3.4/dist-packages/ipykernel/__main__.py:50: VisibleDeprecationWarning: boolean index did not match indexed array along dimension 0; dimension is 13618 but corresponding boolean dimension is 723\n"
     ]
    },
    {
     "name": "stdout",
     "output_type": "stream",
     "text": [
      " 0.75  :  0.383125864454\n",
      "Accuracy with this prob_threshold:  0.750902527076\n",
      "Total accuracy:  0.709543568465\n",
      "\n",
      "\n",
      "\n",
      "Odds Difference Threshold to remove sample data:  5.1\n",
      "Number of training data under this odds difference threshold:  2633\n",
      "Number of test data under this odds difference threshold:  637\n",
      "Percentage of predictions with the Prob_threshold of  0.75  :  0.43328100471\n",
      "Accuracy with this prob_threshold:  0.735507246377\n",
      "Total accuracy:  0.726844583987\n",
      "\n",
      "\n",
      "\n",
      "Odds Difference Threshold to remove sample data:  5.6\n",
      "Number of training data under this odds difference threshold:  2264\n",
      "Number of test data under this odds difference threshold:  550\n",
      "Percentage of predictions with the Prob_threshold of "
     ]
    },
    {
     "name": "stderr",
     "output_type": "stream",
     "text": [
      "/usr/local/lib/python3.4/dist-packages/ipykernel/__main__.py:50: VisibleDeprecationWarning: boolean index did not match indexed array along dimension 0; dimension is 13618 but corresponding boolean dimension is 637\n",
      "/usr/local/lib/python3.4/dist-packages/ipykernel/__main__.py:50: VisibleDeprecationWarning: boolean index did not match indexed array along dimension 0; dimension is 13618 but corresponding boolean dimension is 550\n"
     ]
    },
    {
     "name": "stdout",
     "output_type": "stream",
     "text": [
      " 0.75  :  0.505454545455\n",
      "Accuracy with this prob_threshold:  0.744604316547\n",
      "Total accuracy:  0.743636363636\n",
      "\n",
      "\n",
      "\n",
      "Odds Difference Threshold to remove sample data:  6.1\n",
      "Number of training data under this odds difference threshold:  1923\n",
      "Number of test data under this odds difference threshold:  478\n",
      "Percentage of predictions with the Prob_threshold of  0.75  :  0.543933054393\n",
      "Accuracy with this prob_threshold:  0.753846153846\n",
      "Total accuracy:  0.751046025105\n",
      "\n",
      "\n",
      "\n",
      "Odds Difference Threshold to remove sample data:  6.6\n",
      "Number of training data under this odds difference threshold:  1720\n",
      "Number of test data under this odds difference threshold:  419\n",
      "Percentage of predictions with the Prob_threshold of "
     ]
    },
    {
     "name": "stderr",
     "output_type": "stream",
     "text": [
      "/usr/local/lib/python3.4/dist-packages/ipykernel/__main__.py:50: VisibleDeprecationWarning: boolean index did not match indexed array along dimension 0; dimension is 13618 but corresponding boolean dimension is 478\n",
      "/usr/local/lib/python3.4/dist-packages/ipykernel/__main__.py:50: VisibleDeprecationWarning: boolean index did not match indexed array along dimension 0; dimension is 13618 but corresponding boolean dimension is 419\n"
     ]
    },
    {
     "name": "stdout",
     "output_type": "stream",
     "text": [
      " 0.75  :  0.613365155131\n",
      "Accuracy with this prob_threshold:  0.750972762646\n",
      "Total accuracy:  0.749403341289\n",
      "\n",
      "\n",
      "\n"
     ]
    }
   ],
   "source": [
    "clf = LogisticRegression(C=1, n_jobs = -1)\n",
    "# clf.fit(X_train, target_train)\n",
    "\n",
    "# from sklearn.svm import SVC\n",
    "# clf = SVC(C = 1, kernel = 'rbf', probability = True)\n",
    "# clf.fit(X_train, target_train)\n",
    "\n",
    "# from sklearn.ensemble import RandomForestClassifier\n",
    "# clf = RandomForestClassifier(min_samples_split = 10, n_estimators = 1000, criterion='entropy')\n",
    "# clf.fit(X_train, target_train)\n",
    "\n",
    "# from sklearn.ensemble import AdaBoostClassifier\n",
    "# clf = AdaBoostClassifier(n_estimators = 1000)\n",
    "# clf.fit(X_train, target_train)\n",
    "\n",
    "# from sklearn.naive_bayes import GaussianNB\n",
    "# clf = GaussianNB()\n",
    "# clf.fit(X_train, target_train)\n",
    "\n",
    "for threshold in np.arange(0.1, 7, 0.5):\n",
    "    new_features_train, new_target_train, miss_predicts_rate = correct_predict_based_on_odds(features_train, target_train, threshold)\n",
    "    new_features_test, new_target_test, miss_predicts_rate_test = correct_predict_based_on_odds(features_test, target_test, threshold)\n",
    "    print('Odds Difference Threshold to remove sample data: ', threshold)\n",
    "    print('Number of training data under this odds difference threshold: ', len(new_features_train))\n",
    "    print('Number of test data under this odds difference threshold: ', len(new_features_test))\n",
    "    \n",
    "    # feature scaling\n",
    "    scaler = StandardScaler()  \n",
    "    # Don't cheat - fit only on training data\n",
    "    scaler.fit(new_features_train)  \n",
    "    X_train = scaler.transform(new_features_train)  \n",
    "    # apply same transformation to test data\n",
    "    X_test = scaler.transform(new_features_test)  \n",
    "    \n",
    "    \n",
    "    clf.fit(X_train, new_target_train)\n",
    "    target_predicted_proba = clf.predict_proba(X_test)\n",
    "    # print(target_predicted_proba)\n",
    "    target_predicted = clf.predict(X_test)\n",
    "    prob_threshold = 0.75\n",
    "    \n",
    "    print('Percentage of predictions with the Prob_threshold of ', prob_threshold, \n",
    "          ' : ', np.mean(np.amax(target_predicted_proba, axis = 1) > prob_threshold))\n",
    "    print('Accuracy with this prob_threshold: ', np.mean((target_predicted == new_target_test) & (np.amax(target_predicted_proba, axis = 1) > prob_threshold)) \n",
    "          / np.mean(np.amax(target_predicted_proba, axis = 1) > prob_threshold))\n",
    "    #print(np.mean((target_predicted != new_target_test) & (np.amax(target_predicted_proba, axis = 1) > prob_threshold)))\n",
    "    #print(np.sum((target_predicted == new_target_test) & (np.amax(target_predicted_proba, axis = 1) > prob_threshold)))\n",
    "    #print(np.sum((target_predicted != new_target_test) & (np.amax(target_predicted_proba, axis = 1) > prob_threshold)))\n",
    "    print('Total accuracy: ', accuracy_score(new_target_test, target_predicted))\n",
    "    X_test_greater_than_prob_threshold = features_train[np.amax(target_predicted_proba, axis = 1) > prob_threshold, ]\n",
    "#     print(X_test_greater_than_prob_threshold[0 : 2, ])\n",
    "    print('\\n\\n')"
   ]
  },
  {
   "cell_type": "code",
   "execution_count": 23,
   "metadata": {
    "collapsed": false
   },
   "outputs": [
    {
     "name": "stdout",
     "output_type": "stream",
     "text": [
      "Odds Difference Threshold to remove sample data:  0.1\n",
      "Number of training data under this odds difference threshold:  13614\n",
      "Number of test data under this odds difference threshold:  3404\n",
      "Percentage of predictions with the Prob_threshold of  0.7  :  0.137779083431\n",
      "Accuracy with this prob_threshold:  0.710021321962\n",
      "Total accuracy:  0.502937720329\n",
      "precision score:  [ 0.5295858   0.3         0.48730964]\n",
      "\n",
      "\n",
      "\n",
      "Odds Difference Threshold to remove sample data:  0.6\n",
      "Number of training data under this odds difference threshold:  13108\n",
      "Number of test data under this odds difference threshold:  3267\n",
      "Percentage of predictions with the Prob_threshold of "
     ]
    },
    {
     "name": "stderr",
     "output_type": "stream",
     "text": [
      "/usr/local/lib/python3.4/dist-packages/ipykernel/__main__.py:51: VisibleDeprecationWarning: boolean index did not match indexed array along dimension 0; dimension is 13618 but corresponding boolean dimension is 3404\n",
      "/usr/local/lib/python3.4/dist-packages/ipykernel/__main__.py:51: VisibleDeprecationWarning: boolean index did not match indexed array along dimension 0; dimension is 13618 but corresponding boolean dimension is 3267\n"
     ]
    },
    {
     "name": "stdout",
     "output_type": "stream",
     "text": [
      " 0.7  :  0.147229874503\n",
      "Accuracy with this prob_threshold:  0.715176715177\n",
      "Total accuracy:  0.510254055709\n",
      "precision score:  [ 0.53798858  0.30472103  0.49009247]\n",
      "\n",
      "\n",
      "\n",
      "Odds Difference Threshold to remove sample data:  1.1\n",
      "Number of training data under this odds difference threshold:  10094\n",
      "Number of test data under this odds difference threshold:  2508\n",
      "Percentage of predictions with the Prob_threshold of  0.7  :  0.200956937799\n",
      "Accuracy with this prob_threshold:  0.700396825397\n",
      "Total accuracy:  0.538277511962\n",
      "precision score:  [ 0.56617243  0.27325581  0.52815534]\n",
      "\n",
      "\n",
      "\n",
      "Odds Difference Threshold to remove sample data:  1.6\n",
      "Number of training data under this odds difference threshold:  8085\n",
      "Number of test data under this odds difference threshold:  2010\n",
      "Percentage of predictions with the Prob_threshold of "
     ]
    },
    {
     "name": "stderr",
     "output_type": "stream",
     "text": [
      "/usr/local/lib/python3.4/dist-packages/ipykernel/__main__.py:51: VisibleDeprecationWarning: boolean index did not match indexed array along dimension 0; dimension is 13618 but corresponding boolean dimension is 2508\n",
      "/usr/local/lib/python3.4/dist-packages/ipykernel/__main__.py:51: VisibleDeprecationWarning: boolean index did not match indexed array along dimension 0; dimension is 13618 but corresponding boolean dimension is 2010\n"
     ]
    },
    {
     "name": "stdout",
     "output_type": "stream",
     "text": [
      " 0.7  :  0.260696517413\n",
      "Accuracy with this prob_threshold:  0.687022900763\n",
      "Total accuracy:  0.574129353234\n",
      "precision score:  [ 0.59920372  0.28461538  0.57372654]\n",
      "\n",
      "\n",
      "\n",
      "Odds Difference Threshold to remove sample data:  2.1\n",
      "Number of training data under this odds difference threshold:  6685\n",
      "Number of test data under this odds difference threshold:  1647\n",
      "Percentage of predictions with the Prob_threshold of  0.7  :  0.334547662417\n",
      "Accuracy with this prob_threshold:  0.686025408348\n",
      "Total accuracy:  0.597449908925\n",
      "precision score:  [ 0.6276252   0.29357798  0.58333333]\n",
      "\n",
      "\n",
      "\n",
      "Odds Difference Threshold to remove sample data:  2.6\n",
      "Number of training data under this odds difference threshold:  5699\n",
      "Number of test data under this odds difference threshold:  1400\n",
      "Percentage of predictions with the Prob_threshold of "
     ]
    },
    {
     "name": "stderr",
     "output_type": "stream",
     "text": [
      "/usr/local/lib/python3.4/dist-packages/ipykernel/__main__.py:51: VisibleDeprecationWarning: boolean index did not match indexed array along dimension 0; dimension is 13618 but corresponding boolean dimension is 1647\n",
      "/usr/local/lib/python3.4/dist-packages/ipykernel/__main__.py:51: VisibleDeprecationWarning: boolean index did not match indexed array along dimension 0; dimension is 13618 but corresponding boolean dimension is 1400\n"
     ]
    },
    {
     "name": "stdout",
     "output_type": "stream",
     "text": [
      " 0.7  :  0.389285714286\n",
      "Accuracy with this prob_threshold:  0.695412844037\n",
      "Total accuracy:  0.611428571429\n",
      "precision score:  [ 0.64075829  0.30097087  0.61570248]\n",
      "\n",
      "\n",
      "\n",
      "Odds Difference Threshold to remove sample data:  3.1\n",
      "Number of training data under this odds difference threshold:  4880\n",
      "Number of test data under this odds difference threshold:  1171\n",
      "Percentage of predictions with the Prob_threshold of  0.7  :  0.453458582408\n",
      "Accuracy with this prob_threshold:  0.683615819209\n",
      "Total accuracy:  0.618274978651\n",
      "precision score:  [ 0.65088106  0.22058824  0.60512821]\n",
      "\n",
      "\n",
      "\n",
      "Odds Difference Threshold to remove sample data:  3.6\n",
      "Number of training data under this odds difference threshold:  4109\n",
      "Number of test data under this odds difference threshold:  997\n",
      "Percentage of predictions with the Prob_threshold of "
     ]
    },
    {
     "name": "stderr",
     "output_type": "stream",
     "text": [
      "/usr/local/lib/python3.4/dist-packages/ipykernel/__main__.py:51: VisibleDeprecationWarning: boolean index did not match indexed array along dimension 0; dimension is 13618 but corresponding boolean dimension is 1171\n",
      "/usr/local/lib/python3.4/dist-packages/ipykernel/__main__.py:51: VisibleDeprecationWarning: boolean index did not match indexed array along dimension 0; dimension is 13618 but corresponding boolean dimension is 997\n"
     ]
    },
    {
     "name": "stdout",
     "output_type": "stream",
     "text": [
      " 0.7  :  0.524573721163\n",
      "Accuracy with this prob_threshold:  0.686424474187\n",
      "Total accuracy:  0.629889669007\n",
      "precision score:  [ 0.66709022  0.22        0.575     ]\n",
      "\n",
      "\n",
      "\n",
      "Odds Difference Threshold to remove sample data:  4.1\n",
      "Number of training data under this odds difference threshold:  3502\n",
      "Number of test data under this odds difference threshold:  850\n",
      "Percentage of predictions with the Prob_threshold of  0.7  :  0.587058823529\n",
      "Accuracy with this prob_threshold:  0.693386773547\n",
      "Total accuracy:  0.656470588235\n",
      "precision score:  [ 0.69444444  0.35        0.54761905]\n",
      "\n",
      "\n",
      "\n",
      "Odds Difference Threshold to remove sample data:  4.6\n",
      "Number of training data under this odds difference threshold:  2958\n",
      "Number of test data under this odds difference threshold:  717\n",
      "Percentage of predictions with the Prob_threshold of "
     ]
    },
    {
     "name": "stderr",
     "output_type": "stream",
     "text": [
      "/usr/local/lib/python3.4/dist-packages/ipykernel/__main__.py:51: VisibleDeprecationWarning: boolean index did not match indexed array along dimension 0; dimension is 13618 but corresponding boolean dimension is 850\n",
      "/usr/local/lib/python3.4/dist-packages/ipykernel/__main__.py:51: VisibleDeprecationWarning: boolean index did not match indexed array along dimension 0; dimension is 13618 but corresponding boolean dimension is 717\n"
     ]
    },
    {
     "name": "stdout",
     "output_type": "stream",
     "text": [
      " 0.7  :  0.647140864714\n",
      "Accuracy with this prob_threshold:  0.689655172414\n",
      "Total accuracy:  0.670850767085\n",
      "precision score:  [ 0.71183533  0.28571429  0.56565657]\n",
      "\n",
      "\n",
      "\n",
      "Odds Difference Threshold to remove sample data:  5.1\n",
      "Number of training data under this odds difference threshold:  2595\n",
      "Number of test data under this odds difference threshold:  628\n",
      "Percentage of predictions with the Prob_threshold of  0.7  :  0.676751592357\n",
      "Accuracy with this prob_threshold:  0.708235294118\n",
      "Total accuracy:  0.683121019108\n",
      "precision score:  [ 0.71923077  0.27586207  0.59493671]\n",
      "\n",
      "\n",
      "\n",
      "Odds Difference Threshold to remove sample data:  5.6\n",
      "Number of training data under this odds difference threshold:  2235\n",
      "Number of test data under this odds difference threshold:  539\n",
      "Percentage of predictions with the Prob_threshold of "
     ]
    },
    {
     "name": "stderr",
     "output_type": "stream",
     "text": [
      "/usr/local/lib/python3.4/dist-packages/ipykernel/__main__.py:51: VisibleDeprecationWarning: boolean index did not match indexed array along dimension 0; dimension is 13618 but corresponding boolean dimension is 628\n",
      "/usr/local/lib/python3.4/dist-packages/ipykernel/__main__.py:51: VisibleDeprecationWarning: boolean index did not match indexed array along dimension 0; dimension is 13618 but corresponding boolean dimension is 539\n"
     ]
    },
    {
     "name": "stdout",
     "output_type": "stream",
     "text": [
      " 0.7  :  0.716141001855\n",
      "Accuracy with this prob_threshold:  0.715025906736\n",
      "Total accuracy:  0.69387755102\n",
      "precision score:  [ 0.73593074  0.21428571  0.57142857]\n",
      "\n",
      "\n",
      "\n",
      "Odds Difference Threshold to remove sample data:  6.1\n",
      "Number of training data under this odds difference threshold:  1920\n",
      "Number of test data under this odds difference threshold:  474\n",
      "Percentage of predictions with the Prob_threshold of  0.7  :  0.73417721519\n",
      "Accuracy with this prob_threshold:  0.704022988506\n",
      "Total accuracy:  0.696202531646\n",
      "precision score:  [ 0.74390244  0.2         0.62068966]\n",
      "\n",
      "\n",
      "\n",
      "Odds Difference Threshold to remove sample data:  6.6\n",
      "Number of training data under this odds difference threshold:  1688\n",
      "Number of test data under this odds difference threshold:  425\n",
      "Percentage of predictions with the Prob_threshold of "
     ]
    },
    {
     "name": "stderr",
     "output_type": "stream",
     "text": [
      "/usr/local/lib/python3.4/dist-packages/ipykernel/__main__.py:51: VisibleDeprecationWarning: boolean index did not match indexed array along dimension 0; dimension is 13618 but corresponding boolean dimension is 474\n",
      "/usr/local/lib/python3.4/dist-packages/ipykernel/__main__.py:51: VisibleDeprecationWarning: boolean index did not match indexed array along dimension 0; dimension is 13618 but corresponding boolean dimension is 425\n"
     ]
    },
    {
     "name": "stdout",
     "output_type": "stream",
     "text": [
      " 0.7  :  0.752941176471\n",
      "Accuracy with this prob_threshold:  0.70625\n",
      "Total accuracy:  0.675294117647\n",
      "precision score:  [ 0.73239437  0.23076923  0.58064516]\n",
      "\n",
      "\n",
      "\n"
     ]
    }
   ],
   "source": [
    "clf = LogisticRegression(C=1, n_jobs = -1)\n",
    "\n",
    "\n",
    "# from sklearn.svm import SVC\n",
    "# clf = SVC(C = 1, kernel = 'poly', probability = True)\n",
    "\n",
    "\n",
    "# from sklearn.ensemble import RandomForestClassifier\n",
    "# clf = RandomForestClassifier(min_samples_split = 10, n_estimators = 1000, criterion='entropy')\n",
    "\n",
    "\n",
    "# from sklearn.ensemble import AdaBoostClassifier\n",
    "# from sklearn.tree import DecisionTreeClassifier\n",
    "# clf = AdaBoostClassifier()\n",
    "\n",
    "\n",
    "# from sklearn.naive_bayes import GaussianNB\n",
    "# clf = GaussianNB()\n",
    "\n",
    "\n",
    "for threshold in np.arange(0.1, 7, 0.5):\n",
    "    new_features_train2, new_target_train2, miss_predicts_rate2 = correct_predict_based_on_odds2(features_train2, target_train2, threshold)\n",
    "    new_features_test2, new_target_test2, miss_predicts_rate_test2 = correct_predict_based_on_odds2(features_test2, target_test2, threshold)\n",
    "    print('Odds Difference Threshold to remove sample data: ', threshold)\n",
    "    print('Number of training data under this odds difference threshold: ', len(new_features_train2))\n",
    "    print('Number of test data under this odds difference threshold: ', len(new_features_test2))\n",
    "    \n",
    "    # feature scaling\n",
    "    scaler = StandardScaler()  \n",
    "    # Don't cheat - fit only on training data\n",
    "    scaler.fit(new_features_train2)  \n",
    "    X_train2 = scaler.transform(new_features_train2)  \n",
    "    # apply same transformation to test data\n",
    "    X_test2 = scaler.transform(new_features_test2)  \n",
    "    \n",
    "    \n",
    "    clf.fit(X_train2, new_target_train2)\n",
    "    target_predicted_proba2 = clf.predict_proba(X_test2)\n",
    "    # print(target_predicted_proba)\n",
    "    target_predicted2 = clf.predict(X_test2)\n",
    "    prob_threshold = 0.70\n",
    "    \n",
    "    print('Percentage of predictions with the Prob_threshold of ', prob_threshold, \n",
    "          ' : ', np.mean(np.amax(target_predicted_proba2, axis = 1) > prob_threshold))\n",
    "    print('Accuracy with this prob_threshold: ', np.mean((target_predicted2 == new_target_test2) & (np.amax(target_predicted_proba2, axis = 1) > prob_threshold)) \n",
    "          / np.mean(np.amax(target_predicted_proba2, axis = 1) > prob_threshold))   \n",
    "    #print(np.mean((target_predicted != new_target_test) & (np.amax(target_predicted_proba, axis = 1) > prob_threshold)))\n",
    "    #print(np.sum((target_predicted == new_target_test) & (np.amax(target_predicted_proba, axis = 1) > prob_threshold)))\n",
    "    #print(np.sum((target_predicted != new_target_test) & (np.amax(target_predicted_proba, axis = 1) > prob_threshold)))\n",
    "    print('Total accuracy: ', accuracy_score(new_target_test2, target_predicted2))\n",
    "    X_test_greater_than_prob_threshold2 = features_train[np.amax(target_predicted_proba2, axis = 1) > prob_threshold, ]\n",
    "#     print(X_test_greater_than_prob_threshold[0 : 2, ])\n",
    "    print(\"precision score: \", precision_score( new_target_test2, target_predicted2, average = None ))\n",
    "    print('\\n\\n')"
   ]
  },
  {
   "cell_type": "code",
   "execution_count": 77,
   "metadata": {
    "collapsed": false
   },
   "outputs": [
    {
     "data": {
      "text/plain": [
       "Index(['B365H', 'B365D', 'B365A'], dtype='object')"
      ]
     },
     "execution_count": 77,
     "metadata": {},
     "output_type": "execute_result"
    }
   ],
   "source": [
    "## Now let's train the games only labeld as upset or non-upset games\n",
    "games_upset = pd.read_csv(data_dir + 'result-teamname2.csv')\n",
    "games_upset.drop(['FTHG', 'FTAG', 'HTHG', 'HTAG'], axis = 1, inplace=True)\n",
    "games_upset.columns[377:380]"
   ]
  },
  {
   "cell_type": "code",
   "execution_count": 78,
   "metadata": {
    "collapsed": false
   },
   "outputs": [
    {
     "data": {
      "text/plain": [
       "(0.30623274393467659, 0.69376725606532341)"
      ]
     },
     "execution_count": 78,
     "metadata": {},
     "output_type": "execute_result"
    }
   ],
   "source": [
    "result_column = games_upset['upsetx']\n",
    "np.mean(result_column == 1), np.mean(result_column == 0)"
   ]
  },
  {
   "cell_type": "code",
   "execution_count": 79,
   "metadata": {
    "collapsed": false
   },
   "outputs": [],
   "source": [
    "# result_column[result_column == 1.0] = 2\n",
    "# result_column[result_column == 0.0] = 1\n",
    "# np.mean(result_column == 1), np.mean(result_column == 2)\n"
   ]
  },
  {
   "cell_type": "code",
   "execution_count": 81,
   "metadata": {
    "collapsed": false
   },
   "outputs": [],
   "source": [
    "# np.mean(result_column == 1), np.mean(result_column == 2)"
   ]
  },
  {
   "cell_type": "code",
   "execution_count": 82,
   "metadata": {
    "collapsed": true
   },
   "outputs": [],
   "source": [
    "target = result_column.values"
   ]
  },
  {
   "cell_type": "code",
   "execution_count": 83,
   "metadata": {
    "collapsed": true
   },
   "outputs": [],
   "source": [
    "numerical_features = games_upset[games_upset.columns[0:-1]]\n",
    "features_array = numerical_features.values\n",
    "\n",
    "features_train, features_test, target_train, target_test = train_test_split(\n",
    "    features_array, target, test_size=0.20, random_state=0)"
   ]
  },
  {
   "cell_type": "code",
   "execution_count": 88,
   "metadata": {
    "collapsed": false
   },
   "outputs": [],
   "source": [
    "\n",
    "\n",
    "# clf = LogisticRegression(C=1000, n_jobs = -1)\n",
    "\n",
    "\n",
    "# from sklearn.svm import SVC\n",
    "# clf = SVC(C = 1,kernel = 'rbf',class_weight = \"balanced\")\n",
    "\n",
    "\n",
    "# from sklearn.ensemble import RandomForestClassifier\n",
    "# clf = RandomForestClassifier()\n",
    "\n",
    "\n",
    "from sklearn.ensemble import AdaBoostClassifier\n",
    "from sklearn.tree import DecisionTreeClassifier\n",
    "clf = AdaBoostClassifier()\n",
    "\n",
    "\n",
    "# from sklearn.naive_bayes import GaussianNB\n",
    "# clf = GaussianNB()\n",
    "\n",
    "# feature scaling\n",
    "scaler = StandardScaler()  \n",
    "# Don't cheat - fit only on training data\n",
    "scaler.fit(features_train)  \n",
    "X_train = scaler.transform(features_train)  \n",
    "# apply same transformation to test data\n",
    "X_test = scaler.transform(features_test)  \n",
    "\n",
    "\n",
    "clf.fit(X_train, target_train)\n",
    "# target_predicted_proba = clf.predict_proba(X_test)\n",
    "# print(target_predicted_proba)\n",
    "target_predicted = clf.predict(X_test)\n",
    "# prob_threshold = 0.70\n",
    "\n",
    "# print('Percentage of predictions with the Prob_threshold of ', prob_threshold, \n",
    "#       ' : ', np.mean(np.amax(target_predicted_proba, axis = 1) > prob_threshold))\n",
    "# print('Accuracy with this prob_threshold: ', np.mean((target_predicted == target_test) & (np.amax(target_predicted_proba, axis = 1) > prob_threshold)) \n",
    "#       / np.mean(np.amax(target_predicted_proba, axis = 1) > prob_threshold))\n",
    "#print(np.mean((target_predicted != new_target_test) & (np.amax(target_predicted_proba, axis = 1) > prob_threshold)))\n",
    "#print(np.sum((target_predicted == new_target_test) & (np.amax(target_predicted_proba, axis = 1) > prob_threshold)))\n",
    "#print(np.sum((target_predicted != new_target_test) & (np.amax(target_predicted_proba, axis = 1) > prob_threshold)))"
   ]
  },
  {
   "cell_type": "code",
   "execution_count": 89,
   "metadata": {
    "collapsed": false
   },
   "outputs": [
    {
     "name": "stdout",
     "output_type": "stream",
     "text": [
      "Total accuracy:  0.696035242291\n",
      "precision score:  0.509072580645\n",
      "\n",
      "\n",
      "\n"
     ]
    },
    {
     "data": {
      "text/plain": [
       "(array([ 0.,  1.,  0.,  1.,  1.,  0.,  0.,  1.,  1.,  1.,  1.,  0.,  0.,\n",
       "         0.,  0.,  1.,  1.,  0.,  0.,  0.]),\n",
       " array([ 0.,  0.,  1.,  0.,  0.,  0.,  1.,  0.,  1.,  1.,  0.,  0.,  0.,\n",
       "         0.,  1.,  1.,  0.,  0.,  1.,  0.]))"
      ]
     },
     "execution_count": 89,
     "metadata": {},
     "output_type": "execute_result"
    }
   ],
   "source": [
    "\n",
    "print('Total accuracy: ', accuracy_score(target_test, target_predicted))\n",
    "# X_test_greater_than_prob_threshold = features_train[np.amax(target_predicted_proba, axis = 1) > prob_threshold, ]\n",
    "#     print(X_test_greater_than_prob_threshold[0 : 2, ])\n",
    "print(\"precision score: \", precision_score( target_test, target_predicted ))\n",
    "print('\\n\\n')\n",
    "\n",
    "target_predicted[200:220], target_test[200:220]"
   ]
  },
  {
   "cell_type": "code",
   "execution_count": 90,
   "metadata": {
    "collapsed": false
   },
   "outputs": [
    {
     "name": "stdout",
     "output_type": "stream",
     "text": [
      "Odds Difference Threshold to remove sample data:  0.1\n",
      "Number of training data under this odds difference threshold:  13616\n",
      "Number of test data under this odds difference threshold:  3405\n",
      "Percentage of predictions with the Prob_threshold of  0.5  :  1.0\n",
      "Accuracy with this prob_threshold:  0.696328928047\n",
      "Total accuracy:  0.696328928047\n",
      "precision score total:  [ 0.77299089  0.50958628]\n",
      "precision score under this prob_threshold:  0.5095862764883956\n",
      "\n",
      "\n",
      "\n",
      "Odds Difference Threshold to remove sample data:  0.6\n",
      "Number of training data under this odds difference threshold:  13078\n",
      "Number of test data under this odds difference threshold:  3252\n",
      "Percentage of predictions with the Prob_threshold of  0.5  :  1.0\n",
      "Accuracy with this prob_threshold:  0.689421894219\n",
      "Total accuracy:  0.689421894219\n",
      "precision score total:  [ 0.72998066  0.53223388]\n",
      "precision score under this prob_threshold:  0.5322338830584707\n",
      "\n",
      "\n",
      "\n",
      "Odds Difference Threshold to remove sample data:  1.1\n",
      "Number of training data under this odds difference threshold:  10007\n",
      "Number of test data under this odds difference threshold:  2477\n",
      "Percentage of predictions with the Prob_threshold of  0.5  :  1.0\n",
      "Accuracy with this prob_threshold:  0.597093257973\n",
      "Total accuracy:  0.597093257973\n",
      "precision score total:  [ 0.62172285  0.52138158]\n",
      "precision score under this prob_threshold:  0.5213815789473685\n",
      "\n",
      "\n",
      "\n",
      "Odds Difference Threshold to remove sample data:  1.6\n",
      "Number of training data under this odds difference threshold:  8057\n",
      "Number of test data under this odds difference threshold:  2020\n",
      "Percentage of predictions with the Prob_threshold of  0.5  :  1.0\n",
      "Accuracy with this prob_threshold:  0.586138613861\n",
      "Total accuracy:  0.586138613861\n",
      "precision score total:  [ 0.60699216  0.49030471]\n",
      "precision score under this prob_threshold:  0.4903047091412742\n",
      "\n",
      "\n",
      "\n",
      "Odds Difference Threshold to remove sample data:  2.1\n",
      "Number of training data under this odds difference threshold:  6609\n",
      "Number of test data under this odds difference threshold:  1622\n",
      "Percentage of predictions with the Prob_threshold of  0.5  :  1.0\n",
      "Accuracy with this prob_threshold:  0.610357583231\n",
      "Total accuracy:  0.610357583231\n",
      "precision score total:  [ 0.63091037  0.46829268]\n",
      "precision score under this prob_threshold:  0.4682926829268293\n",
      "\n",
      "\n",
      "\n",
      "Odds Difference Threshold to remove sample data:  2.6\n",
      "Number of training data under this odds difference threshold:  5752\n",
      "Number of test data under this odds difference threshold:  1400\n",
      "Percentage of predictions with the Prob_threshold of  0.5  :  1.0\n",
      "Accuracy with this prob_threshold:  0.611428571429\n",
      "Total accuracy:  0.611428571429\n",
      "precision score total:  [ 0.64057508  0.36486486]\n",
      "precision score under this prob_threshold:  0.36486486486486486\n",
      "\n",
      "\n",
      "\n",
      "Odds Difference Threshold to remove sample data:  3.1\n",
      "Number of training data under this odds difference threshold:  4923\n",
      "Number of test data under this odds difference threshold:  1178\n",
      "Percentage of predictions with the Prob_threshold of  0.5  :  1.0\n",
      "Accuracy with this prob_threshold:  0.636672325976\n",
      "Total accuracy:  0.636672325976\n",
      "precision score total:  [ 0.65357143  0.31034483]\n",
      "precision score under this prob_threshold:  0.3103448275862069\n",
      "\n",
      "\n",
      "\n",
      "Odds Difference Threshold to remove sample data:  3.6\n",
      "Number of training data under this odds difference threshold:  4145\n",
      "Number of test data under this odds difference threshold:  1008\n",
      "Percentage of predictions with the Prob_threshold of  0.5  :  1.0\n",
      "Accuracy with this prob_threshold:  0.661706349206\n",
      "Total accuracy:  0.661706349206\n",
      "precision score total:  [ 0.67598344  0.33333333]\n",
      "precision score under this prob_threshold:  0.3333333333333333\n",
      "\n",
      "\n",
      "\n",
      "Odds Difference Threshold to remove sample data:  4.1\n",
      "Number of training data under this odds difference threshold:  3538\n",
      "Number of test data under this odds difference threshold:  856\n",
      "Percentage of predictions with the Prob_threshold of  0.5  :  1.0\n",
      "Accuracy with this prob_threshold:  0.684579439252\n",
      "Total accuracy:  0.684579439252\n",
      "precision score total:  [ 0.69407497  0.4137931 ]\n",
      "precision score under this prob_threshold:  0.41379310344827586\n",
      "\n",
      "\n",
      "\n",
      "Odds Difference Threshold to remove sample data:  4.6\n",
      "Number of training data under this odds difference threshold:  2982\n",
      "Number of test data under this odds difference threshold:  723\n",
      "Percentage of predictions with the Prob_threshold of  0.5  :  1.0\n",
      "Accuracy with this prob_threshold:  0.699861687414\n",
      "Total accuracy:  0.699861687414\n",
      "precision score total:  [ 0.7112069   0.40740741]\n",
      "precision score under this prob_threshold:  0.4074074074074074\n",
      "\n",
      "\n",
      "\n",
      "Odds Difference Threshold to remove sample data:  5.1\n",
      "Number of training data under this odds difference threshold:  2633\n",
      "Number of test data under this odds difference threshold:  637\n",
      "Percentage of predictions with the Prob_threshold of  0.5  :  1.0\n",
      "Accuracy with this prob_threshold:  0.71114599686\n",
      "Total accuracy:  0.71114599686\n",
      "precision score total:  [ 0.72937294  0.35483871]\n",
      "precision score under this prob_threshold:  0.3548387096774194\n",
      "\n",
      "\n",
      "\n",
      "Odds Difference Threshold to remove sample data:  5.6\n",
      "Number of training data under this odds difference threshold:  2264\n",
      "Number of test data under this odds difference threshold:  550\n",
      "Percentage of predictions with the Prob_threshold of  0.5  :  1.0\n",
      "Accuracy with this prob_threshold:  0.721818181818\n",
      "Total accuracy:  0.721818181818\n",
      "precision score total:  [ 0.74334601  0.25      ]\n",
      "precision score under this prob_threshold:  0.25\n",
      "\n",
      "\n",
      "\n",
      "Odds Difference Threshold to remove sample data:  6.1\n",
      "Number of training data under this odds difference threshold:  1923\n",
      "Number of test data under this odds difference threshold:  478\n",
      "Percentage of predictions with the Prob_threshold of  0.5  :  1.0\n",
      "Accuracy with this prob_threshold:  0.730125523013\n",
      "Total accuracy:  0.730125523013\n",
      "precision score total:  [ 0.75        0.22222222]\n",
      "precision score under this prob_threshold:  0.2222222222222222\n",
      "\n",
      "\n",
      "\n",
      "Odds Difference Threshold to remove sample data:  6.6\n",
      "Number of training data under this odds difference threshold:  1720\n",
      "Number of test data under this odds difference threshold:  419\n",
      "Percentage of predictions with the Prob_threshold of  0.5  :  1.0\n",
      "Accuracy with this prob_threshold:  0.727923627685\n",
      "Total accuracy:  0.727923627685\n",
      "precision score total:  [ 0.75125628  0.28571429]\n",
      "precision score under this prob_threshold:  0.2857142857142857\n",
      "\n",
      "\n",
      "\n"
     ]
    }
   ],
   "source": [
    "start = 377\n",
    "end = 380\n",
    "for threshold in np.arange(0.1, 7, 0.5):\n",
    "    new_features_train, new_target_train, miss_predicts_rate = correct_predict_based_on_odds_with_index(features_train, target_train, threshold, start, end)\n",
    "    new_features_test, new_target_test, miss_predicts_rate_test = correct_predict_based_on_odds_with_index(features_test, target_test, threshold, start, end)\n",
    "    print('Odds Difference Threshold to remove sample data: ', threshold)\n",
    "    print('Number of training data under this odds difference threshold: ', len(new_features_train))\n",
    "    print('Number of test data under this odds difference threshold: ', len(new_features_test))\n",
    "    \n",
    "    # feature scaling\n",
    "    scaler = StandardScaler()  \n",
    "    # Don't cheat - fit only on training data\n",
    "    scaler.fit(new_features_train)  \n",
    "    X_train = scaler.transform(new_features_train)  \n",
    "    # apply same transformation to test data\n",
    "    X_test = scaler.transform(new_features_test)  \n",
    "    \n",
    "    \n",
    "    clf.fit(X_train, new_target_train)\n",
    "    target_predicted_proba = clf.predict_proba(X_test)\n",
    "    # print(target_predicted_proba)\n",
    "    target_predicted = clf.predict(X_test)\n",
    "    prob_threshold = 0.50\n",
    "    \n",
    "    print('Percentage of predictions with the Prob_threshold of ', prob_threshold, \n",
    "          ' : ', np.mean(np.amax(target_predicted_proba, axis = 1) > prob_threshold))\n",
    "    print('Accuracy with this prob_threshold: ', \n",
    "          np.mean((target_predicted == new_target_test) & (np.amax(target_predicted_proba, axis = 1) > prob_threshold)) \n",
    "          / np.mean(np.amax(target_predicted_proba, axis = 1) > prob_threshold))\n",
    "    #print(np.mean((target_predicted != new_target_test) & (np.amax(target_predicted_proba, axis = 1) > prob_threshold)))\n",
    "    #print(np.sum((target_predicted == new_target_test) & (np.amax(target_predicted_proba, axis = 1) > prob_threshold)))\n",
    "    #print(np.sum((target_predicted != new_target_test) & (np.amax(target_predicted_proba, axis = 1) > prob_threshold)))\n",
    "    print('Total accuracy: ', accuracy_score(new_target_test, target_predicted))\n",
    "#     X_test_greater_than_prob_threshold = features_train[np.amax(target_predicted_proba, axis = 1) > prob_threshold, ]\n",
    "#     print(X_test_greater_than_prob_threshold[0 : 2, ])\n",
    "    print(\"precision score total: \", precision_score( new_target_test, target_predicted, average = None ))\n",
    "    true_positive = np.sum((target_predicted == new_target_test) \n",
    "                           & (np.amax(target_predicted_proba, axis = 1) > prob_threshold) \n",
    "                           & (target_predicted == 1))\n",
    "    false_positive = np.sum((target_predicted != new_target_test) \n",
    "                           & (np.amax(target_predicted_proba, axis = 1) > prob_threshold) \n",
    "                           & (target_predicted == 1))    \n",
    "    print(\"precision score under this prob_threshold: \", float(true_positive) / (float(true_positive + false_positive))) \n",
    "    print('\\n\\n')"
   ]
  },
  {
   "cell_type": "code",
   "execution_count": null,
   "metadata": {
    "collapsed": true
   },
   "outputs": [],
   "source": []
  }
 ],
 "metadata": {
  "kernelspec": {
   "display_name": "Python 3",
   "language": "python",
   "name": "python3"
  },
  "language_info": {
   "codemirror_mode": {
    "name": "ipython",
    "version": 3
   },
   "file_extension": ".py",
   "mimetype": "text/x-python",
   "name": "python",
   "nbconvert_exporter": "python",
   "pygments_lexer": "ipython3",
   "version": "3.4.3"
  }
 },
 "nbformat": 4,
 "nbformat_minor": 0
}
