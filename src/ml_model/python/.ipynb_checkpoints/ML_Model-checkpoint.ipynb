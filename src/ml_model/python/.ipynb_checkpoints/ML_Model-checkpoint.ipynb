{
 "cells": [
  {
   "cell_type": "code",
   "execution_count": 7,
   "metadata": {
    "collapsed": true
   },
   "outputs": [],
   "source": [
    "%matplotlib inline\n",
    "import matplotlib.pyplot as plt\n",
    "import numpy as np\n",
    "import pandas as pd\n",
    "\n",
    "import warnings\n",
    "warnings.simplefilter('ignore', DeprecationWarning)"
   ]
  },
  {
   "cell_type": "code",
   "execution_count": 8,
   "metadata": {
    "collapsed": true
   },
   "outputs": [],
   "source": [
    "def sigmoid(z):\n",
    "    \n",
    "    return 1.0 / (1 + np.exp(-z))"
   ]
  },
  {
   "cell_type": "code",
   "execution_count": 23,
   "metadata": {
    "collapsed": false
   },
   "outputs": [
    {
     "data": {
      "text/plain": [
       "4"
      ]
     },
     "execution_count": 23,
     "metadata": {},
     "output_type": "execute_result"
    }
   ],
   "source": [
    "z = np.array([[-1, 1, 2, 3], [2, 3 , 4, 5]])\n",
    "z = np.concatenate((np.ones([len(z), 1]), z), axis = 1)\n",
    "theta = np.array([[1, 2, 3, 4, 5]])\n",
    "np.dot(z, theta.T)\n",
    "np.amax(z, axis = 1)\n",
    "np.argmax(z, axis = 1)[0]"
   ]
  },
  {
   "cell_type": "code",
   "execution_count": 24,
   "metadata": {
    "collapsed": true
   },
   "outputs": [],
   "source": [
    "def predict(theta1, theta2, X, threshold):\n",
    "    m = len(X)\n",
    "    num_labels = len(theta2)\n",
    "    \n",
    "    p = np.zeros([m, 1])\n",
    "    \n",
    "    h1 = sigmoid(np.dot(np.concatenate((np.ones([m, 1]), X)), theta1.T))\n",
    "    h2 = sigmoid(np.dot(np.concatenate((np.ones([m, 1]), h1)), theta2.T))\n",
    "    pred_val = np.amax(h2, axis = 1)\n",
    "    p = np.argmax(h2, axis = 1)\n",
    "    \n",
    "    for i in range(len(pred_val)):\n",
    "        if pred_val[i] < threshold:\n",
    "            if p[i] < num_labels:\n",
    "                p[i] = num_labels  # how to handle the ones that are not very confident\n",
    "                \n",
    "    return p"
   ]
  },
  {
   "cell_type": "code",
   "execution_count": 27,
   "metadata": {
    "collapsed": false
   },
   "outputs": [
    {
     "name": "stdout",
     "output_type": "stream",
     "text": [
      "         0         1         2         3         4         5         6   \\\n",
      "0 -0.248570 -0.087940 -0.059940 -0.108620  0.070924 -0.102750 -0.000188   \n",
      "1  0.178340 -0.044064  0.175790 -0.058741  0.019503 -0.033841 -0.066332   \n",
      "2 -0.036802 -0.088165 -0.002883 -0.057307  0.047919 -0.037162  0.071377   \n",
      "3  0.092395  0.120670  0.087328  0.048549  0.084054 -0.103680 -0.070458   \n",
      "4  0.276250  0.038141  0.157710  0.065235  0.042443  0.041533  0.035501   \n",
      "\n",
      "         7         8         9    ...           29        30        31  \\\n",
      "0 -0.086214  0.000214  0.052950   ...     0.019026 -0.131920 -0.096431   \n",
      "1  0.085222  0.075750 -0.094780   ...     0.009520 -0.027396  0.087948   \n",
      "2 -0.064363  0.068891  0.078361   ...    -0.209210  0.115760  0.046608   \n",
      "3 -0.014645  0.117710  0.131970   ...    -0.021554  0.088386  0.005759   \n",
      "4  0.076561  0.064242 -0.055620   ...     0.104500  0.263810 -0.017222   \n",
      "\n",
      "         32        33        34        35        36        37       38  \n",
      "0 -0.079540 -0.088932  0.083239  0.138100 -0.126580  0.187530  1.11600  \n",
      "1  0.089714 -0.127380 -0.056034 -0.090859  0.071620 -0.090958 -0.20661  \n",
      "2 -0.142530  0.134090 -0.100510 -0.281950  0.001627  0.033899  1.96600  \n",
      "3 -0.019113  0.136040 -0.032509 -0.129290  0.035652 -0.054057 -0.65308  \n",
      "4  0.053186  0.175670  0.048105 -0.269330 -0.069754 -0.127530 -2.91380  \n",
      "\n",
      "[5 rows x 39 columns]\n",
      "       0        1        2        3        4       5        6         7    \\\n",
      "0 -0.12312 -0.54587  0.14941 -1.20980  0.42769  1.3628  0.44545 -0.298620   \n",
      "1 -0.52827 -0.92048  0.39013  0.92570  0.26537 -2.1066  0.39548 -0.491320   \n",
      "2 -0.39754  0.46720 -0.41767  0.85593 -0.78872 -1.6239 -0.63592  0.017352   \n",
      "\n",
      "      8        9     ...        91       92       93       94       95   \\\n",
      "0  1.3420 -0.44534   ...    -1.0069  0.13376  0.50725  0.01613 -0.99133   \n",
      "1 -4.3097 -1.79780   ...     1.9704  0.45170  0.25282 -0.67560 -2.76400   \n",
      "2 -1.3782  0.66299   ...     0.6372 -0.55212 -0.93332  0.15588  1.03010   \n",
      "\n",
      "       96       97       98      99       100  \n",
      "0  0.69549 -0.30921  0.58088  1.0378  0.27372  \n",
      "1  0.47741 -0.75018  1.19600 -2.2500  0.27628  \n",
      "2 -1.08710  0.20953 -1.22970 -1.2438 -0.60300  \n",
      "\n",
      "[3 rows x 101 columns]\n"
     ]
    }
   ],
   "source": [
    "theta1 = pd.read_csv('Theta1.csv', header = None)\n",
    "theta2 = pd.read_csv('Theta2.csv', header = None)\n",
    "print(theta1.head())\n",
    "print(theta2.head())"
   ]
  },
  {
   "cell_type": "code",
   "execution_count": 33,
   "metadata": {
    "collapsed": false
   },
   "outputs": [
    {
     "name": "stdout",
     "output_type": "stream",
     "text": [
      "[1 2 1 1 2]\n",
      "[[ 0.    0.    0.    0.    0.    0.    0.    0.    0.    0.    0.    0.    1.\n",
      "   1.    1.    0.    1.3   5.    9.5   1.35  4.2   8.    1.36  4.25  9.\n",
      "   1.35  4.    7.5   1.33  4.    8.    1.33  4.    8.    1.35  4.    8.  ]\n",
      " [ 0.    0.    0.    0.    0.    0.    0.    1.    0.    0.    0.    1.    0.\n",
      "   0.    0.    1.    2.75  3.25  2.25  2.85  3.35  2.2   3.    3.35  2.25\n",
      "   2.7   3.    2.3   3.    3.2   2.1   2.87  3.25  2.15  2.7   3.25  2.25]\n",
      " [ 0.    0.    0.    0.    0.    0.    1.    0.    0.    0.    0.    1.    0.\n",
      "   0.    0.    0.    2.1   3.25  3.    1.95  3.3   3.5   2.05  3.25  3.5\n",
      "   1.9   3.1   3.5   2.    3.2   3.2   1.95  3.25  3.3   1.85  3.3   3.6 ]\n",
      " [ 0.    0.    0.    0.    0.    0.    1.    1.    0.    0.    0.    0.    1.\n",
      "   1.    1.    1.    1.57  3.4   5.5   1.55  3.7   5.35  1.6   3.65  5.5\n",
      "   1.55  3.5   4.8   1.53  3.4   5.5   1.57  3.5   5.    1.55  3.5   5.  ]\n",
      " [ 0.    0.    0.    0.    0.    1.    0.    0.    0.    0.    0.    0.    1.\n",
      "   0.    1.    1.    2.4   3.2   2.6   2.5   3.15  2.6   2.6   3.15  2.65\n",
      "   2.5   3.    2.5   2.5   3.25  2.4   2.4   3.25  2.5   2.4   3.2   2.5 ]]\n"
     ]
    }
   ],
   "source": [
    "threshold = 0.5\n",
    "data = pd.read_csv('../../../data/clean_data.csv')  # result column, 1 means home win, 2 home draw, 3 home lose\n",
    "result_column = data['result']\n",
    "y = result_column.values\n",
    "X = data[data.columns[0:-1]].values\n",
    "print(y[0:5])\n",
    "print(X[0:5])\n"
   ]
  },
  {
   "cell_type": "code",
   "execution_count": 34,
   "metadata": {
    "collapsed": false
   },
   "outputs": [
    {
     "ename": "TypeError",
     "evalue": "data type not understood",
     "output_type": "error",
     "traceback": [
      "\u001b[1;31m---------------------------------------------------------------------------\u001b[0m",
      "\u001b[1;31mTypeError\u001b[0m                                 Traceback (most recent call last)",
      "\u001b[1;32m<ipython-input-34-16920e865f93>\u001b[0m in \u001b[0;36m<module>\u001b[1;34m()\u001b[0m\n\u001b[1;32m----> 1\u001b[1;33m \u001b[0mpred\u001b[0m \u001b[1;33m=\u001b[0m \u001b[0mpredict\u001b[0m\u001b[1;33m(\u001b[0m\u001b[0mtheta1\u001b[0m\u001b[1;33m,\u001b[0m \u001b[0mtheta2\u001b[0m\u001b[1;33m,\u001b[0m \u001b[0mX\u001b[0m\u001b[1;33m,\u001b[0m \u001b[0mthreshold\u001b[0m\u001b[1;33m)\u001b[0m\u001b[1;33m\u001b[0m\u001b[0m\n\u001b[0m",
      "\u001b[1;32m<ipython-input-24-2ec242012e54>\u001b[0m in \u001b[0;36mpredict\u001b[1;34m(theta1, theta2, X, threshold)\u001b[0m\n\u001b[0;32m      3\u001b[0m     \u001b[0mnum_labels\u001b[0m \u001b[1;33m=\u001b[0m \u001b[0mlen\u001b[0m\u001b[1;33m(\u001b[0m\u001b[0mtheta2\u001b[0m\u001b[1;33m)\u001b[0m\u001b[1;33m\u001b[0m\u001b[0m\n\u001b[0;32m      4\u001b[0m \u001b[1;33m\u001b[0m\u001b[0m\n\u001b[1;32m----> 5\u001b[1;33m     \u001b[0mp\u001b[0m \u001b[1;33m=\u001b[0m \u001b[0mnp\u001b[0m\u001b[1;33m.\u001b[0m\u001b[0mzeros\u001b[0m\u001b[1;33m(\u001b[0m\u001b[0mm\u001b[0m\u001b[1;33m,\u001b[0m \u001b[1;36m1\u001b[0m\u001b[1;33m)\u001b[0m\u001b[1;33m\u001b[0m\u001b[0m\n\u001b[0m\u001b[0;32m      6\u001b[0m \u001b[1;33m\u001b[0m\u001b[0m\n\u001b[0;32m      7\u001b[0m     \u001b[0mh1\u001b[0m \u001b[1;33m=\u001b[0m \u001b[0msigmoid\u001b[0m\u001b[1;33m(\u001b[0m\u001b[0mnp\u001b[0m\u001b[1;33m.\u001b[0m\u001b[0mdot\u001b[0m\u001b[1;33m(\u001b[0m\u001b[0mnp\u001b[0m\u001b[1;33m.\u001b[0m\u001b[0mconcatenate\u001b[0m\u001b[1;33m(\u001b[0m\u001b[1;33m(\u001b[0m\u001b[0mnp\u001b[0m\u001b[1;33m.\u001b[0m\u001b[0mones\u001b[0m\u001b[1;33m(\u001b[0m\u001b[0mm\u001b[0m\u001b[1;33m,\u001b[0m \u001b[1;36m1\u001b[0m\u001b[1;33m)\u001b[0m\u001b[1;33m,\u001b[0m \u001b[0mX\u001b[0m\u001b[1;33m)\u001b[0m\u001b[1;33m)\u001b[0m\u001b[1;33m,\u001b[0m \u001b[0mtheta1\u001b[0m\u001b[1;33m.\u001b[0m\u001b[0mT\u001b[0m\u001b[1;33m)\u001b[0m\u001b[1;33m)\u001b[0m\u001b[1;33m\u001b[0m\u001b[0m\n",
      "\u001b[1;31mTypeError\u001b[0m: data type not understood"
     ]
    }
   ],
   "source": [
    "pred = predict(theta1, theta2, X, threshold)"
   ]
  },
  {
   "cell_type": "code",
   "execution_count": null,
   "metadata": {
    "collapsed": true
   },
   "outputs": [],
   "source": []
  }
 ],
 "metadata": {
  "kernelspec": {
   "display_name": "Python 3",
   "language": "python",
   "name": "python3"
  },
  "language_info": {
   "codemirror_mode": {
    "name": "ipython",
    "version": 3
   },
   "file_extension": ".py",
   "mimetype": "text/x-python",
   "name": "python",
   "nbconvert_exporter": "python",
   "pygments_lexer": "ipython3",
   "version": "3.4.3"
  }
 },
 "nbformat": 4,
 "nbformat_minor": 0
}
