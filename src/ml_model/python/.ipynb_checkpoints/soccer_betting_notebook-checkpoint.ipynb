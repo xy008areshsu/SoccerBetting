{
 "cells": [
  {
   "cell_type": "markdown",
   "metadata": {},
   "source": [
    "# Predictive Modeling with heterogeneous data"
   ]
  },
  {
   "cell_type": "code",
   "execution_count": 28,
   "metadata": {
    "collapsed": false
   },
   "outputs": [],
   "source": [
    "%matplotlib inline\n",
    "import matplotlib.pyplot as plt\n",
    "import numpy as np\n",
    "import pandas as pd\n",
    "\n",
    "import warnings\n",
    "warnings.simplefilter('ignore', DeprecationWarning)"
   ]
  },
  {
   "cell_type": "markdown",
   "metadata": {},
   "source": [
    "<img src=\"files/images/predictive_modeling_data_flow.png\">"
   ]
  },
  {
   "cell_type": "markdown",
   "metadata": {},
   "source": [
    "## Loading tabular data from the Titanic kaggle challenge in a pandas Data Frame"
   ]
  },
  {
   "cell_type": "markdown",
   "metadata": {},
   "source": [
    "Let us have a look at the Titanic dataset from the Kaggle Getting Started challenge at:\n",
    "\n",
    "https://www.kaggle.com/c/titanic-gettingStarted\n",
    "\n",
    "We can load the CSV file as a pandas data frame in one line:"
   ]
  },
  {
   "cell_type": "code",
   "execution_count": 29,
   "metadata": {
    "collapsed": false
   },
   "outputs": [
    {
     "name": "stdout",
     "output_type": "stream",
     "text": [
      "bit0,bit1,bit2,bit3,bit4,bit5,bit6,bit7,bit8,bit9,bit10,bit11,bit12,bit13,bit14,bit15,B365H,B365D,B365A,BWH,BWD,BWA,GBH,GBD,GBA,IWH,IWD,IWA,LBH,LBD,LBA,WHH,WHD,WHA,VCH,VCD,VCA,result\n",
      "0,0,0,0,0,0,0,0,0,0,0,0,1,1,1,0,1.3,5,9.5,1.35,4.2,8,1.36,4.25,9,1.35,4,7.5,1.33,4,8,1.33,4,8,1.35,4,8,1\n",
      "0,0,0,0,0,0,0,1,0,0,0,1,0,0,0,1,2.75,3.25,2.25,2.85,3.35,2.2,3,3.35,2.25,2.7,3,2.3,3,3.2,2.1,2.87,3.25,2.15,2.7,3.25,2.25,2\n",
      "0,0,0,0,0,0,1,0,0,0,0,1,0,0,0,0,2.1,3.25,3,1.95,3.3,3.5,2.05,3.25,3.5,1.9,3.1,3.5,2,3.2,3.2,1.95,3.25,3.3,1.85,3.3,3.6,1\n",
      "0,0,0,0,0,0,1,1,0,0,0,0,1,1,1,1,1.57,3.4,5.5,1.55,3.7,5.35,1.6,3.65,5.5,1.55,3.5,4.8,1.53,3.4,5.5,1.57,3.5,5,1.55,3.5,5,1\n"
     ]
    }
   ],
   "source": [
    "#!curl -s https://dl.dropboxusercontent.com/u/5743203/data/titanic/titanic_train.csv | head -5\n",
    "with open('../../../data/clean_data.csv', 'r') as f:\n",
    "    for i, line in zip(range(5), f):\n",
    "        print(line.strip())"
   ]
  },
  {
   "cell_type": "code",
   "execution_count": 30,
   "metadata": {
    "collapsed": false
   },
   "outputs": [],
   "source": [
    "#data = pd.read_csv('https://dl.dropboxusercontent.com/u/5743203/data/titanic/titanic_train.csv')\n",
    "data = pd.read_csv('../../../data/clean_data.csv')  # result column, 1 means home win, 2 home draw, 3 home lose"
   ]
  },
  {
   "cell_type": "markdown",
   "metadata": {},
   "source": [
    "pandas data frames have a HTML table representation in the IPython notebook. Let's have a look at the first 5 rows:"
   ]
  },
  {
   "cell_type": "code",
   "execution_count": 31,
   "metadata": {
    "collapsed": false
   },
   "outputs": [
    {
     "data": {
      "text/html": [
       "<div style=\"max-height:1000px;max-width:1500px;overflow:auto;\">\n",
       "<table border=\"1\" class=\"dataframe\">\n",
       "  <thead>\n",
       "    <tr style=\"text-align: right;\">\n",
       "      <th></th>\n",
       "      <th>bit0</th>\n",
       "      <th>bit1</th>\n",
       "      <th>bit2</th>\n",
       "      <th>bit3</th>\n",
       "      <th>bit4</th>\n",
       "      <th>bit5</th>\n",
       "      <th>bit6</th>\n",
       "      <th>bit7</th>\n",
       "      <th>bit8</th>\n",
       "      <th>bit9</th>\n",
       "      <th>bit10</th>\n",
       "      <th>bit11</th>\n",
       "      <th>bit12</th>\n",
       "      <th>bit13</th>\n",
       "      <th>bit14</th>\n",
       "      <th>bit15</th>\n",
       "      <th>B365H</th>\n",
       "      <th>B365D</th>\n",
       "      <th>B365A</th>\n",
       "      <th>BWH</th>\n",
       "      <th></th>\n",
       "    </tr>\n",
       "  </thead>\n",
       "  <tbody>\n",
       "    <tr>\n",
       "      <th>0</th>\n",
       "      <td> 0</td>\n",
       "      <td> 0</td>\n",
       "      <td> 0</td>\n",
       "      <td> 0</td>\n",
       "      <td> 0</td>\n",
       "      <td> 0</td>\n",
       "      <td> 0</td>\n",
       "      <td> 0</td>\n",
       "      <td> 0</td>\n",
       "      <td> 0</td>\n",
       "      <td> 0</td>\n",
       "      <td> 0</td>\n",
       "      <td> 1</td>\n",
       "      <td> 1</td>\n",
       "      <td> 1</td>\n",
       "      <td> 0</td>\n",
       "      <td> 1.30</td>\n",
       "      <td> 5.00</td>\n",
       "      <td> 9.50</td>\n",
       "      <td> 1.35</td>\n",
       "      <td>...</td>\n",
       "    </tr>\n",
       "    <tr>\n",
       "      <th>1</th>\n",
       "      <td> 0</td>\n",
       "      <td> 0</td>\n",
       "      <td> 0</td>\n",
       "      <td> 0</td>\n",
       "      <td> 0</td>\n",
       "      <td> 0</td>\n",
       "      <td> 0</td>\n",
       "      <td> 1</td>\n",
       "      <td> 0</td>\n",
       "      <td> 0</td>\n",
       "      <td> 0</td>\n",
       "      <td> 1</td>\n",
       "      <td> 0</td>\n",
       "      <td> 0</td>\n",
       "      <td> 0</td>\n",
       "      <td> 1</td>\n",
       "      <td> 2.75</td>\n",
       "      <td> 3.25</td>\n",
       "      <td> 2.25</td>\n",
       "      <td> 2.85</td>\n",
       "      <td>...</td>\n",
       "    </tr>\n",
       "    <tr>\n",
       "      <th>2</th>\n",
       "      <td> 0</td>\n",
       "      <td> 0</td>\n",
       "      <td> 0</td>\n",
       "      <td> 0</td>\n",
       "      <td> 0</td>\n",
       "      <td> 0</td>\n",
       "      <td> 1</td>\n",
       "      <td> 0</td>\n",
       "      <td> 0</td>\n",
       "      <td> 0</td>\n",
       "      <td> 0</td>\n",
       "      <td> 1</td>\n",
       "      <td> 0</td>\n",
       "      <td> 0</td>\n",
       "      <td> 0</td>\n",
       "      <td> 0</td>\n",
       "      <td> 2.10</td>\n",
       "      <td> 3.25</td>\n",
       "      <td> 3.00</td>\n",
       "      <td> 1.95</td>\n",
       "      <td>...</td>\n",
       "    </tr>\n",
       "    <tr>\n",
       "      <th>3</th>\n",
       "      <td> 0</td>\n",
       "      <td> 0</td>\n",
       "      <td> 0</td>\n",
       "      <td> 0</td>\n",
       "      <td> 0</td>\n",
       "      <td> 0</td>\n",
       "      <td> 1</td>\n",
       "      <td> 1</td>\n",
       "      <td> 0</td>\n",
       "      <td> 0</td>\n",
       "      <td> 0</td>\n",
       "      <td> 0</td>\n",
       "      <td> 1</td>\n",
       "      <td> 1</td>\n",
       "      <td> 1</td>\n",
       "      <td> 1</td>\n",
       "      <td> 1.57</td>\n",
       "      <td> 3.40</td>\n",
       "      <td> 5.50</td>\n",
       "      <td> 1.55</td>\n",
       "      <td>...</td>\n",
       "    </tr>\n",
       "    <tr>\n",
       "      <th>4</th>\n",
       "      <td> 0</td>\n",
       "      <td> 0</td>\n",
       "      <td> 0</td>\n",
       "      <td> 0</td>\n",
       "      <td> 0</td>\n",
       "      <td> 1</td>\n",
       "      <td> 0</td>\n",
       "      <td> 0</td>\n",
       "      <td> 0</td>\n",
       "      <td> 0</td>\n",
       "      <td> 0</td>\n",
       "      <td> 0</td>\n",
       "      <td> 1</td>\n",
       "      <td> 0</td>\n",
       "      <td> 1</td>\n",
       "      <td> 1</td>\n",
       "      <td> 2.40</td>\n",
       "      <td> 3.20</td>\n",
       "      <td> 2.60</td>\n",
       "      <td> 2.50</td>\n",
       "      <td>...</td>\n",
       "    </tr>\n",
       "  </tbody>\n",
       "</table>\n",
       "<p>5 rows × 38 columns</p>\n",
       "</div>"
      ],
      "text/plain": [
       "   bit0  bit1  bit2  bit3  bit4  bit5  bit6  bit7  bit8  bit9  bit10  bit11  \\\n",
       "0     0     0     0     0     0     0     0     0     0     0      0      0   \n",
       "1     0     0     0     0     0     0     0     1     0     0      0      1   \n",
       "2     0     0     0     0     0     0     1     0     0     0      0      1   \n",
       "3     0     0     0     0     0     0     1     1     0     0      0      0   \n",
       "4     0     0     0     0     0     1     0     0     0     0      0      0   \n",
       "\n",
       "   bit12  bit13  bit14  bit15  B365H  B365D  B365A   BWH      \n",
       "0      1      1      1      0   1.30   5.00   9.50  1.35 ...  \n",
       "1      0      0      0      1   2.75   3.25   2.25  2.85 ...  \n",
       "2      0      0      0      0   2.10   3.25   3.00  1.95 ...  \n",
       "3      1      1      1      1   1.57   3.40   5.50  1.55 ...  \n",
       "4      1      0      1      1   2.40   3.20   2.60  2.50 ...  \n",
       "\n",
       "[5 rows x 38 columns]"
      ]
     },
     "execution_count": 31,
     "metadata": {},
     "output_type": "execute_result"
    }
   ],
   "source": [
    "data.head(5)"
   ]
  },
  {
   "cell_type": "code",
   "execution_count": 32,
   "metadata": {
    "collapsed": false
   },
   "outputs": [
    {
     "data": {
      "text/plain": [
       "bit0      17023\n",
       "bit1      17023\n",
       "bit2      17023\n",
       "bit3      17023\n",
       "bit4      17023\n",
       "bit5      17023\n",
       "bit6      17023\n",
       "bit7      17023\n",
       "bit8      17023\n",
       "bit9      17023\n",
       "bit10     17023\n",
       "bit11     17023\n",
       "bit12     17023\n",
       "bit13     17023\n",
       "bit14     17023\n",
       "bit15     17023\n",
       "B365H     17023\n",
       "B365D     17023\n",
       "B365A     17023\n",
       "BWH       17023\n",
       "BWD       17023\n",
       "BWA       17023\n",
       "GBH       17023\n",
       "GBD       17023\n",
       "GBA       17023\n",
       "IWH       17023\n",
       "IWD       17023\n",
       "IWA       17023\n",
       "LBH       17023\n",
       "LBD       17023\n",
       "LBA       17023\n",
       "WHH       17023\n",
       "WHD       17023\n",
       "WHA       17023\n",
       "VCH       17023\n",
       "VCD       17023\n",
       "VCA       17023\n",
       "result    17023\n",
       "dtype: int64"
      ]
     },
     "execution_count": 32,
     "metadata": {},
     "output_type": "execute_result"
    }
   ],
   "source": [
    "data.count()"
   ]
  },
  {
   "cell_type": "markdown",
   "metadata": {},
   "source": [
    "The data frame has 891 rows. Some passengers have missing information though: in particular Age and Cabin info can be missing. The meaning of the columns is explained on the challenge website:\n",
    "\n",
    "https://www.kaggle.com/c/titanic-gettingStarted/data\n",
    "\n",
    "A data frame can be converted into a numpy array by calling the `values` attribute:"
   ]
  },
  {
   "cell_type": "code",
   "execution_count": 33,
   "metadata": {
    "collapsed": false
   },
   "outputs": [
    {
     "data": {
      "text/plain": [
       "['bit0',\n",
       " 'bit1',\n",
       " 'bit2',\n",
       " 'bit3',\n",
       " 'bit4',\n",
       " 'bit5',\n",
       " 'bit6',\n",
       " 'bit7',\n",
       " 'bit8',\n",
       " 'bit9',\n",
       " 'bit10',\n",
       " 'bit11',\n",
       " 'bit12',\n",
       " 'bit13',\n",
       " 'bit14',\n",
       " 'bit15',\n",
       " 'B365H',\n",
       " 'B365D',\n",
       " 'B365A',\n",
       " 'BWH',\n",
       " 'BWD',\n",
       " 'BWA',\n",
       " 'GBH',\n",
       " 'GBD',\n",
       " 'GBA',\n",
       " 'IWH',\n",
       " 'IWD',\n",
       " 'IWA',\n",
       " 'LBH',\n",
       " 'LBD',\n",
       " 'LBA',\n",
       " 'WHH',\n",
       " 'WHD',\n",
       " 'WHA',\n",
       " 'VCH',\n",
       " 'VCD',\n",
       " 'VCA',\n",
       " 'result']"
      ]
     },
     "execution_count": 33,
     "metadata": {},
     "output_type": "execute_result"
    }
   ],
   "source": [
    "list(data.columns)"
   ]
  },
  {
   "cell_type": "code",
   "execution_count": 34,
   "metadata": {
    "collapsed": false
   },
   "outputs": [
    {
     "data": {
      "text/plain": [
       "(17023, 38)"
      ]
     },
     "execution_count": 34,
     "metadata": {},
     "output_type": "execute_result"
    }
   ],
   "source": [
    "data.shape"
   ]
  },
  {
   "cell_type": "code",
   "execution_count": 35,
   "metadata": {
    "collapsed": false
   },
   "outputs": [
    {
     "data": {
      "text/plain": [
       "array([[ 0.  ,  0.  ,  0.  , ...,  4.  ,  8.  ,  1.  ],\n",
       "       [ 0.  ,  0.  ,  0.  , ...,  3.25,  2.25,  2.  ],\n",
       "       [ 0.  ,  0.  ,  0.  , ...,  3.3 ,  3.6 ,  1.  ],\n",
       "       ..., \n",
       "       [ 1.  ,  0.  ,  1.  , ...,  3.7 ,  2.2 ,  1.  ],\n",
       "       [ 1.  ,  1.  ,  0.  , ...,  3.7 ,  3.5 ,  2.  ],\n",
       "       [ 1.  ,  0.  ,  1.  , ...,  3.5 ,  3.2 ,  3.  ]])"
      ]
     },
     "execution_count": 35,
     "metadata": {},
     "output_type": "execute_result"
    }
   ],
   "source": [
    "data.values"
   ]
  },
  {
   "cell_type": "markdown",
   "metadata": {},
   "source": [
    "However this cannot be directly fed to a scikit-learn model:\n",
    "\n",
    "\n",
    "- the target variable (survival) is mixed with the input data\n",
    "\n",
    "- some attribute such as unique ids have no predictive values for the task\n",
    "\n",
    "- the values are heterogeneous (string labels for categories, integers and floating point numbers)\n",
    "\n",
    "- some attribute values are missing (nan: \"not a number\")"
   ]
  },
  {
   "cell_type": "markdown",
   "metadata": {},
   "source": [
    "## Predicting survival"
   ]
  },
  {
   "cell_type": "markdown",
   "metadata": {},
   "source": [
    "The goal of the challenge is to predict whether a passenger has survived from others known attribute. Let us have a look at the `Survived` columns:"
   ]
  },
  {
   "cell_type": "markdown",
   "metadata": {},
   "source": [
    "`data.Survived` is an instance of the pandas `Series` class with an integer dtype:"
   ]
  },
  {
   "cell_type": "markdown",
   "metadata": {},
   "source": [
    "The `data` object is an instance pandas `DataFrame` class:"
   ]
  },
  {
   "cell_type": "code",
   "execution_count": 36,
   "metadata": {
    "collapsed": false
   },
   "outputs": [
    {
     "data": {
      "text/plain": [
       "pandas.core.series.Series"
      ]
     },
     "execution_count": 36,
     "metadata": {},
     "output_type": "execute_result"
    }
   ],
   "source": [
    "type(data)\n",
    "result_column = data['result']\n",
    "type(result_column)"
   ]
  },
  {
   "cell_type": "markdown",
   "metadata": {},
   "source": [
    "`Series` can be seen as homegeneous, 1D columns. `DataFrame` instances are heterogenous collections of columns with the same length.\n",
    "\n",
    "The original data frame can be aggregated by counting rows for each possible value of the `Survived` column:"
   ]
  },
  {
   "cell_type": "code",
   "execution_count": 37,
   "metadata": {
    "collapsed": false
   },
   "outputs": [
    {
     "data": {
      "text/html": [
       "<div style=\"max-height:1000px;max-width:1500px;overflow:auto;\">\n",
       "<table border=\"1\" class=\"dataframe\">\n",
       "  <thead>\n",
       "    <tr style=\"text-align: right;\">\n",
       "      <th></th>\n",
       "      <th>bit0</th>\n",
       "      <th>bit1</th>\n",
       "      <th>bit2</th>\n",
       "      <th>bit3</th>\n",
       "      <th>bit4</th>\n",
       "      <th>bit5</th>\n",
       "      <th>bit6</th>\n",
       "      <th>bit7</th>\n",
       "      <th>bit8</th>\n",
       "      <th>bit9</th>\n",
       "      <th>bit10</th>\n",
       "      <th>bit11</th>\n",
       "      <th>bit12</th>\n",
       "      <th>bit13</th>\n",
       "      <th>bit14</th>\n",
       "      <th>bit15</th>\n",
       "      <th>B365H</th>\n",
       "      <th>B365D</th>\n",
       "      <th>B365A</th>\n",
       "      <th>BWH</th>\n",
       "      <th></th>\n",
       "    </tr>\n",
       "    <tr>\n",
       "      <th>result</th>\n",
       "      <th></th>\n",
       "      <th></th>\n",
       "      <th></th>\n",
       "      <th></th>\n",
       "      <th></th>\n",
       "      <th></th>\n",
       "      <th></th>\n",
       "      <th></th>\n",
       "      <th></th>\n",
       "      <th></th>\n",
       "      <th></th>\n",
       "      <th></th>\n",
       "      <th></th>\n",
       "      <th></th>\n",
       "      <th></th>\n",
       "      <th></th>\n",
       "      <th></th>\n",
       "      <th></th>\n",
       "      <th></th>\n",
       "      <th></th>\n",
       "    </tr>\n",
       "  </thead>\n",
       "  <tbody>\n",
       "    <tr>\n",
       "      <th>1</th>\n",
       "      <td> 7974</td>\n",
       "      <td> 7974</td>\n",
       "      <td> 7974</td>\n",
       "      <td> 7974</td>\n",
       "      <td> 7974</td>\n",
       "      <td> 7974</td>\n",
       "      <td> 7974</td>\n",
       "      <td> 7974</td>\n",
       "      <td> 7974</td>\n",
       "      <td> 7974</td>\n",
       "      <td> 7974</td>\n",
       "      <td> 7974</td>\n",
       "      <td> 7974</td>\n",
       "      <td> 7974</td>\n",
       "      <td> 7974</td>\n",
       "      <td> 7974</td>\n",
       "      <td> 7974</td>\n",
       "      <td> 7974</td>\n",
       "      <td> 7974</td>\n",
       "      <td> 7974</td>\n",
       "      <td>...</td>\n",
       "    </tr>\n",
       "    <tr>\n",
       "      <th>2</th>\n",
       "      <td> 4418</td>\n",
       "      <td> 4418</td>\n",
       "      <td> 4418</td>\n",
       "      <td> 4418</td>\n",
       "      <td> 4418</td>\n",
       "      <td> 4418</td>\n",
       "      <td> 4418</td>\n",
       "      <td> 4418</td>\n",
       "      <td> 4418</td>\n",
       "      <td> 4418</td>\n",
       "      <td> 4418</td>\n",
       "      <td> 4418</td>\n",
       "      <td> 4418</td>\n",
       "      <td> 4418</td>\n",
       "      <td> 4418</td>\n",
       "      <td> 4418</td>\n",
       "      <td> 4418</td>\n",
       "      <td> 4418</td>\n",
       "      <td> 4418</td>\n",
       "      <td> 4418</td>\n",
       "      <td>...</td>\n",
       "    </tr>\n",
       "    <tr>\n",
       "      <th>3</th>\n",
       "      <td> 4631</td>\n",
       "      <td> 4631</td>\n",
       "      <td> 4631</td>\n",
       "      <td> 4631</td>\n",
       "      <td> 4631</td>\n",
       "      <td> 4631</td>\n",
       "      <td> 4631</td>\n",
       "      <td> 4631</td>\n",
       "      <td> 4631</td>\n",
       "      <td> 4631</td>\n",
       "      <td> 4631</td>\n",
       "      <td> 4631</td>\n",
       "      <td> 4631</td>\n",
       "      <td> 4631</td>\n",
       "      <td> 4631</td>\n",
       "      <td> 4631</td>\n",
       "      <td> 4631</td>\n",
       "      <td> 4631</td>\n",
       "      <td> 4631</td>\n",
       "      <td> 4631</td>\n",
       "      <td>...</td>\n",
       "    </tr>\n",
       "  </tbody>\n",
       "</table>\n",
       "<p>3 rows × 38 columns</p>\n",
       "</div>"
      ],
      "text/plain": [
       "        bit0  bit1  bit2  bit3  bit4  bit5  bit6  bit7  bit8  bit9  bit10  \\\n",
       "result                                                                      \n",
       "1       7974  7974  7974  7974  7974  7974  7974  7974  7974  7974   7974   \n",
       "2       4418  4418  4418  4418  4418  4418  4418  4418  4418  4418   4418   \n",
       "3       4631  4631  4631  4631  4631  4631  4631  4631  4631  4631   4631   \n",
       "\n",
       "        bit11  bit12  bit13  bit14  bit15  B365H  B365D  B365A   BWH      \n",
       "result                                                                    \n",
       "1        7974   7974   7974   7974   7974   7974   7974   7974  7974 ...  \n",
       "2        4418   4418   4418   4418   4418   4418   4418   4418  4418 ...  \n",
       "3        4631   4631   4631   4631   4631   4631   4631   4631  4631 ...  \n",
       "\n",
       "[3 rows x 38 columns]"
      ]
     },
     "execution_count": 37,
     "metadata": {},
     "output_type": "execute_result"
    }
   ],
   "source": [
    "data.groupby('result').count()"
   ]
  },
  {
   "cell_type": "code",
   "execution_count": 38,
   "metadata": {
    "collapsed": false
   },
   "outputs": [
    {
     "name": "stdout",
     "output_type": "stream",
     "text": [
      "0.468425071961\n",
      "0.259531222464\n",
      "0.272043705575\n"
     ]
    }
   ],
   "source": [
    "\n",
    "print(np.mean(result_column == 1))\n",
    "print(np.mean(result_column == 2))\n",
    "print(np.mean(result_column == 3))"
   ]
  },
  {
   "cell_type": "markdown",
   "metadata": {},
   "source": [
    "From this the subset of the full passengers list, about 2/3 perished in the event. So if we are to build a predictive model from this data, a baseline model to compare the performance to would be to always predict death. Such a constant model would reach around 62% predictive accuracy (which is higher than predicting at random):"
   ]
  },
  {
   "cell_type": "markdown",
   "metadata": {},
   "source": [
    "pandas `Series` instances can be converted to regular 1D numpy arrays by using the `values` attribute:"
   ]
  },
  {
   "cell_type": "code",
   "execution_count": 39,
   "metadata": {
    "collapsed": false
   },
   "outputs": [
    {
     "data": {
      "text/plain": [
       "array([1, 2, 1, ..., 1, 2, 3])"
      ]
     },
     "execution_count": 39,
     "metadata": {},
     "output_type": "execute_result"
    }
   ],
   "source": [
    "target = result_column.values\n",
    "target"
   ]
  },
  {
   "cell_type": "code",
   "execution_count": 40,
   "metadata": {
    "collapsed": false
   },
   "outputs": [
    {
     "data": {
      "text/plain": [
       "numpy.ndarray"
      ]
     },
     "execution_count": 40,
     "metadata": {},
     "output_type": "execute_result"
    }
   ],
   "source": [
    "type(target)"
   ]
  },
  {
   "cell_type": "code",
   "execution_count": 41,
   "metadata": {
    "collapsed": false
   },
   "outputs": [
    {
     "data": {
      "text/plain": [
       "dtype('int64')"
      ]
     },
     "execution_count": 41,
     "metadata": {},
     "output_type": "execute_result"
    }
   ],
   "source": [
    "target.dtype"
   ]
  },
  {
   "cell_type": "code",
   "execution_count": 42,
   "metadata": {
    "collapsed": false
   },
   "outputs": [
    {
     "data": {
      "text/plain": [
       "array([1, 2, 1, 1, 2])"
      ]
     },
     "execution_count": 42,
     "metadata": {},
     "output_type": "execute_result"
    }
   ],
   "source": [
    "target[:5]"
   ]
  },
  {
   "cell_type": "markdown",
   "metadata": {},
   "source": [
    "## Training a predictive model on numerical features"
   ]
  },
  {
   "cell_type": "markdown",
   "metadata": {},
   "source": [
    "`sklearn` estimators all work with homegeneous numerical feature descriptors passed as a numpy array. Therefore passing the raw data frame will not work out of the box.\n",
    "\n",
    "Let us start simple and build a first model that only uses readily available numerical features as input, namely `data['Fare']`, `data['Pclass']` and `data['Age']`."
   ]
  },
  {
   "cell_type": "code",
   "execution_count": 43,
   "metadata": {
    "collapsed": false
   },
   "outputs": [
    {
     "data": {
      "text/html": [
       "<div style=\"max-height:1000px;max-width:1500px;overflow:auto;\">\n",
       "<table border=\"1\" class=\"dataframe\">\n",
       "  <thead>\n",
       "    <tr style=\"text-align: right;\">\n",
       "      <th></th>\n",
       "      <th>bit0</th>\n",
       "      <th>bit1</th>\n",
       "      <th>bit2</th>\n",
       "      <th>bit3</th>\n",
       "      <th>bit4</th>\n",
       "      <th>bit5</th>\n",
       "      <th>bit6</th>\n",
       "      <th>bit7</th>\n",
       "      <th>bit8</th>\n",
       "      <th>bit9</th>\n",
       "      <th>bit10</th>\n",
       "      <th>bit11</th>\n",
       "      <th>bit12</th>\n",
       "      <th>bit13</th>\n",
       "      <th>bit14</th>\n",
       "      <th>bit15</th>\n",
       "      <th>B365H</th>\n",
       "      <th>B365D</th>\n",
       "      <th>B365A</th>\n",
       "      <th>BWH</th>\n",
       "      <th></th>\n",
       "    </tr>\n",
       "  </thead>\n",
       "  <tbody>\n",
       "    <tr>\n",
       "      <th>0</th>\n",
       "      <td> 0</td>\n",
       "      <td> 0</td>\n",
       "      <td> 0</td>\n",
       "      <td> 0</td>\n",
       "      <td> 0</td>\n",
       "      <td> 0</td>\n",
       "      <td> 0</td>\n",
       "      <td> 0</td>\n",
       "      <td> 0</td>\n",
       "      <td> 0</td>\n",
       "      <td> 0</td>\n",
       "      <td> 0</td>\n",
       "      <td> 1</td>\n",
       "      <td> 1</td>\n",
       "      <td> 1</td>\n",
       "      <td> 0</td>\n",
       "      <td> 1.30</td>\n",
       "      <td> 5.00</td>\n",
       "      <td> 9.50</td>\n",
       "      <td> 1.35</td>\n",
       "      <td>...</td>\n",
       "    </tr>\n",
       "    <tr>\n",
       "      <th>1</th>\n",
       "      <td> 0</td>\n",
       "      <td> 0</td>\n",
       "      <td> 0</td>\n",
       "      <td> 0</td>\n",
       "      <td> 0</td>\n",
       "      <td> 0</td>\n",
       "      <td> 0</td>\n",
       "      <td> 1</td>\n",
       "      <td> 0</td>\n",
       "      <td> 0</td>\n",
       "      <td> 0</td>\n",
       "      <td> 1</td>\n",
       "      <td> 0</td>\n",
       "      <td> 0</td>\n",
       "      <td> 0</td>\n",
       "      <td> 1</td>\n",
       "      <td> 2.75</td>\n",
       "      <td> 3.25</td>\n",
       "      <td> 2.25</td>\n",
       "      <td> 2.85</td>\n",
       "      <td>...</td>\n",
       "    </tr>\n",
       "    <tr>\n",
       "      <th>2</th>\n",
       "      <td> 0</td>\n",
       "      <td> 0</td>\n",
       "      <td> 0</td>\n",
       "      <td> 0</td>\n",
       "      <td> 0</td>\n",
       "      <td> 0</td>\n",
       "      <td> 1</td>\n",
       "      <td> 0</td>\n",
       "      <td> 0</td>\n",
       "      <td> 0</td>\n",
       "      <td> 0</td>\n",
       "      <td> 1</td>\n",
       "      <td> 0</td>\n",
       "      <td> 0</td>\n",
       "      <td> 0</td>\n",
       "      <td> 0</td>\n",
       "      <td> 2.10</td>\n",
       "      <td> 3.25</td>\n",
       "      <td> 3.00</td>\n",
       "      <td> 1.95</td>\n",
       "      <td>...</td>\n",
       "    </tr>\n",
       "    <tr>\n",
       "      <th>3</th>\n",
       "      <td> 0</td>\n",
       "      <td> 0</td>\n",
       "      <td> 0</td>\n",
       "      <td> 0</td>\n",
       "      <td> 0</td>\n",
       "      <td> 0</td>\n",
       "      <td> 1</td>\n",
       "      <td> 1</td>\n",
       "      <td> 0</td>\n",
       "      <td> 0</td>\n",
       "      <td> 0</td>\n",
       "      <td> 0</td>\n",
       "      <td> 1</td>\n",
       "      <td> 1</td>\n",
       "      <td> 1</td>\n",
       "      <td> 1</td>\n",
       "      <td> 1.57</td>\n",
       "      <td> 3.40</td>\n",
       "      <td> 5.50</td>\n",
       "      <td> 1.55</td>\n",
       "      <td>...</td>\n",
       "    </tr>\n",
       "    <tr>\n",
       "      <th>4</th>\n",
       "      <td> 0</td>\n",
       "      <td> 0</td>\n",
       "      <td> 0</td>\n",
       "      <td> 0</td>\n",
       "      <td> 0</td>\n",
       "      <td> 1</td>\n",
       "      <td> 0</td>\n",
       "      <td> 0</td>\n",
       "      <td> 0</td>\n",
       "      <td> 0</td>\n",
       "      <td> 0</td>\n",
       "      <td> 0</td>\n",
       "      <td> 1</td>\n",
       "      <td> 0</td>\n",
       "      <td> 1</td>\n",
       "      <td> 1</td>\n",
       "      <td> 2.40</td>\n",
       "      <td> 3.20</td>\n",
       "      <td> 2.60</td>\n",
       "      <td> 2.50</td>\n",
       "      <td>...</td>\n",
       "    </tr>\n",
       "  </tbody>\n",
       "</table>\n",
       "<p>5 rows × 37 columns</p>\n",
       "</div>"
      ],
      "text/plain": [
       "   bit0  bit1  bit2  bit3  bit4  bit5  bit6  bit7  bit8  bit9  bit10  bit11  \\\n",
       "0     0     0     0     0     0     0     0     0     0     0      0      0   \n",
       "1     0     0     0     0     0     0     0     1     0     0      0      1   \n",
       "2     0     0     0     0     0     0     1     0     0     0      0      1   \n",
       "3     0     0     0     0     0     0     1     1     0     0      0      0   \n",
       "4     0     0     0     0     0     1     0     0     0     0      0      0   \n",
       "\n",
       "   bit12  bit13  bit14  bit15  B365H  B365D  B365A   BWH      \n",
       "0      1      1      1      0   1.30   5.00   9.50  1.35 ...  \n",
       "1      0      0      0      1   2.75   3.25   2.25  2.85 ...  \n",
       "2      0      0      0      0   2.10   3.25   3.00  1.95 ...  \n",
       "3      1      1      1      1   1.57   3.40   5.50  1.55 ...  \n",
       "4      1      0      1      1   2.40   3.20   2.60  2.50 ...  \n",
       "\n",
       "[5 rows x 37 columns]"
      ]
     },
     "execution_count": 43,
     "metadata": {},
     "output_type": "execute_result"
    }
   ],
   "source": [
    "# data.columns[0:]\n",
    "numerical_features = data[data.columns[0:-1]]\n",
    "numerical_features.head(5)"
   ]
  },
  {
   "cell_type": "markdown",
   "metadata": {},
   "source": [
    "Unfortunately some passengers do not have age information:"
   ]
  },
  {
   "cell_type": "code",
   "execution_count": 44,
   "metadata": {
    "collapsed": false
   },
   "outputs": [
    {
     "data": {
      "text/plain": [
       "bit0     17023\n",
       "bit1     17023\n",
       "bit2     17023\n",
       "bit3     17023\n",
       "bit4     17023\n",
       "bit5     17023\n",
       "bit6     17023\n",
       "bit7     17023\n",
       "bit8     17023\n",
       "bit9     17023\n",
       "bit10    17023\n",
       "bit11    17023\n",
       "bit12    17023\n",
       "bit13    17023\n",
       "bit14    17023\n",
       "bit15    17023\n",
       "B365H    17023\n",
       "B365D    17023\n",
       "B365A    17023\n",
       "BWH      17023\n",
       "BWD      17023\n",
       "BWA      17023\n",
       "GBH      17023\n",
       "GBD      17023\n",
       "GBA      17023\n",
       "IWH      17023\n",
       "IWD      17023\n",
       "IWA      17023\n",
       "LBH      17023\n",
       "LBD      17023\n",
       "LBA      17023\n",
       "WHH      17023\n",
       "WHD      17023\n",
       "WHA      17023\n",
       "VCH      17023\n",
       "VCD      17023\n",
       "VCA      17023\n",
       "dtype: int64"
      ]
     },
     "execution_count": 44,
     "metadata": {},
     "output_type": "execute_result"
    }
   ],
   "source": [
    "numerical_features.count()"
   ]
  },
  {
   "cell_type": "markdown",
   "metadata": {},
   "source": [
    "Let's use pandas `fillna` method to input the median age for those passengers:"
   ]
  },
  {
   "cell_type": "markdown",
   "metadata": {},
   "source": [
    "Now that the data frame is clean, we can convert it into an homogeneous numpy array of floating point values:"
   ]
  },
  {
   "cell_type": "code",
   "execution_count": 45,
   "metadata": {
    "collapsed": false
   },
   "outputs": [
    {
     "data": {
      "text/plain": [
       "array([[ 0.  ,  0.  ,  0.  , ...,  1.35,  4.  ,  8.  ],\n",
       "       [ 0.  ,  0.  ,  0.  , ...,  2.7 ,  3.25,  2.25],\n",
       "       [ 0.  ,  0.  ,  0.  , ...,  1.85,  3.3 ,  3.6 ],\n",
       "       ..., \n",
       "       [ 1.  ,  0.  ,  1.  , ...,  3.13,  3.7 ,  2.2 ],\n",
       "       [ 1.  ,  1.  ,  0.  , ...,  2.1 ,  3.7 ,  3.5 ],\n",
       "       [ 1.  ,  0.  ,  1.  , ...,  2.3 ,  3.5 ,  3.2 ]])"
      ]
     },
     "execution_count": 45,
     "metadata": {},
     "output_type": "execute_result"
    }
   ],
   "source": [
    "features_array = numerical_features.values\n",
    "features_array"
   ]
  },
  {
   "cell_type": "code",
   "execution_count": 46,
   "metadata": {
    "collapsed": false
   },
   "outputs": [
    {
     "data": {
      "text/plain": [
       "dtype('float64')"
      ]
     },
     "execution_count": 46,
     "metadata": {},
     "output_type": "execute_result"
    }
   ],
   "source": [
    "features_array.dtype"
   ]
  },
  {
   "cell_type": "markdown",
   "metadata": {},
   "source": [
    "Let's take the 80% of the data for training a first model and keep 20% for computing is generalization score:"
   ]
  },
  {
   "cell_type": "code",
   "execution_count": 47,
   "metadata": {
    "collapsed": false
   },
   "outputs": [],
   "source": [
    "from sklearn.cross_validation import train_test_split\n",
    "\n",
    "features_train, features_test, target_train, target_test = train_test_split(\n",
    "    features_array, target, test_size=0.20, random_state=0)"
   ]
  },
  {
   "cell_type": "code",
   "execution_count": 48,
   "metadata": {
    "collapsed": false
   },
   "outputs": [
    {
     "name": "stdout",
     "output_type": "stream",
     "text": [
      "13109 0.462659241742\n",
      "10595 0.43378952336\n",
      "8337 0.396665467194\n",
      "6946 0.375611862943\n",
      "5893 0.354318683183\n",
      "5048 0.334587955626\n",
      "4236 0.313503305005\n",
      "3553 0.29271038559\n",
      "2987 0.268496819551\n",
      "0.468864737847\n"
     ]
    }
   ],
   "source": [
    "def is_unexpected(features, target, threshold):\n",
    "    b365_odds = features[:, 16 : 19]\n",
    "    return (((np.amax(b365_odds, axis = 1) - np.amin(b365_odds, axis = 1)) > threshold) \n",
    "            & (np.argmin(b365_odds, axis = 1) + 1 != target))\n",
    "\n",
    "def correct_predict_based_on_odds(features, target, threshold):\n",
    "    b365_odds = features[:, 16:19]\n",
    "    new_features = features[(np.amax(b365_odds, axis = 1) - np.amin(b365_odds, axis = 1)) > threshold]\n",
    "    new_target = target[(np.amax(b365_odds, axis = 1) - np.amin(b365_odds, axis = 1)) > threshold]\n",
    "    b365_odds = b365_odds[(np.amax(b365_odds, axis = 1) - np.amin(b365_odds, axis = 1)) > threshold]\n",
    "    miss_predicts_rate = np.mean(np.argmin(b365_odds, axis = 1) + 1 != new_target)\n",
    "\n",
    "    return new_features, new_target, miss_predicts_rate\n",
    "\n",
    "def miss_predict_based_on_odds(features, target):\n",
    "    b365_odds = features[:, 16 : 19]\n",
    "    return np.argmin(b365_odds, axis = 1) + 1 != target     \n",
    "\n",
    "for threshold in np.arange(0.5, 5, 0.5):\n",
    "    new_features, new_target, miss_predicts_rate = correct_predict_based_on_odds(features_train, target_train, threshold)\n",
    "    print(len(new_features), miss_predicts_rate)\n",
    "    \n",
    "print(np.mean(miss_predict_based_on_odds(features_train, target_train)))"
   ]
  },
  {
   "cell_type": "code",
   "execution_count": 49,
   "metadata": {
    "collapsed": false
   },
   "outputs": [
    {
     "data": {
      "text/plain": [
       "(13618, 37)"
      ]
     },
     "execution_count": 49,
     "metadata": {},
     "output_type": "execute_result"
    }
   ],
   "source": [
    "features_train.shape"
   ]
  },
  {
   "cell_type": "code",
   "execution_count": 50,
   "metadata": {
    "collapsed": false
   },
   "outputs": [
    {
     "data": {
      "text/plain": [
       "(3405, 37)"
      ]
     },
     "execution_count": 50,
     "metadata": {},
     "output_type": "execute_result"
    }
   ],
   "source": [
    "features_test.shape"
   ]
  },
  {
   "cell_type": "code",
   "execution_count": 51,
   "metadata": {
    "collapsed": false
   },
   "outputs": [
    {
     "data": {
      "text/plain": [
       "(13618,)"
      ]
     },
     "execution_count": 51,
     "metadata": {},
     "output_type": "execute_result"
    }
   ],
   "source": [
    "target_train.shape"
   ]
  },
  {
   "cell_type": "code",
   "execution_count": 52,
   "metadata": {
    "collapsed": false
   },
   "outputs": [
    {
     "data": {
      "text/plain": [
       "(3405,)"
      ]
     },
     "execution_count": 52,
     "metadata": {},
     "output_type": "execute_result"
    }
   ],
   "source": [
    "target_test.shape"
   ]
  },
  {
   "cell_type": "code",
   "execution_count": 53,
   "metadata": {
    "collapsed": false
   },
   "outputs": [],
   "source": [
    "from sklearn.preprocessing import StandardScaler  \n",
    "scaler = StandardScaler()  \n",
    "# Don't cheat - fit only on training data\n",
    "scaler.fit(features_train)  \n",
    "X_train = scaler.transform(features_train)  \n",
    "# apply same transformation to test data\n",
    "X_test = scaler.transform(features_test)  \n",
    "# print(X_train[0:5])"
   ]
  },
  {
   "cell_type": "markdown",
   "metadata": {},
   "source": [
    "Let's start with a simple model from sklearn, namely `LogisticRegression`:"
   ]
  },
  {
   "cell_type": "code",
   "execution_count": 64,
   "metadata": {
    "collapsed": false
   },
   "outputs": [
    {
     "name": "stdout",
     "output_type": "stream",
     "text": [
      "Odds Difference Threshold to remove sample data:  0.1\n",
      "Number of training data under this odds difference threshold:  13616\n",
      "Number of test data under this odds difference threshold:  3405\n",
      "Percentage of predictions with the Prob_threshold of  0.75  :  0.0828193832599\n",
      "Accuracy with this prob_threshold:  0.783687943262\n",
      "Total accuracy:  0.517474302496\n",
      "[[ 0.    1.    1.    0.    0.    1.    0.    1.    0.    1.    1.    0.    0.\n",
      "   0.    1.    0.    1.57  3.5   6.5   1.5   3.5   6.75  1.55  3.3   6.5\n",
      "   1.6   3.3   5.5   1.62  3.2   5.5   1.5   3.4   6.    1.5   3.5   6.5 ]\n",
      " [ 1.    0.    1.    0.    0.    1.    1.    1.    1.    0.    1.    0.    1.\n",
      "   1.    1.    0.    2.1   3.3   3.5   2.1   3.2   3.2   2.1   3.25  3.4\n",
      "   2.2   3.3   3.1   1.91  3.25  3.4   2.1   3.2   3.    2.1   3.2   3.25]]\n",
      "\n",
      "\n",
      "\n",
      "Odds Difference Threshold to remove sample data:  0.6\n",
      "Number of training data under this odds difference threshold:  13078\n",
      "Number of test data under this odds difference threshold:  3252\n",
      "Percentage of predictions with the Prob_threshold of  0.75  :  0.0873308733087\n",
      "Accuracy with this prob_threshold:  0.781690140845\n",
      "Total accuracy:  0.524600246002\n",
      "[[ 1.    0.    1.    1.    1.    0.    1.    1.    1.    0.    1.    0.    1.\n",
      "   1.    1.    1.    2.2   3.3   3.25  2.15  3.2   3.3   2.15  3.25  3.25\n",
      "   2.1   3.3   3.1   2.1   3.2   3.    2.15  3.3   3.4   2.2   3.4   3.6 ]\n",
      " [ 0.    0.    0.    0.    0.    0.    1.    1.    0.    0.    0.    1.    1.\n",
      "   0.    0.    0.    1.83  3.75  4.    1.72  3.7   4.6   1.85  3.5   4.\n",
      "   1.75  3.4   4.3   1.8   3.5   4.5   1.8   3.5   4.5   1.9   3.75  4.4 ]]\n",
      "\n",
      "\n",
      "\n",
      "Odds Difference Threshold to remove sample data:  1.1\n",
      "Number of training data under this odds difference threshold:  10007\n",
      "Number of test data under this odds difference threshold:  2477\n",
      "Percentage of predictions with the Prob_threshold of  0.75  :  0.112232539362\n",
      "Accuracy with this prob_threshold:  0.776978417266\n",
      "Total accuracy:  0.563181267662\n",
      "[[ 0.    1.    1.    0.    0.    1.    0.    1.    0.    1.    1.    0.    0.\n",
      "   0.    0.    1.    1.53  3.25  7.    1.45  3.3   9.    1.5   3.25  7.5\n",
      "   1.5   3.3   6.7   1.5   3.2   7.    1.5   3.3   6.5   1.45  3.4   7.  ]\n",
      " [ 0.    1.    1.    1.    1.    1.    0.    0.    0.    1.    1.    0.    1.\n",
      "   0.    1.    0.    5.75  3.1   1.75  5.    3.3   1.72  5.5   3.25  1.7\n",
      "   5.    3.1   1.65  5.5   3.3   1.73  5.    3.2   1.8   5.5   3.12  1.75]]\n",
      "\n",
      "\n",
      "\n",
      "Odds Difference Threshold to remove sample data:  1.6\n",
      "Number of training data under this odds difference threshold:  8057\n",
      "Number of test data under this odds difference threshold:  2020\n",
      "Percentage of predictions with the Prob_threshold of  0.75  :  0.137623762376\n",
      "Accuracy with this prob_threshold:  0.76618705036\n",
      "Total accuracy:  0.589108910891\n",
      "[[  0.     1.     1.     0.     0.     1.     0.     0.     0.     1.     1.\n",
      "    0.     1.     0.     0.     0.     1.16   6.    19.     1.16   6.    14.5\n",
      "    1.17   6.    14.     1.17   5.5   11.     1.17   5.5   12.     1.16\n",
      "    5.5   12.     1.14   6.    12.  ]\n",
      " [  0.     1.     0.     1.     0.     0.     0.     0.     0.     1.     0.\n",
      "    0.     0.     1.     0.     1.     2.15   2.87   3.4    2.2    2.8\n",
      "    3.45   2.15   2.85   3.35   2.3    2.9    3.     2.25   3.     2.87\n",
      "    2.15   2.9    3.2    2.2    2.8    3.2 ]]\n",
      "\n",
      "\n",
      "\n",
      "Odds Difference Threshold to remove sample data:  2.1\n",
      "Number of training data under this odds difference threshold:  6609\n",
      "Number of test data under this odds difference threshold:  1622\n",
      "Percentage of predictions with the Prob_threshold of  0.75  :  0.168927250308\n",
      "Accuracy with this prob_threshold:  0.766423357664\n",
      "Total accuracy:  0.618988902589\n",
      "[[ 0.    1.    1.    0.    1.    1.    0.    1.    0.    1.    1.    0.    1.\n",
      "   1.    0.    0.    2.3   3.1   3.3   2.3   2.8   3.25  2.3   3.    3.35\n",
      "   2.2   3.2   3.2   2.25  3.    2.88  2.3   2.9   3.5   2.1   3.    3.5 ]\n",
      " [ 0.    0.    0.    1.    0.    1.    0.    1.    0.    0.    0.    0.    0.\n",
      "   0.    1.    1.    4.    3.4   1.9   4.    3.25  1.85  4.    3.25  1.95\n",
      "   3.3   3.2   2.    3.75  3.3   1.8   3.4   3.25  1.91  3.6   3.3   1.9 ]]\n",
      "\n",
      "\n",
      "\n",
      "Odds Difference Threshold to remove sample data:  2.6\n",
      "Number of training data under this odds difference threshold:  5752\n",
      "Number of test data under this odds difference threshold:  1400\n",
      "Percentage of predictions with the Prob_threshold of  0.75  :  0.194285714286\n",
      "Accuracy with this prob_threshold:  0.768382352941\n",
      "Total accuracy:  0.640714285714\n",
      "[[ 0.      0.      1.      1.      1.      1.      1.      1.      0.      1.\n",
      "   0.      0.      1.      0.      0.      1.      2.3     3.      3.4\n",
      "   2.35    2.9     3.      2.4     2.8     3.1     2.3     2.9     3.      2.25\n",
      "   2.88    3.      2.3     2.8967  3.125   2.2     2.9     3.25  ]\n",
      " [ 0.      1.      1.      1.      0.      1.      1.      0.      0.      1.\n",
      "   1.      0.      0.      1.      0.      1.      2.4     3.2     3.      2.55\n",
      "   3.4     2.85    2.55    3.4     2.85    2.5     3.1     2.8     2.38\n",
      "   3.2     3.      2.6     3.      2.9     2.5     3.25    3.1   ]]\n",
      "\n",
      "\n",
      "\n",
      "Odds Difference Threshold to remove sample data:  3.1\n",
      "Number of training data under this odds difference threshold:  4923\n",
      "Number of test data under this odds difference threshold:  1178\n",
      "Percentage of predictions with the Prob_threshold of  0.75  :  0.231748726655\n",
      "Accuracy with this prob_threshold:  0.772893772894\n",
      "Total accuracy:  0.657894736842\n",
      "[[ 0.    0.    1.    0.    0.    1.    0.    0.    0.    0.    1.    0.    0.\n",
      "   1.    0.    1.    6.    4.    1.57  6.    4.    1.5   6.5   3.6   1.55\n",
      "   5.    3.6   1.6   6.    3.75  1.57  5.5   4.    1.57  6.5   4.2   1.57]\n",
      " [ 0.    0.    1.    1.    0.    0.    0.    1.    0.    0.    1.    0.    0.\n",
      "   0.    0.    1.    2.    3.3   4.    1.95  3.12  3.8   2.    3.25  3.75\n",
      "   2.    3.2   3.3   1.83  3.2   3.75  1.8   3.25  3.8   1.9   3.25  4.  ]]\n",
      "\n",
      "\n",
      "\n",
      "Odds Difference Threshold to remove sample data:  3.6\n",
      "Number of training data under this odds difference threshold:  4145\n",
      "Number of test data under this odds difference threshold:  1008\n",
      "Percentage of predictions with the Prob_threshold of  0.75  :  0.27876984127\n",
      "Accuracy with this prob_threshold:  0.76512455516\n",
      "Total accuracy:  0.678571428571\n",
      "[[ 0.    0.    0.    0.    1.    1.    1.    0.    0.    0.    0.    0.    0.\n",
      "   1.    0.    0.    2.1   3.3   3.5   2.    3.3   3.6   2.05  3.2   3.6\n",
      "   2.1   3.25  3.4   2.    3.2   3.2   2.1   3.2   3.3   2.05  3.25  3.5 ]\n",
      " [ 0.    0.    0.    0.    0.    0.    0.    1.    0.    0.    0.    0.    0.\n",
      "   0.    1.    0.    2.3   3.25  3.    2.3   3.35  2.7   2.2   3.3   3.\n",
      "   2.2   3.1   2.8   2.1   3.2   3.    2.15  3.1   3.    2.1   3.2   3.  ]]\n",
      "\n",
      "\n",
      "\n",
      "Odds Difference Threshold to remove sample data:  4.1\n",
      "Number of training data under this odds difference threshold:  3538\n",
      "Number of test data under this odds difference threshold:  856\n",
      "Percentage of predictions with the Prob_threshold of  0.75  :  0.329439252336\n",
      "Accuracy with this prob_threshold:  0.769503546099\n",
      "Total accuracy:  0.692757009346\n",
      "[[ 1.    0.    1.    1.    1.    0.    1.    1.    1.    0.    1.    0.    1.\n",
      "   1.    1.    1.    2.2   3.3   3.25  2.15  3.2   3.3   2.15  3.25  3.25\n",
      "   2.1   3.3   3.1   2.1   3.2   3.    2.15  3.3   3.4   2.2   3.4   3.6 ]\n",
      " [ 0.    0.    0.    0.    0.    0.    0.    1.    0.    0.    0.    0.    0.\n",
      "   0.    1.    0.    2.3   3.25  3.    2.3   3.35  2.7   2.2   3.3   3.\n",
      "   2.2   3.1   2.8   2.1   3.2   3.    2.15  3.1   3.    2.1   3.2   3.  ]]\n",
      "\n",
      "\n",
      "\n",
      "Odds Difference Threshold to remove sample data:  4.6\n",
      "Number of training data under this odds difference threshold:  2982\n",
      "Number of test data under this odds difference threshold:  723\n",
      "Percentage of predictions with the Prob_threshold of  0.75  :  0.39142461964\n",
      "Accuracy with this prob_threshold:  0.749116607774\n",
      "Total accuracy:  0.709543568465\n",
      "[[ 1.    0.    0.    0.    0.    0.    0.    1.    1.    0.    0.    0.    1.\n",
      "   1.    0.    1.    1.4   4.    7.    1.45  3.9   6.25  1.45  3.75  6.5\n",
      "   1.35  4.    7.    1.4   3.75  7.    1.45  4.    5.5   1.4   3.75  8.  ]\n",
      " [ 1.    0.    0.    0.    0.    1.    1.    1.    1.    0.    0.    0.    1.\n",
      "   0.    0.    0.    2.75  3.3   2.5   2.6   3.3   2.4   2.5   3.3   2.5\n",
      "   2.4   3.2   2.6   2.5   3.25  2.4   2.7   3.4   2.3   2.75  3.3   2.5 ]]\n",
      "\n",
      "\n",
      "\n",
      "Odds Difference Threshold to remove sample data:  5.1\n",
      "Number of training data under this odds difference threshold:  2633\n",
      "Number of test data under this odds difference threshold:  637\n",
      "Percentage of predictions with the Prob_threshold of  0.75  :  0.442700156986\n",
      "Accuracy with this prob_threshold:  0.737588652482\n",
      "Total accuracy:  0.726844583987\n",
      "[[ 1.    0.    1.    0.    0.    0.    1.    0.    1.    0.    1.    0.    1.\n",
      "   1.    1.    1.    1.73  3.6   4.75  1.7   3.75  5.    1.75  3.5   4.6\n",
      "   1.75  3.4   4.3   1.7   3.5   4.5   1.73  3.6   4.75  1.8   3.75  5.  ]\n",
      " [ 1.    0.    1.    0.    0.    0.    1.    0.    1.    0.    1.    0.    1.\n",
      "   1.    0.    1.    2.75  3.2   2.5   2.7   3.15  2.4   2.6   3.2   2.6\n",
      "   2.7   3.    2.5   2.6   3.2   2.37  2.62  2.9   2.5   2.6   3.1   2.35]]\n",
      "\n",
      "\n",
      "\n",
      "Odds Difference Threshold to remove sample data:  5.6\n",
      "Number of training data under this odds difference threshold:  2264\n",
      "Number of test data under this odds difference threshold:  550\n",
      "Percentage of predictions with the Prob_threshold of  0.75  :  0.512727272727\n",
      "Accuracy with this prob_threshold:  0.741134751773\n",
      "Total accuracy:  0.743636363636\n",
      "[[ 0.    0.    0.    0.    1.    1.    1.    0.    0.    0.    0.    0.    0.\n",
      "   1.    0.    0.    2.1   3.3   3.5   2.    3.3   3.6   2.05  3.2   3.6\n",
      "   2.1   3.25  3.4   2.    3.2   3.2   2.1   3.2   3.3   2.05  3.25  3.5 ]\n",
      " [ 1.    0.    1.    0.    0.    0.    1.    0.    1.    0.    1.    0.    1.\n",
      "   1.    1.    1.    1.73  3.6   4.75  1.7   3.75  5.    1.75  3.5   4.6\n",
      "   1.75  3.4   4.3   1.7   3.5   4.5   1.73  3.6   4.75  1.8   3.75  5.  ]]\n",
      "\n",
      "\n",
      "\n",
      "Odds Difference Threshold to remove sample data:  6.1\n",
      "Number of training data under this odds difference threshold:  1923\n",
      "Number of test data under this odds difference threshold:  478\n",
      "Percentage of predictions with the Prob_threshold of  0.75  :  0.556485355649\n",
      "Accuracy with this prob_threshold:  0.751879699248\n",
      "Total accuracy:  0.751046025105\n",
      "[[ 0.    0.    0.    0.    1.    1.    1.    0.    0.    0.    0.    0.    0.\n",
      "   1.    0.    0.    2.1   3.3   3.5   2.    3.3   3.6   2.05  3.2   3.6\n",
      "   2.1   3.25  3.4   2.    3.2   3.2   2.1   3.2   3.3   2.05  3.25  3.5 ]\n",
      " [ 1.    0.    1.    0.    0.    0.    1.    0.    1.    0.    1.    0.    1.\n",
      "   1.    1.    1.    1.73  3.6   4.75  1.7   3.75  5.    1.75  3.5   4.6\n",
      "   1.75  3.4   4.3   1.7   3.5   4.5   1.73  3.6   4.75  1.8   3.75  5.  ]]\n",
      "\n",
      "\n",
      "\n",
      "Odds Difference Threshold to remove sample data:  6.6\n",
      "Number of training data under this odds difference threshold:  1720\n",
      "Number of test data under this odds difference threshold:  419\n",
      "Percentage of predictions with the Prob_threshold of  0.75  :  0.615751789976\n",
      "Accuracy with this prob_threshold:  0.751937984496\n",
      "Total accuracy:  0.749403341289\n",
      "[[ 0.    1.    1.    1.    0.    1.    1.    0.    0.    1.    1.    1.    0.\n",
      "   1.    1.    1.    2.4   3.    3.2   2.2   2.9   3.35  2.4   2.9   3.\n",
      "   2.3   2.9   3.    2.3   2.8   3.    2.25  2.88  3.    2.3   3.    3.  ]\n",
      " [ 0.    0.    0.    0.    1.    1.    1.    0.    0.    0.    0.    0.    0.\n",
      "   1.    0.    0.    2.1   3.3   3.5   2.    3.3   3.6   2.05  3.2   3.6\n",
      "   2.1   3.25  3.4   2.    3.2   3.2   2.1   3.2   3.3   2.05  3.25  3.5 ]]\n",
      "\n",
      "\n",
      "\n"
     ]
    }
   ],
   "source": [
    "from sklearn.linear_model import LogisticRegression\n",
    "from sklearn.metrics import accuracy_score\n",
    "from sklearn.preprocessing import StandardScaler  \n",
    "\n",
    "clf = LogisticRegression(C=1, n_jobs = -1)\n",
    "# clf.fit(X_train, target_train)\n",
    "\n",
    "# from sklearn.svm import SVC\n",
    "# clf = SVC(C = 1, kernel = 'rbf', probability = True)\n",
    "# clf.fit(X_train, target_train)\n",
    "\n",
    "# from sklearn.ensemble import RandomForestClassifier\n",
    "# clf = RandomForestClassifier(min_samples_split = 10, n_estimators = 1000, criterion='entropy')\n",
    "# clf.fit(X_train, target_train)\n",
    "\n",
    "# from sklearn.ensemble import AdaBoostClassifier\n",
    "# clf = AdaBoostClassifier(n_estimators = 1000)\n",
    "# clf.fit(X_train, target_train)\n",
    "\n",
    "# from sklearn.naive_bayes import GaussianNB\n",
    "# clf = GaussianNB()\n",
    "# clf.fit(X_train, target_train)\n",
    "\n",
    "for threshold in np.arange(0.1, 7, 0.5):\n",
    "    new_features_train, new_target_train, miss_predicts_rate = correct_predict_based_on_odds(features_train, target_train, threshold)\n",
    "    new_features_test, new_target_test, miss_predicts_rate_test = correct_predict_based_on_odds(features_test, target_test, threshold)\n",
    "    print('Odds Difference Threshold to remove sample data: ', threshold)\n",
    "    print('Number of training data under this odds difference threshold: ', len(new_features_train))\n",
    "    print('Number of test data under this odds difference threshold: ', len(new_features_test))\n",
    "    \n",
    "    # feature scaling\n",
    "    scaler = StandardScaler()  \n",
    "    # Don't cheat - fit only on training data\n",
    "    scaler.fit(new_features_train)  \n",
    "    X_train = scaler.transform(new_features_train)  \n",
    "    # apply same transformation to test data\n",
    "    X_test = scaler.transform(new_features_test)  \n",
    "    \n",
    "    \n",
    "    clf.fit(X_train, new_target_train)\n",
    "    target_predicted_proba = clf.predict_proba(X_test)\n",
    "    # print(target_predicted_proba)\n",
    "    target_predicted = clf.predict(X_test)\n",
    "    prob_threshold = 0.75\n",
    "    \n",
    "    print('Percentage of predictions with the Prob_threshold of ', prob_threshold, \n",
    "          ' : ', np.mean(np.amax(target_predicted_proba, axis = 1) > prob_threshold))\n",
    "    print('Accuracy with this prob_threshold: ', np.mean((target_predicted == new_target_test) & (np.amax(target_predicted_proba, axis = 1) > prob_threshold)) \n",
    "          / np.mean(np.amax(target_predicted_proba, axis = 1) > prob_threshold))\n",
    "    #print(np.mean((target_predicted != new_target_test) & (np.amax(target_predicted_proba, axis = 1) > prob_threshold)))\n",
    "    #print(np.sum((target_predicted == new_target_test) & (np.amax(target_predicted_proba, axis = 1) > prob_threshold)))\n",
    "    #print(np.sum((target_predicted != new_target_test) & (np.amax(target_predicted_proba, axis = 1) > prob_threshold)))\n",
    "    print('Total accuracy: ', accuracy_score(new_target_test, target_predicted))\n",
    "    X_test_greater_than_prob_threshold = features_train[np.amax(target_predicted_proba, axis = 1) > prob_threshold, ]\n",
    "    print(X_test_greater_than_prob_threshold[0 : 2, ])\n",
    "    print('\\n\\n')"
   ]
  },
  {
   "cell_type": "code",
   "execution_count": 158,
   "metadata": {
    "collapsed": false
   },
   "outputs": [
    {
     "name": "stdout",
     "output_type": "stream",
     "text": [
      "0.0563876651982\n",
      "0.0452276064611\n",
      "0.0111600587372\n",
      "154\n",
      "38\n"
     ]
    }
   ],
   "source": [
    "target_predicted_proba = clf.predict_proba(X_test)\n",
    "# print(target_predicted_proba)\n",
    "target_predicted = clf.predict(X_test)\n",
    "threshold = 0.7\n",
    "print(np.mean(np.amax(target_predicted_proba, axis = 1) > threshold))\n",
    "print(np.mean((target_predicted == target_test) & (np.amax(target_predicted_proba, axis = 1) > threshold)))\n",
    "print(np.mean((target_predicted != target_test) & (np.amax(target_predicted_proba, axis = 1) > threshold)))\n",
    "print(np.sum((target_predicted == target_test) & (np.amax(target_predicted_proba, axis = 1) > threshold)))\n",
    "print(np.sum((target_predicted != target_test) & (np.amax(target_predicted_proba, axis = 1) > threshold)))"
   ]
  },
  {
   "cell_type": "code",
   "execution_count": 153,
   "metadata": {
    "collapsed": false
   },
   "outputs": [
    {
     "data": {
      "text/plain": [
       "0.50748898678414101"
      ]
     },
     "execution_count": 153,
     "metadata": {},
     "output_type": "execute_result"
    }
   ],
   "source": [
    "from sklearn.metrics import accuracy_score\n",
    "\n",
    "accuracy_score(target_test, target_predicted)"
   ]
  },
  {
   "cell_type": "markdown",
   "metadata": {},
   "source": [
    "This first model has around 73% accuracy: this is better than our baseline that always predicts death."
   ]
  },
  {
   "cell_type": "code",
   "execution_count": 114,
   "metadata": {
    "collapsed": false
   },
   "outputs": [
    {
     "data": {
      "text/plain": [
       "0.51659324522760641"
      ]
     },
     "execution_count": 114,
     "metadata": {},
     "output_type": "execute_result"
    }
   ],
   "source": [
    "clf.score(features_test, target_test)"
   ]
  },
  {
   "cell_type": "code",
   "execution_count": 64,
   "metadata": {
    "collapsed": false
   },
   "outputs": [
    {
     "name": "stdout",
     "output_type": "stream",
     "text": [
      "[[  1.48441286e+00  -7.28796674e-01   9.30311481e-01  -7.10926690e-01\n",
      "    1.08031987e+00  -9.82817591e-01  -9.63650356e-01  -1.01613843e+00\n",
      "    1.48441286e+00  -7.29859955e-01   9.29350499e-01  -7.14675478e-01\n",
      "    1.08849562e+00   1.02453349e+00   1.03360897e+00  -1.01063074e+00\n",
      "   -6.23852269e-02  -3.90270960e-01  -5.20294382e-01  -3.07370957e-02\n",
      "   -6.19948238e-01  -5.41410701e-01  -3.53839942e-02  -4.49952600e-01\n",
      "   -5.07790115e-01   3.51134814e-02  -5.38890052e-01  -5.54718104e-01\n",
      "   -1.32718927e-04  -4.05296131e-01  -5.91720289e-01  -3.02930688e-02\n",
      "   -5.21776853e-01  -5.67615715e-01  -5.10504542e-02  -4.14046623e-01\n",
      "   -5.58011870e-01]\n",
      " [ -6.73667029e-01  -7.28796674e-01  -1.07490880e+00  -7.10926690e-01\n",
      "    1.08031987e+00  -9.82817591e-01  -9.63650356e-01  -1.01613843e+00\n",
      "   -6.73667029e-01  -7.29859955e-01  -1.07602030e+00  -7.14675478e-01\n",
      "    1.08849562e+00  -9.76053988e-01   1.03360897e+00   9.89481081e-01\n",
      "   -5.74630222e-01   1.54659790e-01   1.11898092e-01  -5.86800407e-01\n",
      "   -1.64227992e-01   3.50720132e-01  -5.99030110e-01  -8.80120677e-02\n",
      "    5.47121316e-01  -5.33943378e-01  -1.04988551e-01   7.54394344e-02\n",
      "   -6.02043230e-01  -2.18364226e-02   2.72189018e-01  -5.69652943e-01\n",
      "   -2.76952882e-01   2.14660139e-01  -5.54674954e-01  -3.63594436e-01\n",
      "    1.14785592e-01]\n",
      " [  1.48441286e+00  -7.28796674e-01  -1.07490880e+00  -7.10926690e-01\n",
      "    1.08031987e+00   1.01748281e+00  -9.63650356e-01   9.84117880e-01\n",
      "   -6.73667029e-01   1.37012586e+00   9.29350499e-01   1.39923648e+00\n",
      "    1.08849562e+00   1.02453349e+00   1.03360897e+00   9.89481081e-01\n",
      "    1.62348438e+00   1.00166715e-01  -9.18011713e-01   1.77646867e+00\n",
      "   -1.07262961e-01  -9.53163394e-01   1.97260529e+00  -8.80120677e-02\n",
      "   -9.60381149e-01   1.82357790e+00  -1.04988551e-01  -9.87951412e-01\n",
      "    1.57523800e+00  -2.18364226e-02  -9.44483256e-01   1.80493144e+00\n",
      "   -3.21289123e-02  -9.12737416e-01   1.58572917e+00  -1.61785686e-01\n",
      "   -8.72938342e-01]\n",
      " [ -6.73667029e-01   1.37212481e+00   9.30311481e-01   1.40661479e+00\n",
      "   -9.25651769e-01   1.01748281e+00   1.03772078e+00  -1.01613843e+00\n",
      "   -6.73667029e-01   1.37012586e+00   9.29350499e-01   1.39923648e+00\n",
      "   -9.18699148e-01   1.02453349e+00   1.03360897e+00   9.89481081e-01\n",
      "   -6.23852269e-02  -7.17229411e-01  -4.22349069e-01  -1.69752924e-01\n",
      "   -7.90843330e-01  -3.52690717e-01  -3.53839942e-02  -8.11893132e-01\n",
      "   -4.73760714e-01  -4.61803557e-02  -8.28157720e-01  -4.36563566e-01\n",
      "   -5.95806706e-02  -9.16575743e-01  -4.47735404e-01  -1.21353827e-01\n",
      "   -7.91083220e-01  -4.42714528e-01  -1.14003517e-01  -6.66307560e-01\n",
      "   -4.57807993e-01]\n",
      " [ -6.73667029e-01  -7.28796674e-01  -1.07490880e+00  -7.10926690e-01\n",
      "    1.08031987e+00   1.01748281e+00   1.03772078e+00  -1.01613843e+00\n",
      "   -6.73667029e-01  -7.29859955e-01  -1.07602030e+00  -7.14675478e-01\n",
      "   -9.18699148e-01   1.02453349e+00  -9.67483861e-01  -1.01063074e+00\n",
      "   -2.56908643e-01  -3.90270960e-01  -3.33307875e-01  -3.08768751e-01\n",
      "   -3.35123084e-01  -2.66908906e-01  -2.81979170e-01  -4.49952600e-01\n",
      "   -2.69584308e-01  -2.08768030e-01  -3.21939301e-01  -2.79024181e-01\n",
      "   -2.82510490e-01  -4.05296131e-01  -3.75742962e-01  -2.26423932e-01\n",
      "   -3.99364867e-01  -3.44108328e-01  -2.71386173e-01  -4.14046623e-01\n",
      "   -3.14659596e-01]]\n"
     ]
    }
   ],
   "source": [
    "from sklearn.preprocessing import StandardScaler  \n",
    "scaler = StandardScaler()  \n",
    "# Don't cheat - fit only on training data\n",
    "scaler.fit(features_train)  \n",
    "X_train = scaler.transform(features_train)  \n",
    "# apply same transformation to test data\n",
    "X_test = scaler.transform(features_test)  \n",
    "print(X_train[0:5])"
   ]
  },
  {
   "cell_type": "code",
   "execution_count": 66,
   "metadata": {
    "collapsed": false
   },
   "outputs": [
    {
     "ename": "ImportError",
     "evalue": "cannot import name 'MLPClassifier'",
     "output_type": "error",
     "traceback": [
      "\u001b[1;31m---------------------------------------------------------------------------\u001b[0m",
      "\u001b[1;31mImportError\u001b[0m                               Traceback (most recent call last)",
      "\u001b[1;32m<ipython-input-66-f2425f4dcc55>\u001b[0m in \u001b[0;36m<module>\u001b[1;34m()\u001b[0m\n\u001b[1;32m----> 1\u001b[1;33m \u001b[1;32mfrom\u001b[0m \u001b[0msklearn\u001b[0m\u001b[1;33m.\u001b[0m\u001b[0mneural_network\u001b[0m \u001b[1;32mimport\u001b[0m \u001b[0mMLPClassifier\u001b[0m\u001b[1;33m\u001b[0m\u001b[0m\n\u001b[0m\u001b[0;32m      2\u001b[0m \u001b[1;33m\u001b[0m\u001b[0m\n\u001b[0;32m      3\u001b[0m \u001b[1;31m# clf = MLPClassifier(algorithm='l-bfgs', alpha=1e-5, hidden_layer_sizes=(15,), random_state=1)\u001b[0m\u001b[1;33m\u001b[0m\u001b[1;33m\u001b[0m\u001b[0m\n\u001b[0;32m      4\u001b[0m \u001b[1;31m# clf.fit(X_train, target_train)\u001b[0m\u001b[1;33m\u001b[0m\u001b[1;33m\u001b[0m\u001b[0m\n\u001b[0;32m      5\u001b[0m \u001b[1;33m\u001b[0m\u001b[0m\n",
      "\u001b[1;31mImportError\u001b[0m: cannot import name 'MLPClassifier'"
     ]
    }
   ],
   "source": [
    "#from sklearn.neural_network import MLPClassifier # this algorithm is not released yet, only in dev version\n",
    "\n",
    "# clf = MLPClassifier(algorithm='l-bfgs', alpha=1e-5, hidden_layer_sizes=(15,), random_state=1)\n",
    "# clf.fit(X_train, target_train)\n",
    "\n",
    "# target_predicted = clf.predict(X_test)\n",
    "# print(np.mean(target_predicted == target_test))"
   ]
  },
  {
   "cell_type": "markdown",
   "metadata": {},
   "source": [
    "## Model evaluation and interpretation"
   ]
  },
  {
   "cell_type": "markdown",
   "metadata": {},
   "source": [
    "### Interpreting linear model weights"
   ]
  },
  {
   "cell_type": "markdown",
   "metadata": {},
   "source": [
    "The `coef_` attribute of a fitted linear model such as `LogisticRegression` holds the weights of each features:"
   ]
  },
  {
   "cell_type": "code",
   "execution_count": 167,
   "metadata": {
    "collapsed": false
   },
   "outputs": [
    {
     "data": {
      "text/plain": [
       "Index(['bit0', 'bit1', 'bit2', 'bit3', 'bit4', 'bit5', 'bit6', 'bit7', 'bit8',\n",
       "       'bit9', 'bit10', 'bit11', 'bit12', 'bit13', 'bit14', 'bit15', 'B365H',\n",
       "       'B365D', 'B365A', 'BWH', 'BWD', 'BWA', 'GBH', 'GBD', 'GBA', 'IWH',\n",
       "       'IWD', 'IWA', 'LBH', 'LBD', 'LBA', 'WHH', 'WHD', 'WHA', 'VCH', 'VCD',\n",
       "       'VCA'],\n",
       "      dtype='object')"
      ]
     },
     "execution_count": 167,
     "metadata": {},
     "output_type": "execute_result"
    }
   ],
   "source": [
    "feature_names = numerical_features.columns\n",
    "feature_names"
   ]
  },
  {
   "cell_type": "code",
   "execution_count": 168,
   "metadata": {
    "collapsed": false
   },
   "outputs": [
    {
     "data": {
      "text/plain": [
       "array([[-0.76808623, -0.40818026, -0.29203066, -0.02932457, -0.02199954,\n",
       "        -0.03508011, -0.0689908 , -0.02618309,  0.86282651,  0.4390244 ,\n",
       "         0.34793201, -0.02148758,  0.0076466 ,  0.02010884,  0.01454142,\n",
       "        -0.01472004, -0.18737633,  0.08501214,  0.01768293,  0.1155593 ,\n",
       "         0.00590247,  0.0386236 , -0.52307762,  0.13835045,  0.01614931,\n",
       "         0.00118032,  0.11468958, -0.03474033,  0.27968884, -0.13250774,\n",
       "        -0.00637548, -0.01658148,  0.00913953,  0.11997202, -0.02119795,\n",
       "        -0.01283112, -0.03411416],\n",
       "       [ 0.58154815,  0.39006421,  0.24981341,  0.06797965,  0.01790498,\n",
       "         0.06487292,  0.0551522 , -0.04735843, -0.71345043, -0.42278669,\n",
       "        -0.26872829,  0.10472641, -0.00944496,  0.00337421,  0.01967259,\n",
       "         0.01603245, -0.05755316, -0.04909074, -0.015547  ,  0.12216303,\n",
       "         0.0972385 , -0.08179183, -0.06536372, -0.39820286,  0.08099176,\n",
       "        -0.08313485, -0.19509855,  0.05498296,  0.04061658, -0.12430556,\n",
       "         0.01552817, -0.06327311, -0.06991077, -0.09731784,  0.0879096 ,\n",
       "         0.19546559,  0.05159916],\n",
       "       [ 0.31338676,  0.08052779,  0.08945123, -0.03673266,  0.0135366 ,\n",
       "        -0.02557452,  0.02185869,  0.08412734, -0.30831025, -0.0862064 ,\n",
       "        -0.13313706, -0.08912616,  0.00173115, -0.03518344, -0.04444749,\n",
       "         0.00244543,  0.1474027 , -0.06419382, -0.03670389, -0.13646244,\n",
       "        -0.10848224,  0.08307141,  0.34298109,  0.20386662, -0.2436134 ,\n",
       "         0.08153986,  0.11239611,  0.00097799, -0.19096219,  0.34535072,\n",
       "         0.04949899,  0.04783993,  0.05055927, -0.10055781, -0.07223278,\n",
       "        -0.26017682, -0.02680318]])"
      ]
     },
     "execution_count": 168,
     "metadata": {},
     "output_type": "execute_result"
    }
   ],
   "source": [
    "logreg.coef_"
   ]
  },
  {
   "cell_type": "code",
   "execution_count": 170,
   "metadata": {
    "collapsed": false
   },
   "outputs": [],
   "source": [
    "# x = np.arange(len(feature_names))\n",
    "# plt.bar(x, logreg.coef_.ravel())\n",
    "# plt.xticks(x + 0.5, feature_names, rotation=30);"
   ]
  },
  {
   "cell_type": "markdown",
   "metadata": {},
   "source": [
    "In this case, survival is slightly positively linked with Fare (the higher the fare, the higher the likelyhood the model will predict survival) while passenger from first class and lower ages are predicted to survive more often than older people from the 3rd class.\n",
    "\n",
    "First-class cabins were closer to the lifeboats and children and women reportedly had the priority. Our model seems to capture that historical data. We will see later if the sex of the passenger can be used as an informative predictor to increase the predictive accuracy of the model."
   ]
  },
  {
   "cell_type": "markdown",
   "metadata": {},
   "source": [
    "### Alternative evaluation metrics"
   ]
  },
  {
   "cell_type": "markdown",
   "metadata": {},
   "source": [
    "It is possible to see the details of the false positive and false negative errors by computing the confusion matrix:"
   ]
  },
  {
   "cell_type": "code",
   "execution_count": 171,
   "metadata": {
    "collapsed": false
   },
   "outputs": [
    {
     "name": "stdout",
     "output_type": "stream",
     "text": [
      "[[1376   19  167]\n",
      " [ 709   27  176]\n",
      " [ 551   19  361]]\n"
     ]
    }
   ],
   "source": [
    "from sklearn.metrics import confusion_matrix\n",
    "\n",
    "cm = confusion_matrix(target_test, target_predicted)\n",
    "print(cm)"
   ]
  },
  {
   "cell_type": "markdown",
   "metadata": {},
   "source": [
    "The true labeling are seen as the rows and the predicted labels are the columns:"
   ]
  },
  {
   "cell_type": "code",
   "execution_count": 172,
   "metadata": {
    "collapsed": false
   },
   "outputs": [
    {
     "data": {
      "image/png": "[encoded data removed]",
      "text/plain": [
       "<matplotlib.figure.Figure at 0x7f6fa4b46f28>"
      ]
     },
     "metadata": {},
     "output_type": "display_data"
    }
   ],
   "source": [
    "def plot_confusion(cm, target_names = ['home win', 'home draw', 'home lose'],\n",
    "                   title='Confusion matrix'):\n",
    "    plt.imshow(cm, interpolation='nearest', cmap=plt.cm.Blues)\n",
    "    plt.title(title)\n",
    "    plt.colorbar()\n",
    "\n",
    "    tick_marks = np.arange(len(target_names))\n",
    "    plt.xticks(tick_marks, target_names, rotation=60)\n",
    "    plt.yticks(tick_marks, target_names)\n",
    "    plt.ylabel('True label')\n",
    "    plt.xlabel('Predicted label')\n",
    "    # Convenience function to adjust plot parameters for a clear layout.\n",
    "    plt.tight_layout()\n",
    "    \n",
    "plot_confusion(cm)"
   ]
  },
  {
   "cell_type": "code",
   "execution_count": 173,
   "metadata": {
    "collapsed": false
   },
   "outputs": [
    {
     "name": "stdout",
     "output_type": "stream",
     "text": [
      "[[1376   19  167]\n",
      " [ 709   27  176]\n",
      " [ 551   19  361]]\n"
     ]
    }
   ],
   "source": [
    "print(cm)"
   ]
  },
  {
   "cell_type": "markdown",
   "metadata": {},
   "source": [
    "We can normalize the number of prediction by dividing by the total number of true \"survived\" and \"not survived\" to compute true and false positive rates for survival in the first row and the false negative and true negative rates in the second row."
   ]
  },
  {
   "cell_type": "code",
   "execution_count": 174,
   "metadata": {
    "collapsed": false
   },
   "outputs": [
    {
     "data": {
      "text/plain": [
       "array([1562,  912,  931])"
      ]
     },
     "execution_count": 174,
     "metadata": {},
     "output_type": "execute_result"
    }
   ],
   "source": [
    "cm.sum(axis=1)"
   ]
  },
  {
   "cell_type": "code",
   "execution_count": 175,
   "metadata": {
    "collapsed": false
   },
   "outputs": [
    {
     "name": "stdout",
     "output_type": "stream",
     "text": [
      "[[ 0.8809219   0.01216389  0.10691421]\n",
      " [ 0.77741228  0.02960526  0.19298246]\n",
      " [ 0.59183673  0.02040816  0.3877551 ]]\n"
     ]
    }
   ],
   "source": [
    "cm_normalized = cm.astype(np.float64) / cm.sum(axis=1)[:, np.newaxis]\n",
    "print(cm_normalized)"
   ]
  },
  {
   "cell_type": "code",
   "execution_count": 176,
   "metadata": {
    "collapsed": false
   },
   "outputs": [
    {
     "data": {
      "image/png": "[encoded data removed]",
      "text/plain": [
       "<matplotlib.figure.Figure at 0x7f6fa4af2eb8>"
      ]
     },
     "metadata": {},
     "output_type": "display_data"
    }
   ],
   "source": [
    "plot_confusion(cm_normalized, title=\"Normalized confusion matrix\")"
   ]
  },
  {
   "cell_type": "markdown",
   "metadata": {},
   "source": [
    "We can therefore observe that the fact that the target classes are not balanced in the dataset makes the accuracy score not very informative.\n",
    "\n",
    "scikit-learn provides alternative classification metrics to evaluate models performance on imbalanced data such as precision, recall and f1 score:"
   ]
  },
  {
   "cell_type": "code",
   "execution_count": 178,
   "metadata": {
    "collapsed": false
   },
   "outputs": [
    {
     "name": "stdout",
     "output_type": "stream",
     "text": [
      "             precision    recall  f1-score   support\n",
      "\n",
      "   home win       0.52      0.88      0.66      1562\n",
      "  home draw       0.42      0.03      0.06       912\n",
      "  home lose       0.51      0.39      0.44       931\n",
      "\n",
      "avg / total       0.49      0.52      0.44      3405\n",
      "\n"
     ]
    }
   ],
   "source": [
    "from sklearn.metrics import classification_report\n",
    "\n",
    "print(classification_report(target_test, target_predicted,\n",
    "                            target_names=['home win', 'home draw', 'home lose']))"
   ]
  },
  {
   "cell_type": "markdown",
   "metadata": {},
   "source": [
    "Another way to quantify the quality of a binary classifier on imbalanced data is to compute the precision, recall and f1-score of a model (at the default fixed decision threshold of 0.5)."
   ]
  },
  {
   "cell_type": "markdown",
   "metadata": {},
   "source": [
    "Logistic Regression is a probabilistic models: instead of just predicting a binary outcome (survived or not) given the input features it can also estimates the posterior probability of the outcome given the input features using the `predict_proba` method:"
   ]
  },
  {
   "cell_type": "code",
   "execution_count": 179,
   "metadata": {
    "collapsed": false
   },
   "outputs": [
    {
     "data": {
      "text/plain": [
       "array([[ 0.54902252,  0.27728864,  0.17368883],\n",
       "       [ 0.47090786,  0.2654256 ,  0.26366654],\n",
       "       [ 0.31957595,  0.29024755,  0.39017651],\n",
       "       [ 0.72126957,  0.17667731,  0.10205312],\n",
       "       [ 0.33661806,  0.3271818 ,  0.33620014]])"
      ]
     },
     "execution_count": 179,
     "metadata": {},
     "output_type": "execute_result"
    }
   ],
   "source": [
    "target_predicted_proba = logreg.predict_proba(features_test)\n",
    "target_predicted_proba[:5]"
   ]
  },
  {
   "cell_type": "markdown",
   "metadata": {},
   "source": [
    "By default the decision threshold is 0.5: if we vary the decision threshold from 0 to 1 we could generate a family of binary classifier models that address all the possible trade offs between false positive and false negative prediction errors.\n",
    "\n",
    "We can summarize the performance of a binary classifier for all the possible thresholds by plotting the ROC curve and quantifying the Area under the ROC curve:"
   ]
  },
  {
   "cell_type": "code",
   "execution_count": 180,
   "metadata": {
    "collapsed": false
   },
   "outputs": [],
   "source": [
    "# from sklearn.metrics import roc_curve\n",
    "# from sklearn.metrics import auc\n",
    "\n",
    "# def plot_roc_curve(target_test, target_predicted_proba):\n",
    "#     fpr, tpr, thresholds = roc_curve(target_test, target_predicted_proba[:, 1])\n",
    "    \n",
    "#     roc_auc = auc(fpr, tpr)\n",
    "#     # Plot ROC curve\n",
    "#     plt.plot(fpr, tpr, label='ROC curve (area = %0.3f)' % roc_auc)\n",
    "#     plt.plot([0, 1], [0, 1], 'k--')  # random predictions curve\n",
    "#     plt.xlim([0.0, 1.0])\n",
    "#     plt.ylim([0.0, 1.0])\n",
    "#     plt.xlabel('False Positive Rate or (1 - Specifity)')\n",
    "#     plt.ylabel('True Positive Rate or (Sensitivity)')\n",
    "#     plt.title('Receiver Operating Characteristic')\n",
    "#     plt.legend(loc=\"lower right\")"
   ]
  },
  {
   "cell_type": "code",
   "execution_count": 181,
   "metadata": {
    "collapsed": false
   },
   "outputs": [],
   "source": [
    "# plot_roc_curve(target_test, target_predicted_proba)"
   ]
  },
  {
   "cell_type": "markdown",
   "metadata": {},
   "source": [
    "Here the area under ROC curve is 0.756 which is very similar to the accuracy (0.732). However the ROC-AUC score of a random model is expected to 0.5 on average while the accuracy score of a random model depends on the class imbalance of the data. ROC-AUC can be seen as a way to callibrate the predictive accuracy of a model against class imbalance."
   ]
  },
  {
   "cell_type": "markdown",
   "metadata": {},
   "source": [
    "### Cross-validation"
   ]
  },
  {
   "cell_type": "markdown",
   "metadata": {},
   "source": [
    "We previously decided to randomly split the data to evaluate the model on 20% of held-out data. However the location randomness of the split might have a significant impact in the estimated accuracy:"
   ]
  },
  {
   "cell_type": "code",
   "execution_count": 182,
   "metadata": {
    "collapsed": false
   },
   "outputs": [
    {
     "data": {
      "text/plain": [
       "0.51806167400881054"
      ]
     },
     "execution_count": 182,
     "metadata": {},
     "output_type": "execute_result"
    }
   ],
   "source": [
    "features_train, features_test, target_train, target_test = train_test_split(\n",
    "    features_array, target, test_size=0.20, random_state=0)\n",
    "\n",
    "logreg.fit(features_train, target_train).score(features_test, target_test)"
   ]
  },
  {
   "cell_type": "code",
   "execution_count": 183,
   "metadata": {
    "collapsed": false
   },
   "outputs": [
    {
     "data": {
      "text/plain": [
       "0.54537444933920709"
      ]
     },
     "execution_count": 183,
     "metadata": {},
     "output_type": "execute_result"
    }
   ],
   "source": [
    "features_train, features_test, target_train, target_test = train_test_split(\n",
    "    features_array, target, test_size=0.20, random_state=1)\n",
    "\n",
    "logreg.fit(features_train, target_train).score(features_test, target_test)"
   ]
  },
  {
   "cell_type": "code",
   "execution_count": 184,
   "metadata": {
    "collapsed": false
   },
   "outputs": [
    {
     "data": {
      "text/plain": [
       "0.52922173274596185"
      ]
     },
     "execution_count": 184,
     "metadata": {},
     "output_type": "execute_result"
    }
   ],
   "source": [
    "features_train, features_test, target_train, target_test = train_test_split(\n",
    "    features_array, target, test_size=0.20, random_state=2)\n",
    "\n",
    "logreg.fit(features_train, target_train).score(features_test, target_test)"
   ]
  },
  {
   "cell_type": "markdown",
   "metadata": {},
   "source": [
    "So instead of using a single train / test split, we can use a group of them and compute the min, max and mean scores as an estimation of the real test score while not underestimating the variability:"
   ]
  },
  {
   "cell_type": "code",
   "execution_count": 185,
   "metadata": {
    "collapsed": false
   },
   "outputs": [
    {
     "data": {
      "text/plain": [
       "array([ 0.51086318,  0.51189427,  0.50837004,  0.51909518,  0.51777843])"
      ]
     },
     "execution_count": 185,
     "metadata": {},
     "output_type": "execute_result"
    }
   ],
   "source": [
    "from sklearn.cross_validation import cross_val_score\n",
    "\n",
    "scores = cross_val_score(logreg, features_array, target, cv=5)\n",
    "scores"
   ]
  },
  {
   "cell_type": "code",
   "execution_count": 186,
   "metadata": {
    "collapsed": false
   },
   "outputs": [
    {
     "data": {
      "text/plain": [
       "(0.50837004405286346, 0.51360022254690818, 0.51909518213866035)"
      ]
     },
     "execution_count": 186,
     "metadata": {},
     "output_type": "execute_result"
    }
   ],
   "source": [
    "scores.min(), scores.mean(), scores.max()"
   ]
  },
  {
   "cell_type": "markdown",
   "metadata": {},
   "source": [
    "`cross_val_score` reports accuracy by default be it can also be used to report other performance metrics such as ROC-AUC or f1-score:"
   ]
  },
  {
   "cell_type": "code",
   "execution_count": 188,
   "metadata": {
    "collapsed": false
   },
   "outputs": [],
   "source": [
    "# scores = cross_val_score(logreg, features_array, target, cv=5,\n",
    "#                          scoring='roc_auc')\n",
    "# scores.min(), scores.mean(), scores.max()"
   ]
  },
  {
   "cell_type": "markdown",
   "metadata": {},
   "source": [
    "**Exercise**:\n",
    "\n",
    "- Compute cross-validated scores for other classification metrics ('precision', 'recall', 'f1', 'accuracy'...).\n",
    "\n",
    "- Change the number of cross-validation folds between 3 and 10: what is the impact on the mean score? on the processing time?\n",
    "\n",
    "Hints:\n",
    "\n",
    "The list of classification metrics is available in the online documentation:\n",
    "\n",
    "  http://scikit-learn.org/stable/modules/model_evaluation.html#common-cases-predefined-values\n",
    "  \n",
    "You can use the `%%time` cell magic on the first line of an IPython cell to measure the time of the execution of the cell. "
   ]
  },
  {
   "cell_type": "code",
   "execution_count": 189,
   "metadata": {
    "collapsed": false
   },
   "outputs": [
    {
     "name": "stderr",
     "output_type": "stream",
     "text": [
      "/home/ares/.local/lib/python3.4/site-packages/sklearn/metrics/metrics.py:1771: UndefinedMetricWarning: F-score is ill-defined and being set to 0.0 in labels with no predicted samples.\n",
      "  'precision', 'predicted', average, warn_for)\n",
      "/home/ares/.local/lib/python3.4/site-packages/sklearn/metrics/metrics.py:1771: UndefinedMetricWarning: F-score is ill-defined and being set to 0.0 in labels with no predicted samples.\n",
      "  'precision', 'predicted', average, warn_for)\n",
      "/home/ares/.local/lib/python3.4/site-packages/sklearn/metrics/metrics.py:1771: UndefinedMetricWarning: F-score is ill-defined and being set to 0.0 in labels with no predicted samples.\n",
      "  'precision', 'predicted', average, warn_for)\n",
      "/home/ares/.local/lib/python3.4/site-packages/sklearn/metrics/metrics.py:1771: UndefinedMetricWarning: F-score is ill-defined and being set to 0.0 in labels with no predicted samples.\n",
      "  'precision', 'predicted', average, warn_for)\n",
      "/home/ares/.local/lib/python3.4/site-packages/sklearn/metrics/metrics.py:1771: UndefinedMetricWarning: F-score is ill-defined and being set to 0.0 in labels with no predicted samples.\n",
      "  'precision', 'predicted', average, warn_for)\n",
      "/home/ares/.local/lib/python3.4/site-packages/sklearn/metrics/metrics.py:1771: UndefinedMetricWarning: F-score is ill-defined and being set to 0.0 in labels with no predicted samples.\n",
      "  'precision', 'predicted', average, warn_for)\n",
      "/home/ares/.local/lib/python3.4/site-packages/sklearn/metrics/metrics.py:1771: UndefinedMetricWarning: F-score is ill-defined and being set to 0.0 in labels with no predicted samples.\n",
      "  'precision', 'predicted', average, warn_for)\n",
      "/home/ares/.local/lib/python3.4/site-packages/sklearn/metrics/metrics.py:1771: UndefinedMetricWarning: F-score is ill-defined and being set to 0.0 in labels with no predicted samples.\n",
      "  'precision', 'predicted', average, warn_for)\n",
      "/home/ares/.local/lib/python3.4/site-packages/sklearn/metrics/metrics.py:1771: UndefinedMetricWarning: F-score is ill-defined and being set to 0.0 in labels with no predicted samples.\n",
      "  'precision', 'predicted', average, warn_for)\n",
      "/home/ares/.local/lib/python3.4/site-packages/sklearn/metrics/metrics.py:1771: UndefinedMetricWarning: F-score is ill-defined and being set to 0.0 in labels with no predicted samples.\n",
      "  'precision', 'predicted', average, warn_for)\n",
      "/home/ares/.local/lib/python3.4/site-packages/sklearn/metrics/metrics.py:1771: UndefinedMetricWarning: F-score is ill-defined and being set to 0.0 in labels with no predicted samples.\n",
      "  'precision', 'predicted', average, warn_for)\n",
      "/home/ares/.local/lib/python3.4/site-packages/sklearn/metrics/metrics.py:1771: UndefinedMetricWarning: F-score is ill-defined and being set to 0.0 in labels with no predicted samples.\n",
      "  'precision', 'predicted', average, warn_for)\n"
     ]
    },
    {
     "name": "stdout",
     "output_type": "stream",
     "text": [
      "0.438429675336\n",
      "CPU times: user 54.6 s, sys: 443 µs, total: 54.6 s\n",
      "Wall time: 54.7 s\n"
     ]
    }
   ],
   "source": [
    "%%time\n",
    "scores = cross_val_score(logreg, features_array, target, cv=30, scoring = 'f1')\n",
    "print(scores.mean())"
   ]
  },
  {
   "cell_type": "markdown",
   "metadata": {},
   "source": [
    "## More feature engineering and richer models"
   ]
  },
  {
   "cell_type": "markdown",
   "metadata": {},
   "source": [
    "Let us now try to build richer models by including more features as potential predictors for our model.\n",
    "\n",
    "Categorical variables such as `data['Embarked']` or `data['Sex']` can be converted as boolean indicators features also known as dummy variables or one-hot-encoded features:"
   ]
  },
  {
   "cell_type": "code",
   "execution_count": 190,
   "metadata": {
    "collapsed": false
   },
   "outputs": [],
   "source": [
    "# pd.get_dummies(data['Sex'], prefix='Sex').head(5)"
   ]
  },
  {
   "cell_type": "code",
   "execution_count": 191,
   "metadata": {
    "collapsed": false
   },
   "outputs": [],
   "source": [
    "# pd.get_dummies(data.Embarked, prefix='Embarked').head(5)"
   ]
  },
  {
   "cell_type": "markdown",
   "metadata": {},
   "source": [
    "We can combine those new numerical features with the previous features using `pandas.concat` along `axis=1`:"
   ]
  },
  {
   "cell_type": "code",
   "execution_count": 192,
   "metadata": {
    "collapsed": false
   },
   "outputs": [],
   "source": [
    "# rich_features = pd.concat([data[['Fare', 'Pclass', 'Age']],\n",
    "#                            pd.get_dummies(data['Sex'], prefix='Sex'),\n",
    "#                            pd.get_dummies(data['Embarked'], prefix='Embarked')],\n",
    "#                           axis=1)\n",
    "# rich_features.head(5)"
   ]
  },
  {
   "cell_type": "markdown",
   "metadata": {},
   "source": [
    "By construction the new `Sex_male` feature is redundant with `Sex_female`. Let us drop it:"
   ]
  },
  {
   "cell_type": "code",
   "execution_count": 193,
   "metadata": {
    "collapsed": false
   },
   "outputs": [],
   "source": [
    "# rich_features_no_male = rich_features.drop('Sex_male', 1)\n",
    "# rich_features_no_male.head(5)"
   ]
  },
  {
   "cell_type": "markdown",
   "metadata": {},
   "source": [
    "Let us not forget to imput the median age for passengers without age information:"
   ]
  },
  {
   "cell_type": "code",
   "execution_count": 194,
   "metadata": {
    "collapsed": false
   },
   "outputs": [],
   "source": [
    "# rich_features_final = rich_features_no_male.fillna(rich_features_no_male.dropna().median())\n",
    "# rich_features_final.head(5)"
   ]
  },
  {
   "cell_type": "markdown",
   "metadata": {},
   "source": [
    "We can finally cross-validate a logistic regression model on this new data an observe that the mean score has significantly increased:"
   ]
  },
  {
   "cell_type": "code",
   "execution_count": 195,
   "metadata": {
    "collapsed": false
   },
   "outputs": [],
   "source": [
    "# %%time\n",
    "\n",
    "# from sklearn.linear_model import LogisticRegression\n",
    "# from sklearn.cross_validation import cross_val_score\n",
    "\n",
    "# logreg = LogisticRegression(C=1)\n",
    "# scores = cross_val_score(logreg, rich_features_final, target, cv=5, scoring='accuracy')\n",
    "# print(\"Logistic Regression CV scores:\")\n",
    "# print(\"min: {:.3f}, mean: {:.3f}, max: {:.3f}\".format(\n",
    "#     scores.min(), scores.mean(), scores.max()))"
   ]
  },
  {
   "cell_type": "markdown",
   "metadata": {},
   "source": [
    "**Exercise**:\n",
    "\n",
    "- change the value of the parameter `C`. Does it have an impact on the score?\n",
    "\n",
    "- fit a new instance of the logistic regression model on the full dataset.\n",
    "\n",
    "- plot the weights for the features of this newly fitted logistic regression model."
   ]
  },
  {
   "cell_type": "code",
   "execution_count": 196,
   "metadata": {
    "collapsed": false
   },
   "outputs": [],
   "source": [
    "# # %load solutions/04A_plot_logistic_regression_weights.py\n",
    "# logreg_new = LogisticRegression(C=1).fit(rich_features_final, target)\n",
    "\n",
    "# feature_names = rich_features_final.columns.values\n",
    "# x = np.arange(len(feature_names))\n",
    "# plt.bar(x, logreg_new.coef_.ravel())\n",
    "# _ = plt.xticks(x + 0.5, feature_names, rotation=30)\n",
    "\n",
    "# # Rich young women like Kate Winslet tend to survive the Titanic better\n",
    "# # than poor men like Leonardo.\n"
   ]
  },
  {
   "cell_type": "code",
   "execution_count": 197,
   "metadata": {
    "collapsed": false
   },
   "outputs": [],
   "source": [
    "# %%time\n",
    "\n",
    "# from sklearn.linear_model import LogisticRegression\n",
    "# from sklearn.cross_validation import cross_val_score\n",
    "\n",
    "# logreg = LogisticRegression(C=0.1)\n",
    "# scores = cross_val_score(logreg, rich_features_final, target, cv=5, scoring='accuracy')\n",
    "# #print(logreg.coef_)\n",
    "# print(\"Logistic Regression CV scores:\")\n",
    "# print(\"min: {:.3f}, mean: {:.3f}, max: {:.3f}\".format(\n",
    "#     scores.min(), scores.mean(), scores.max()))"
   ]
  },
  {
   "cell_type": "markdown",
   "metadata": {},
   "source": [
    "### Training Non-linear models: ensembles of randomized trees"
   ]
  },
  {
   "cell_type": "markdown",
   "metadata": {},
   "source": [
    "`sklearn` also implement non linear models that are known to perform very well for data-science projects where datasets have not too many features (e.g. less than 5000).\n",
    "\n",
    "In particular let us have a look at Random Forests and Gradient Boosted Trees:"
   ]
  },
  {
   "cell_type": "code",
   "execution_count": 198,
   "metadata": {
    "collapsed": false
   },
   "outputs": [
    {
     "name": "stdout",
     "output_type": "stream",
     "text": [
      "Random Forest CV scores:\n",
      "min: 0.453, mean: 0.476, max: 0.506\n",
      "CPU times: user 198 ms, sys: 120 ms, total: 318 ms\n",
      "Wall time: 12.5 s\n"
     ]
    }
   ],
   "source": [
    "%%time\n",
    "\n",
    "from sklearn.ensemble import RandomForestClassifier\n",
    "\n",
    "rf = RandomForestClassifier(n_estimators=100)\n",
    "scores = cross_val_score(rf, features_array, target, cv=5, n_jobs=4,\n",
    "                         scoring='accuracy')\n",
    "print(\"Random Forest CV scores:\")\n",
    "print(\"min: {:.3f}, mean: {:.3f}, max: {:.3f}\".format(\n",
    "    scores.min(), scores.mean(), scores.max()))"
   ]
  },
  {
   "cell_type": "code",
   "execution_count": 199,
   "metadata": {
    "collapsed": false
   },
   "outputs": [
    {
     "name": "stdout",
     "output_type": "stream",
     "text": [
      "Gradient Boosted Trees CV scores:\n",
      "min: 0.470, mean: 0.498, max: 0.521\n",
      "CPU times: user 206 ms, sys: 148 ms, total: 354 ms\n",
      "Wall time: 42.6 s\n"
     ]
    }
   ],
   "source": [
    "%%time\n",
    "\n",
    "from sklearn.ensemble import GradientBoostingClassifier\n",
    "\n",
    "gb = GradientBoostingClassifier(n_estimators=100, learning_rate=0.1,\n",
    "                                subsample=.8, max_features=.5)\n",
    "scores = cross_val_score(gb, features_array, target, cv=5, n_jobs=4,\n",
    "                         scoring='accuracy')\n",
    "print(\"Gradient Boosted Trees CV scores:\")\n",
    "print(\"min: {:.3f}, mean: {:.3f}, max: {:.3f}\".format(\n",
    "    scores.min(), scores.mean(), scores.max()))"
   ]
  },
  {
   "cell_type": "markdown",
   "metadata": {},
   "source": [
    "Both models seem to do slightly better than the logistic regression model on this data."
   ]
  },
  {
   "cell_type": "markdown",
   "metadata": {},
   "source": [
    "**Exercise**:\n",
    "\n",
    "- Change the value of the learning_rate and other `GradientBoostingClassifier` parameter, can you get a better mean score?\n",
    "\n",
    "- Would treating the `PClass` variable as categorical improve the models performance?\n",
    "\n",
    "- Find out which predictor variables (features) are the most informative for those models.\n",
    "\n",
    "Hints:\n",
    "\n",
    "Fitted ensembles of trees have `feature_importances_` attribute that can be used similarly to the `coef_` attribute of linear models."
   ]
  },
  {
   "cell_type": "code",
   "execution_count": 200,
   "metadata": {
    "collapsed": false
   },
   "outputs": [],
   "source": [
    "# # %load solutions/04B_more_categorical_variables.py\n",
    "# features = pd.concat([data.get(['Fare', 'Age']),\n",
    "#                       pd.get_dummies(data.Sex, prefix='Sex'),\n",
    "#                       pd.get_dummies(data.Pclass, prefix='Pclass'),\n",
    "#                       pd.get_dummies(data.Embarked, prefix='Embarked')],\n",
    "#                      axis=1)\n",
    "# features = features.drop('Sex_male', 1)\n",
    "# features = features.fillna(features.dropna().median())\n",
    "# features.head(5)\n",
    "\n",
    "\n",
    "# logreg = LogisticRegression(C=1)\n",
    "# scores = cross_val_score(logreg, features, target, cv=5, scoring='accuracy')\n",
    "# print(\"Logistic Regression CV scores:\")\n",
    "# print(\"min: {:.3f}, mean: {:.3f}, max: {:.3f}\".format(\n",
    "#     scores.min(), scores.mean(), scores.max()))\n",
    "\n",
    "# gb = GradientBoostingClassifier(n_estimators=100, learning_rate=0.1,\n",
    "#                                 subsample=.8, max_features=.5)\n",
    "# scores = cross_val_score(gb, features, target, cv=5, n_jobs=4,\n",
    "#                          scoring='accuracy')\n",
    "# print(\"Gradient Boosting Trees CV scores:\")\n",
    "# print(\"min: {:.3f}, mean: {:.3f}, max: {:.3f}\".format(\n",
    "#     scores.min(), scores.mean(), scores.max()))\n"
   ]
  },
  {
   "cell_type": "code",
   "execution_count": 201,
   "metadata": {
    "collapsed": false
   },
   "outputs": [],
   "source": [
    "# features = pd.concat([data.get(['Fare', 'Age']),\n",
    "#                       pd.get_dummies(data.Sex, prefix='Sex'),\n",
    "#                       pd.get_dummies(data.Pclass, prefix='Pclass'),\n",
    "#                       pd.get_dummies(data.Embarked, prefix='Embarked')],\n",
    "#                      axis=1)\n",
    "# features = features.drop('Sex_male', 1)\n",
    "# features = features.fillna(features.dropna().median())\n",
    "# features.head(5)\n",
    "\n",
    "\n",
    "# logreg = LogisticRegression(C=1)\n",
    "# scores = cross_val_score(logreg, features, target, cv=5, scoring='accuracy')\n",
    "# print(\"Logistic Regression CV scores:\")\n",
    "# print(\"min: {:.3f}, mean: {:.3f}, max: {:.3f}\".format(\n",
    "#     scores.min(), scores.mean(), scores.max()))\n",
    "\n",
    "# gb = GradientBoostingClassifier(n_estimators=100, learning_rate=0.1,\n",
    "#                                 subsample=.8, max_features=.5)\n",
    "# scores = cross_val_score(gb, features, target, cv=5, n_jobs=4,\n",
    "#                          scoring='accuracy')\n",
    "# print(\"Gradient Boosting Trees CV scores:\")\n",
    "# print(\"min: {:.3f}, mean: {:.3f}, max: {:.3f}\".format(\n",
    "#     scores.min(), scores.mean(), scores.max()))\n"
   ]
  },
  {
   "cell_type": "code",
   "execution_count": 202,
   "metadata": {
    "collapsed": false
   },
   "outputs": [],
   "source": [
    "# # %load solutions/04C_feature_importance.py\n",
    "# gb_new = GradientBoostingClassifier(n_estimators=100, learning_rate=0.1,\n",
    "#                                     subsample=.8, max_features=.5)\n",
    "# gb_new.fit(features, target)\n",
    "# feature_names = features.columns.values\n",
    "# x = np.arange(len(feature_names))\n",
    "# plt.bar(x, gb_new.feature_importances_)\n",
    "# _ = plt.xticks(x + 0.5, feature_names, rotation=30)\n"
   ]
  },
  {
   "cell_type": "code",
   "execution_count": 203,
   "metadata": {
    "collapsed": false
   },
   "outputs": [],
   "source": [
    "# gb_new = GradientBoostingClassifier(n_estimators=100, learning_rate=0.1,\n",
    "#                                     subsample=.8, max_features=.5)\n",
    "# gb_new.fit(features, target)\n",
    "# feature_names = features.columns.values\n",
    "# x = np.arange(len(feature_names))\n",
    "# plt.bar(x, gb_new.feature_importances_)\n",
    "# _ = plt.xticks(x + 0.5, feature_names, rotation=30)\n"
   ]
  },
  {
   "cell_type": "markdown",
   "metadata": {},
   "source": [
    "## Automated parameter tuning"
   ]
  },
  {
   "cell_type": "markdown",
   "metadata": {},
   "source": [
    "Instead of changing the value of the learning rate manually and re-running the cross-validation, we can find the best values for the parameters automatically (assuming we are ready to wait):"
   ]
  },
  {
   "cell_type": "code",
   "execution_count": 205,
   "metadata": {
    "collapsed": false
   },
   "outputs": [],
   "source": [
    "# %%time\n",
    "\n",
    "# from sklearn.grid_search import GridSearchCV\n",
    "\n",
    "# gb = GradientBoostingClassifier(n_estimators=100, subsample=.8)\n",
    "\n",
    "# params = {\n",
    "#     'learning_rate': [0.05, 0.1, 0.5],\n",
    "#     'max_features': [0.5, 1],\n",
    "#     'max_depth': [3, 4, 5],\n",
    "# }\n",
    "# gs = GridSearchCV(gb, params, cv=5, scoring='roc_auc', n_jobs=4)\n",
    "# gs.fit(features_array, target)"
   ]
  },
  {
   "cell_type": "markdown",
   "metadata": {},
   "source": [
    "Let us sort the models by mean validation score:"
   ]
  },
  {
   "cell_type": "code",
   "execution_count": 206,
   "metadata": {
    "collapsed": false
   },
   "outputs": [],
   "source": [
    "# sorted(gs.grid_scores_, key=lambda x: x.mean_validation_score, reverse=True)"
   ]
  },
  {
   "cell_type": "code",
   "execution_count": 207,
   "metadata": {
    "collapsed": false
   },
   "outputs": [],
   "source": [
    "# gs.best_score_"
   ]
  },
  {
   "cell_type": "code",
   "execution_count": 208,
   "metadata": {
    "collapsed": false
   },
   "outputs": [],
   "source": [
    "# gs.best_params_"
   ]
  },
  {
   "cell_type": "markdown",
   "metadata": {},
   "source": [
    "We should note that the mean scores are very close to one another and almost always within one standard deviation of one another. This means that all those parameters are quite reasonable. The only parameter of importance seems to be the `learning_rate`: 0.5 seems to be a bit too high."
   ]
  },
  {
   "cell_type": "markdown",
   "metadata": {},
   "source": [
    "## Avoiding data snooping with pipelines"
   ]
  },
  {
   "cell_type": "markdown",
   "metadata": {},
   "source": [
    "When doing imputation in pandas, prior to computing the train test split we use data from the test to improve the accuracy of the median value that we impute on the training set. This is actually cheating. To avoid this we should compute the median of the features on the training fold and use that median value to do the imputation both on the training and validation fold for a given CV split.\n",
    "\n",
    "To do this we can prepare the features as previously but without the imputation: we just replace missing values by the -1 marker value:"
   ]
  },
  {
   "cell_type": "code",
   "execution_count": 72,
   "metadata": {
    "collapsed": false
   },
   "outputs": [
    {
     "data": {
      "text/html": [
       "<div>\n",
       "<table border=\"1\" class=\"dataframe\">\n",
       "  <thead>\n",
       "    <tr style=\"text-align: right;\">\n",
       "      <th></th>\n",
       "      <th>Fare</th>\n",
       "      <th>Age</th>\n",
       "      <th>Sex_female</th>\n",
       "      <th>Pclass_1</th>\n",
       "      <th>Pclass_2</th>\n",
       "      <th>Pclass_3</th>\n",
       "      <th>Embarked_C</th>\n",
       "      <th>Embarked_Q</th>\n",
       "      <th>Embarked_S</th>\n",
       "    </tr>\n",
       "  </thead>\n",
       "  <tbody>\n",
       "    <tr>\n",
       "      <th>0</th>\n",
       "      <td>7.2500</td>\n",
       "      <td>22</td>\n",
       "      <td>0</td>\n",
       "      <td>0</td>\n",
       "      <td>0</td>\n",
       "      <td>1</td>\n",
       "      <td>0</td>\n",
       "      <td>0</td>\n",
       "      <td>1</td>\n",
       "    </tr>\n",
       "    <tr>\n",
       "      <th>1</th>\n",
       "      <td>71.2833</td>\n",
       "      <td>38</td>\n",
       "      <td>1</td>\n",
       "      <td>1</td>\n",
       "      <td>0</td>\n",
       "      <td>0</td>\n",
       "      <td>1</td>\n",
       "      <td>0</td>\n",
       "      <td>0</td>\n",
       "    </tr>\n",
       "    <tr>\n",
       "      <th>2</th>\n",
       "      <td>7.9250</td>\n",
       "      <td>26</td>\n",
       "      <td>1</td>\n",
       "      <td>0</td>\n",
       "      <td>0</td>\n",
       "      <td>1</td>\n",
       "      <td>0</td>\n",
       "      <td>0</td>\n",
       "      <td>1</td>\n",
       "    </tr>\n",
       "    <tr>\n",
       "      <th>3</th>\n",
       "      <td>53.1000</td>\n",
       "      <td>35</td>\n",
       "      <td>1</td>\n",
       "      <td>1</td>\n",
       "      <td>0</td>\n",
       "      <td>0</td>\n",
       "      <td>0</td>\n",
       "      <td>0</td>\n",
       "      <td>1</td>\n",
       "    </tr>\n",
       "    <tr>\n",
       "      <th>4</th>\n",
       "      <td>8.0500</td>\n",
       "      <td>35</td>\n",
       "      <td>0</td>\n",
       "      <td>0</td>\n",
       "      <td>0</td>\n",
       "      <td>1</td>\n",
       "      <td>0</td>\n",
       "      <td>0</td>\n",
       "      <td>1</td>\n",
       "    </tr>\n",
       "  </tbody>\n",
       "</table>\n",
       "</div>"
      ],
      "text/plain": [
       "      Fare  Age  Sex_female  Pclass_1  Pclass_2  Pclass_3  Embarked_C  \\\n",
       "0   7.2500   22           0         0         0         1           0   \n",
       "1  71.2833   38           1         1         0         0           1   \n",
       "2   7.9250   26           1         0         0         1           0   \n",
       "3  53.1000   35           1         1         0         0           0   \n",
       "4   8.0500   35           0         0         0         1           0   \n",
       "\n",
       "   Embarked_Q  Embarked_S  \n",
       "0           0           1  \n",
       "1           0           0  \n",
       "2           0           1  \n",
       "3           0           1  \n",
       "4           0           1  "
      ]
     },
     "execution_count": 72,
     "metadata": {},
     "output_type": "execute_result"
    }
   ],
   "source": [
    "features = pd.concat([data[['Fare', 'Age']],\n",
    "                      pd.get_dummies(data['Sex'], prefix='Sex'),\n",
    "                      pd.get_dummies(data['Pclass'], prefix='Pclass'),\n",
    "                      pd.get_dummies(data['Embarked'], prefix='Embarked')],\n",
    "                     axis=1)\n",
    "features = features.drop('Sex_male', 1)\n",
    "\n",
    "# Because of the following bug we cannot use NaN as the missing\n",
    "# value marker, use a negative value as marker instead:\n",
    "# https://github.com/scikit-learn/scikit-learn/issues/3044\n",
    "features = features.fillna(-1)\n",
    "features.head(5)"
   ]
  },
  {
   "cell_type": "markdown",
   "metadata": {},
   "source": [
    "We can now use the `Imputer` transformer of scikit-learn to find the median value on the training set and apply it on missing values of both the training set and the test set."
   ]
  },
  {
   "cell_type": "code",
   "execution_count": 73,
   "metadata": {
    "collapsed": false
   },
   "outputs": [],
   "source": [
    "from sklearn.cross_validation import train_test_split\n",
    "\n",
    "X_train, X_test, y_train, y_test = train_test_split(features.values, target, random_state=0)"
   ]
  },
  {
   "cell_type": "code",
   "execution_count": 74,
   "metadata": {
    "collapsed": false
   },
   "outputs": [
    {
     "data": {
      "text/plain": [
       "Imputer(axis=0, copy=True, missing_values=-1, strategy='median', verbose=0)"
      ]
     },
     "execution_count": 74,
     "metadata": {},
     "output_type": "execute_result"
    }
   ],
   "source": [
    "from sklearn.preprocessing import Imputer\n",
    "\n",
    "imputer = Imputer(strategy='median', missing_values=-1)\n",
    "\n",
    "imputer.fit(X_train)"
   ]
  },
  {
   "cell_type": "markdown",
   "metadata": {},
   "source": [
    "The median age computed on the training set is stored in the `statistics_` attribute."
   ]
  },
  {
   "cell_type": "code",
   "execution_count": 75,
   "metadata": {
    "collapsed": false
   },
   "outputs": [
    {
     "data": {
      "text/plain": [
       "array([ 14.5,  29. ,   0. ,   0. ,   0. ,   1. ,   0. ,   0. ,   1. ])"
      ]
     },
     "execution_count": 75,
     "metadata": {},
     "output_type": "execute_result"
    }
   ],
   "source": [
    "imputer.statistics_"
   ]
  },
  {
   "cell_type": "code",
   "execution_count": 76,
   "metadata": {
    "collapsed": false
   },
   "outputs": [
    {
     "data": {
      "text/plain": [
       "array(['Fare', 'Age', 'Sex_female', 'Pclass_1', 'Pclass_2', 'Pclass_3',\n",
       "       'Embarked_C', 'Embarked_Q', 'Embarked_S'], dtype=object)"
      ]
     },
     "execution_count": 76,
     "metadata": {},
     "output_type": "execute_result"
    }
   ],
   "source": [
    "features.columns.values"
   ]
  },
  {
   "cell_type": "markdown",
   "metadata": {},
   "source": [
    "Imputation can now happen by calling  the transform method:"
   ]
  },
  {
   "cell_type": "code",
   "execution_count": 77,
   "metadata": {
    "collapsed": false
   },
   "outputs": [],
   "source": [
    "X_train_imputed = imputer.transform(X_train)\n",
    "X_test_imputed = imputer.transform(X_test)"
   ]
  },
  {
   "cell_type": "code",
   "execution_count": 78,
   "metadata": {
    "collapsed": false
   },
   "outputs": [
    {
     "data": {
      "text/plain": [
       "True"
      ]
     },
     "execution_count": 78,
     "metadata": {},
     "output_type": "execute_result"
    }
   ],
   "source": [
    "np.any(X_train == -1)"
   ]
  },
  {
   "cell_type": "code",
   "execution_count": 79,
   "metadata": {
    "collapsed": false
   },
   "outputs": [
    {
     "data": {
      "text/plain": [
       "False"
      ]
     },
     "execution_count": 79,
     "metadata": {},
     "output_type": "execute_result"
    }
   ],
   "source": [
    "np.any(X_train_imputed == -1)"
   ]
  },
  {
   "cell_type": "code",
   "execution_count": 80,
   "metadata": {
    "collapsed": false
   },
   "outputs": [
    {
     "data": {
      "text/plain": [
       "True"
      ]
     },
     "execution_count": 80,
     "metadata": {},
     "output_type": "execute_result"
    }
   ],
   "source": [
    "np.any(X_test == -1)"
   ]
  },
  {
   "cell_type": "code",
   "execution_count": 81,
   "metadata": {
    "collapsed": false
   },
   "outputs": [
    {
     "data": {
      "text/plain": [
       "False"
      ]
     },
     "execution_count": 81,
     "metadata": {},
     "output_type": "execute_result"
    }
   ],
   "source": [
    "np.any(X_test_imputed == -1)"
   ]
  },
  {
   "cell_type": "markdown",
   "metadata": {},
   "source": [
    "We can now use a pipeline that wraps an imputer transformer and the classifier itself:"
   ]
  },
  {
   "cell_type": "code",
   "execution_count": 82,
   "metadata": {
    "collapsed": false
   },
   "outputs": [
    {
     "name": "stdout",
     "output_type": "stream",
     "text": [
      "0.798882681564 0.823857227514 0.848314606742\n"
     ]
    }
   ],
   "source": [
    "from sklearn.pipeline import Pipeline\n",
    "\n",
    "imputer = Imputer(strategy='median', missing_values=-1)\n",
    "\n",
    "classifier = GradientBoostingClassifier(n_estimators=100, learning_rate=0.1,\n",
    "                                        subsample=.8, max_features=.5,\n",
    "                                        random_state=0)\n",
    "\n",
    "pipeline = Pipeline([\n",
    "    ('imp', imputer),\n",
    "    ('clf', classifier),\n",
    "])\n",
    "\n",
    "scores = cross_val_score(pipeline, features.values, target, cv=5, n_jobs=4,\n",
    "                         scoring='accuracy', )\n",
    "print(scores.min(), scores.mean(), scores.max())"
   ]
  },
  {
   "cell_type": "markdown",
   "metadata": {},
   "source": [
    "The mean cross-validation is slightly lower than we used the imputation on the whole data as we did earlier although not by much. This means that in this case the data-snooping was not really helping the model cheat by much.\n",
    "\n",
    "Let us re-run the grid search, this time on the pipeline. Note that thanks to the pipeline structure we can optimize the interaction of the imputation method with the parameters of the downstream classifier without cheating:"
   ]
  },
  {
   "cell_type": "code",
   "execution_count": 83,
   "metadata": {
    "collapsed": false
   },
   "outputs": [
    {
     "name": "stdout",
     "output_type": "stream",
     "text": [
      "CPU times: user 425 ms, sys: 46.7 ms, total: 471 ms\n",
      "Wall time: 3.03 s\n"
     ]
    }
   ],
   "source": [
    "%%time\n",
    "\n",
    "params = {\n",
    "    'imp__strategy': ['mean', 'median'],\n",
    "    'clf__max_features': [0.5, 1],\n",
    "    'clf__max_depth': [3, 4, 5],\n",
    "}\n",
    "gs = GridSearchCV(pipeline, params, cv=5, scoring='roc_auc', n_jobs=4)\n",
    "gs.fit(X_train, y_train)"
   ]
  },
  {
   "cell_type": "code",
   "execution_count": 84,
   "metadata": {
    "collapsed": false
   },
   "outputs": [
    {
     "data": {
      "text/plain": [
       "[mean: 0.86740, std: 0.02681, params: {'clf__max_features': 0.5, 'clf__max_depth': 3, 'imp__strategy': 'median'},\n",
       " mean: 0.86680, std: 0.02821, params: {'clf__max_features': 0.5, 'clf__max_depth': 5, 'imp__strategy': 'median'},\n",
       " mean: 0.86583, std: 0.02757, params: {'clf__max_features': 0.5, 'clf__max_depth': 4, 'imp__strategy': 'mean'},\n",
       " mean: 0.86545, std: 0.02961, params: {'clf__max_features': 0.5, 'clf__max_depth': 4, 'imp__strategy': 'median'},\n",
       " mean: 0.86477, std: 0.02559, params: {'clf__max_features': 0.5, 'clf__max_depth': 3, 'imp__strategy': 'mean'},\n",
       " mean: 0.85962, std: 0.02592, params: {'clf__max_features': 1, 'clf__max_depth': 4, 'imp__strategy': 'mean'},\n",
       " mean: 0.85915, std: 0.02524, params: {'clf__max_features': 1, 'clf__max_depth': 3, 'imp__strategy': 'median'},\n",
       " mean: 0.85886, std: 0.03214, params: {'clf__max_features': 0.5, 'clf__max_depth': 5, 'imp__strategy': 'mean'},\n",
       " mean: 0.85656, std: 0.02388, params: {'clf__max_features': 1, 'clf__max_depth': 3, 'imp__strategy': 'mean'},\n",
       " mean: 0.85557, std: 0.02498, params: {'clf__max_features': 1, 'clf__max_depth': 4, 'imp__strategy': 'median'},\n",
       " mean: 0.85482, std: 0.02607, params: {'clf__max_features': 1, 'clf__max_depth': 5, 'imp__strategy': 'mean'},\n",
       " mean: 0.85471, std: 0.02594, params: {'clf__max_features': 1, 'clf__max_depth': 5, 'imp__strategy': 'median'}]"
      ]
     },
     "execution_count": 84,
     "metadata": {},
     "output_type": "execute_result"
    }
   ],
   "source": [
    "sorted(gs.grid_scores_, key=lambda x: x.mean_validation_score, reverse=True)"
   ]
  },
  {
   "cell_type": "code",
   "execution_count": 85,
   "metadata": {
    "collapsed": false
   },
   "outputs": [
    {
     "data": {
      "text/plain": [
       "0.86740320952841032"
      ]
     },
     "execution_count": 85,
     "metadata": {},
     "output_type": "execute_result"
    }
   ],
   "source": [
    "gs.best_score_"
   ]
  },
  {
   "cell_type": "code",
   "execution_count": 86,
   "metadata": {
    "collapsed": false
   },
   "outputs": [
    {
     "data": {
      "image/png": "[encoded data removed]",
      "text/plain": [
       "<matplotlib.figure.Figure at 0x7f0b71add470>"
      ]
     },
     "metadata": {},
     "output_type": "display_data"
    }
   ],
   "source": [
    "plot_roc_curve(y_test, gs.predict_proba(X_test))"
   ]
  },
  {
   "cell_type": "code",
   "execution_count": 87,
   "metadata": {
    "collapsed": false
   },
   "outputs": [
    {
     "data": {
      "text/plain": [
       "{'clf__max_depth': 3, 'clf__max_features': 0.5, 'imp__strategy': 'median'}"
      ]
     },
     "execution_count": 87,
     "metadata": {},
     "output_type": "execute_result"
    }
   ],
   "source": [
    "gs.best_params_"
   ]
  },
  {
   "cell_type": "markdown",
   "metadata": {},
   "source": [
    "From this search we can conclude that the imputation by the 'mean' strategy is generally a slightly better imputation strategy when training a GBRT model on this data."
   ]
  },
  {
   "cell_type": "markdown",
   "metadata": {},
   "source": [
    "## Further integrating sklearn and pandas"
   ]
  },
  {
   "cell_type": "markdown",
   "metadata": {},
   "source": [
    "Helper tool for better sklearn / pandas integration: https://github.com/paulgb/sklearn-pandas by making it possible to embed the feature construction from the raw dataframe directly inside a pipeline."
   ]
  },
  {
   "cell_type": "markdown",
   "metadata": {},
   "source": [
    "### Credits"
   ]
  },
  {
   "cell_type": "markdown",
   "metadata": {},
   "source": [
    "Thanks to:\n",
    "\n",
    "- Kaggle for setting up the Titanic challenge.\n",
    "\n",
    "- This blog post by Philippe Adjiman for inspiration:\n",
    "\n",
    "http://www.philippeadjiman.com/blog/2013/09/12/a-data-science-exploration-from-the-titanic-in-r/"
   ]
  }
 ],
 "metadata": {
  "kernelspec": {
   "display_name": "Python 3",
   "language": "python",
   "name": "python3"
  },
  "language_info": {
   "codemirror_mode": {
    "name": "ipython",
    "version": 3
   },
   "file_extension": ".py",
   "mimetype": "text/x-python",
   "name": "python",
   "nbconvert_exporter": "python",
   "pygments_lexer": "ipython3",
   "version": "3.4.3"
  }
 },
 "nbformat": 4,
 "nbformat_minor": 0
}
